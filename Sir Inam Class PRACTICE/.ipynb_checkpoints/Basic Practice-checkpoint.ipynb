{
 "cells": [
  {
   "cell_type": "code",
   "execution_count": 1,
   "id": "51855834",
   "metadata": {},
   "outputs": [
    {
     "name": "stdout",
     "output_type": "stream",
     "text": [
      "enter first number: 100\n",
      "enter second number: 50\n",
      "the sum: 150\n"
     ]
    }
   ],
   "source": [
    "print(\"the sum:\",int(input(\"enter first number: \"))\n",
    "      + int(input(\"enter second number: \")))"
   ]
  },
  {
   "cell_type": "code",
   "execution_count": 3,
   "id": "befd0d1f",
   "metadata": {},
   "outputs": [
    {
     "name": "stdout",
     "output_type": "stream",
     "text": [
      "enter your namesiffat \n",
      "enter yor city city\n",
      "siffat  city"
     ]
    }
   ],
   "source": [
    "name=input(\"enter your name: \")\n",
    "city=input(\"enter yor city: \")\n",
    "print(name,end=' ')\n",
    "print(city,end='')"
   ]
  },
  {
   "cell_type": "code",
   "execution_count": 4,
   "id": "8a8c83d5",
   "metadata": {},
   "outputs": [
    {
     "name": "stdout",
     "output_type": "stream",
     "text": [
      "x+y 231\n"
     ]
    }
   ],
   "source": [
    "x=230\n",
    "y=bool(45)    #45 will convert in true and true value is 1\n",
    "print(\"x+y\",x+y)     #Y VALUE WILL BE 1"
   ]
  },
  {
   "cell_type": "code",
   "execution_count": 5,
   "id": "9c757932",
   "metadata": {},
   "outputs": [
    {
     "name": "stdout",
     "output_type": "stream",
     "text": [
      "2True\n"
     ]
    }
   ],
   "source": [
    "x=\"2\"\n",
    "y=str(bool(48))      #here we convert bool value to str and will give \n",
    "print(x+y)             # TRUE IN RESULT"
   ]
  },
  {
   "cell_type": "code",
   "execution_count": 10,
   "id": "daa2ff48",
   "metadata": {},
   "outputs": [
    {
     "name": "stdout",
     "output_type": "stream",
     "text": [
      "BCSTrue\n"
     ]
    }
   ],
   "source": [
    "x=\"BCS\"\n",
    "y= str(bool(3.5))  # here we convert float to bool and bool is\n",
    "print(x+y)         # converted to string\n"
   ]
  },
  {
   "cell_type": "code",
   "execution_count": 11,
   "id": "487aaab0",
   "metadata": {},
   "outputs": [
    {
     "name": "stdout",
     "output_type": "stream",
     "text": [
      "2(4.6+0j)\n"
     ]
    }
   ],
   "source": [
    "x=\"2\"\n",
    "y=str(complex(4.6))  #here both strings so concatenation take place\n",
    "print(x+y)           #our result is converted to complex number"
   ]
  },
  {
   "cell_type": "code",
   "execution_count": 15,
   "id": "264033d7",
   "metadata": {},
   "outputs": [
    {
     "ename": "TypeError",
     "evalue": "can't multiply sequence by non-int of type 'float'",
     "output_type": "error",
     "traceback": [
      "\u001b[0;31m---------------------------------------------------------------------------\u001b[0m",
      "\u001b[0;31mTypeError\u001b[0m                                 Traceback (most recent call last)",
      "Cell \u001b[0;32mIn[15], line 3\u001b[0m\n\u001b[1;32m      1\u001b[0m x\u001b[38;5;241m=\u001b[39m\u001b[38;5;124m\"\u001b[39m\u001b[38;5;124mcr\u001b[39m\u001b[38;5;124m\"\u001b[39m\n\u001b[1;32m      2\u001b[0m y\u001b[38;5;241m=\u001b[39m\u001b[38;5;241m5.0\u001b[39m            \u001b[38;5;66;03m#     \u001b[39;00m\n\u001b[0;32m----> 3\u001b[0m \u001b[38;5;28mprint\u001b[39m(x\u001b[38;5;241m*\u001b[39my)\n",
      "\u001b[0;31mTypeError\u001b[0m: can't multiply sequence by non-int of type 'float'"
     ]
    }
   ],
   "source": [
    "x=\"cr\"\n",
    "y=5.0            #we cant multiply str with float only can do it with int\n",
    "print(x*y)"
   ]
  },
  {
   "cell_type": "code",
   "execution_count": null,
   "id": "118a8c6e",
   "metadata": {},
   "outputs": [],
   "source": []
  },
  {
   "cell_type": "code",
   "execution_count": null,
   "id": "756557d4",
   "metadata": {},
   "outputs": [],
   "source": []
  }
 ],
 "metadata": {
  "kernelspec": {
   "display_name": "Python 3 (ipykernel)",
   "language": "python",
   "name": "python3"
  },
  "language_info": {
   "codemirror_mode": {
    "name": "ipython",
    "version": 3
   },
   "file_extension": ".py",
   "mimetype": "text/x-python",
   "name": "python",
   "nbconvert_exporter": "python",
   "pygments_lexer": "ipython3",
   "version": "3.11.5"
  }
 },
 "nbformat": 4,
 "nbformat_minor": 5
}
