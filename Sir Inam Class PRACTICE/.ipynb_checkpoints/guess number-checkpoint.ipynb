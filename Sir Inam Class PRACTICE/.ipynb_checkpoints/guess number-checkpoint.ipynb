{
 "cells": [
  {
   "cell_type": "code",
   "execution_count": 1,
   "id": "8c806111",
   "metadata": {},
   "outputs": [
    {
     "name": "stdout",
     "output_type": "stream",
     "text": [
      "Number is being generated\n",
      "#############################\n",
      "Done\n",
      "\n",
      "97\n",
      "Enter your guess: 97\n",
      "\n",
      "You entered correct guess which is 97\n"
     ]
    }
   ],
   "source": [
    "import random\n",
    "import time\n",
    "\n",
    "count=1\n",
    "print(\"Number is being generated\")\n",
    "while count<30:\n",
    "    print(\"#\", end='')\n",
    "    time.sleep(0.1)\n",
    "    count+=1\n",
    "print(\"\\nDone\\n\")\n",
    "num=random.randint(0,100)\n",
    "# print(num)\n",
    "guess=0\n",
    "while guess!=num:\n",
    "#     print(\"\\nenter your guess\")\n",
    "    guess1=int(input(\"Enter your guess: \"))\n",
    "    if guess1>100 or guess1<0:\n",
    "        print(\"Number out of range.\")\n",
    "        break\n",
    "    elif guess1<num:\n",
    "        print(\"\\nYour guess number is smaller.\\n\")\n",
    "    elif guess1>num:\n",
    "        print(\"\\nYour guess is larger.\\n\")\n",
    "    elif guess1==num:\n",
    "        print(\"\\nYou entered correct guess which is\",guess1)\n",
    "        break\n",
    "    guess+=1\n",
    "    \n",
    "    \n",
    "\n"
   ]
  },
  {
   "cell_type": "code",
   "execution_count": 1,
   "id": "9ba7449d",
   "metadata": {},
   "outputs": [
    {
     "name": "stdout",
     "output_type": "stream",
     "text": [
      "Number is being generated\n",
      "#############################\tDone\n",
      "Enter your guess45\n",
      "\n",
      "Your guess is larger\n",
      "Enter your guess30\n",
      "\n",
      "Your guess number is smaller\n",
      "Enter your guess35\n",
      "\n",
      "Your guess number is smaller\n",
      "Enter your guess40\n",
      "\n",
      "Your guess is larger\n",
      "Enter your guess37\n",
      "\n",
      "Your guess is larger\n",
      "\n",
      "You lost the game\n"
     ]
    }
   ],
   "source": [
    "import random\n",
    "import time\n",
    "\n",
    "count=1\n",
    "print(\"Number is being generated\")\n",
    "while count<30:\n",
    "    print(\"#\", end='')\n",
    "    time.sleep(0.1)\n",
    "    count+=1\n",
    "print(\"\\nDone\\n\")\n",
    "num=random.randint(0,100)\n",
    "guess=0\n",
    "while guess!=num:\n",
    "#     print(\"\\nenter your guess\")\n",
    "    guess1=int(input(\"\\nEnter your guess: \"))\n",
    "    if guess1>100 or guess1<0:\n",
    "        print(\"Number out of range.\")\n",
    "        break\n",
    "    elif guess1<num:\n",
    "        print(\"\\nYour guess number is smaller.\")\n",
    "    elif guess1>num:\n",
    "        print(\"\\nYour guess is larger.\")\n",
    "    elif guess1==num:\n",
    "        print(\"\\nYou entered correct guess which is\",guess1)\n",
    "        break\n",
    "    guess+=1\n",
    "    if guess==5:\n",
    "        print(\"\\nYou lost the game.\") \n",
    "        break\n",
    "    \n",
    "    \n",
    "\n"
   ]
  },
  {
   "cell_type": "markdown",
   "id": "e98cf08d",
   "metadata": {},
   "source": []
  }
 ],
 "metadata": {
  "kernelspec": {
   "display_name": "Python 3 (ipykernel)",
   "language": "python",
   "name": "python3"
  },
  "language_info": {
   "codemirror_mode": {
    "name": "ipython",
    "version": 3
   },
   "file_extension": ".py",
   "mimetype": "text/x-python",
   "name": "python",
   "nbconvert_exporter": "python",
   "pygments_lexer": "ipython3",
   "version": "3.11.5"
  }
 },
 "nbformat": 4,
 "nbformat_minor": 5
}
