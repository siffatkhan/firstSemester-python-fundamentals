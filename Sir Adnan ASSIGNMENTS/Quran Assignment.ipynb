{
 "cells": [
  {
   "cell_type": "code",
   "execution_count": null,
   "id": "0219c701",
   "metadata": {},
   "outputs": [
    {
     "name": "stdout",
     "output_type": "stream",
     "text": [
      "\n",
      "CHOOSE A NUMBER REGARDING QURAN STATISTICS\n",
      "\n",
      "1. TOTAL NO OF PARAS IN QURAN\n",
      "2. TOTAL NO OF SURAHS IN QURAN\n",
      "3. TOTAL NO OF AYATS IN QURAN \n",
      "4. TOTAL NO OF RUKOS IN QURAN\n",
      "5. TOTAL NO OF MAKKI SURAH IN\n",
      "6. TOTAL NO OF MADNI SURAHS IN QURAN\n",
      "7. TOTAL NO OF SAJDAS IN QURAN\n",
      "8. QUIT\n",
      "Enter the number from 1 to 8: 7\n",
      "\n",
      "7.TOTAL NO OF SAJDAH IN QURAN: 14\n",
      "\n"
     ]
    }
   ],
   "source": [
    "\n",
    "print(\"\\nCHOOSE A NUMBER REGARDING QURAN STATISTICS\\n\\n1. TOTAL NO OF PARAS IN QURAN\\n2. TOTAL NO OF SURAHS IN QURAN\\n3. TOTAL NO OF AYATS IN QURAN \\n4. TOTAL NO OF RUKOS IN QURAN\\n5. TOTAL NO OF MAKKI SURAH IN\\n6. TOTAL NO OF MADNI SURAHS IN QURAN\\n7. TOTAL NO OF SAJDAS IN QURAN\\n8. QUIT\")\n",
    "x = 'y'\n",
    "while x=='y' :\n",
    "    number = int(input(\"Enter the number from 1 to 8: \"))\n",
    "    if number==1:\n",
    "        print(\"\\n1.TOTAL NO OF PARAS IN QURAN: 30\\n\")\n",
    "        x=input(\"ENTER y IF YOU WANT TO REPEAT \\n\")\n",
    "    elif number==2:\n",
    "        print(\"\\n2.TOTAL NO OF SURAHS IN QURAN: 114\\n\")\n",
    "        x = input(\"ENTER y IF YOU WANT TO REPEAT \\n\")\n",
    "    elif number==3:\n",
    "        print(\"\\n3.TOTAL NO OF AYATS IN QURAN: 6666\\n\")\n",
    "        x = input(\"ENTER y IF YOU WANT TO REPEAT \\n\")\n",
    "    elif number==4:\n",
    "        print(\"\\n4.TOTAL NO OF RUKOS IN QURAN: 540\\n\")\n",
    "        x = input(\"ENTER y IF YOU WANT TO REPEAT \\n\")\n",
    "    elif number==5:\n",
    "        print(\"\\n5.TOTAL NO OF MAKKI SURAHS IN QURAN: 86\\n\")\n",
    "        x = input(\"ENTER y IF YOU WANT TO REPEAT \\n\")\n",
    "    elif number==6:\n",
    "        print(\"\\n6.TOTAL NO OF MADNI SURAHS  IN QURAN: 28\\n\")\n",
    "        x = input(\"ENTER y IF YOU WANT TO REPEAT \\n\")\n",
    "    elif number==7:\n",
    "        print(\"\\n7.TOTAL NO OF SAJDAH IN QURAN: 14\\n\")\n",
    "        x = input(\"ENTER y IF YOU WANT TO REPEAT \\n\")\n",
    "    else :\n",
    "        print(\"\\nQUIT\")"
   ]
  },
  {
   "cell_type": "code",
   "execution_count": null,
   "id": "6257830b",
   "metadata": {},
   "outputs": [
    {
     "name": "stdout",
     "output_type": "stream",
     "text": [
      "\n",
      "CHOOSE A NUMBER REGARDING QURAN STATISTICS\n",
      "\n",
      "1. TOTAL NO OF PARAS IN QURAN\n",
      "2. TOTAL NO OF SURAHS IN QURAN\n",
      "3. TOTAL NO OF AYATS IN QURAN \n",
      "4. TOTAL NO OF RUKOS IN QURAN\n",
      "5. TOTAL NO OF MAKKI SURAH IN\n",
      "6. TOTAL NO OF MADNI SURAHS IN QURAN\n",
      "7. TOTAL NO OF SAJDAS IN QURAN\n",
      "8. QUIT\n",
      "Enter the number from 1 to 8: 4\n",
      "\n",
      "4.TOTAL NO OF RUKOS IN QURAN: 540\n",
      "\n"
     ]
    }
   ],
   "source": [
    "\n",
    "print(\"\\nCHOOSE A NUMBER REGARDING QURAN STATISTICS\\n\\n1. TOTAL NO OF PARAS IN QURAN\\n2. TOTAL NO OF SURAHS IN QURAN\\n3. TOTAL NO OF AYATS IN QURAN \\n4. TOTAL NO OF RUKOS IN QURAN\\n5. TOTAL NO OF MAKKI SURAH IN\\n6. TOTAL NO OF MADNI SURAHS IN QURAN\\n7. TOTAL NO OF SAJDAS IN QURAN\\n8. QUIT\")\n",
    "\n",
    "while True:\n",
    "    number = int(input(\"Enter the number from 1 to 8: \"))\n",
    "    if number==0:\n",
    "        continue\n",
    "    elif number==1:\n",
    "        print(\"\\n1.TOTAL NO OF PARAS IN QURAN: 30\\n\")\n",
    "        \n",
    "    elif number==2:\n",
    "        print(\"\\n2.TOTAL NO OF SURAHS IN QURAN: 114\\n\")\n",
    "        \n",
    "    elif number==3:\n",
    "        print(\"\\n3.TOTAL NO OF AYATS IN QURAN: 6666\\n\")\n",
    "        \n",
    "    elif number==4:\n",
    "        print(\"\\n4.TOTAL NO OF RUKOS IN QURAN: 540\\n\")\n",
    "        \n",
    "    elif number==5:\n",
    "        print(\"\\n5.TOTAL NO OF MAKKI SURAHS IN QURAN: 86\\n\")\n",
    "        \n",
    "    elif number==6:\n",
    "        print(\"\\n6.TOTAL NO OF MADNI SURAHS  IN QURAN: 28\\n\")\n",
    "        \n",
    "    elif number==7:\n",
    "        print(\"\\n7.TOTAL NO OF SAJDAH IN QURAN: 14\\n\")\n",
    "        \n",
    "    elif number==8:\n",
    "        break"
   ]
  },
  {
   "cell_type": "code",
   "execution_count": 2,
   "id": "6dff368d",
   "metadata": {},
   "outputs": [
    {
     "name": "stdout",
     "output_type": "stream",
     "text": [
      "CHOOSE A NUMBER REGARDING QURAN STATISTICS\n",
      " 1. TOTAL NO OF PARAS IN QURAN\n",
      " 2. TOTAL NO OF SURAHS IN QURAN\n",
      " 3. TOTAL NO OF AYATS IN QURAN  \n",
      " 4. TOTAL NO OF RUKOS IN QURAN\n",
      " 5. TOTAL NO OF MAKKI SURAH IN \n",
      " 6. TOTAL NO OF MADNI SURAHS IN QURAN\n",
      " 7. TOTAL NO OF SAJDAS IN QURAN\n",
      " 8. QUIT\n",
      "\n",
      "CHOOSE A NUMBER REGARDING QURAN STATISTICS\n",
      "\n",
      "1. TOTAL NO OF PARAS IN QURAN\n",
      "2. TOTAL NO OF SURAHS IN QURAN\n",
      "3. TOTAL NO OF AYATS IN QURAN \n",
      "4. TOTAL NO OF RUKOS IN QURAN\n",
      "5. TOTAL NO OF MAKKI SURAH IN\n",
      "6. TOTAL NO OF MADNI SURAHS IN QURAN\n",
      "7. TOTAL NO OF SAJDAS IN QURAN\n",
      "8. QUIT\n"
     ]
    }
   ],
   "source": [
    "#TWO WAYS TO WRITE PRINT STATEMENT ON MULTIPLE LINE\n",
    "\n",
    "\n",
    "print('''CHOOSE A NUMBER REGARDING QURAN STATISTICS\n",
    " 1. TOTAL NO OF PARAS IN QURAN\n",
    " 2. TOTAL NO OF SURAHS IN QURAN\n",
    " 3. TOTAL NO OF AYATS IN QURAN  \n",
    " 4. TOTAL NO OF RUKOS IN QURAN\n",
    " 5. TOTAL NO OF MAKKI SURAH IN \n",
    " 6. TOTAL NO OF MADNI SURAHS IN QURAN\n",
    " 7. TOTAL NO OF SAJDAS IN QURAN\n",
    " 8. QUIT''')\n",
    "\n",
    "\n",
    "print(\"\\nCHOOSE A NUMBER REGARDING QURAN STATISTICS\\n\\n1. TOTAL NO OF PARAS IN QURAN\\n2. TOTAL NO OF SURAHS IN QURAN\\n3. TOTAL NO OF AYATS IN QURAN \\n4. TOTAL NO OF RUKOS IN QURAN\\n5. TOTAL NO OF MAKKI SURAH IN\\n6. TOTAL NO OF MADNI SURAHS IN QURAN\\n7. TOTAL NO OF SAJDAS IN QURAN\\n8. QUIT\")"
   ]
  },
  {
   "cell_type": "code",
   "execution_count": null,
   "id": "88d37a84",
   "metadata": {},
   "outputs": [],
   "source": []
  }
 ],
 "metadata": {
  "kernelspec": {
   "display_name": "Python 3 (ipykernel)",
   "language": "python",
   "name": "python3"
  },
  "language_info": {
   "codemirror_mode": {
    "name": "ipython",
    "version": 3
   },
   "file_extension": ".py",
   "mimetype": "text/x-python",
   "name": "python",
   "nbconvert_exporter": "python",
   "pygments_lexer": "ipython3",
   "version": "3.11.5"
  }
 },
 "nbformat": 4,
 "nbformat_minor": 5
}
