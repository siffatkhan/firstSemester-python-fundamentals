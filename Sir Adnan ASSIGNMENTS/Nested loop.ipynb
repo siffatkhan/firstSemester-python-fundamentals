{
 "cells": [
  {
   "cell_type": "markdown",
   "id": "5b944ab4",
   "metadata": {},
   "source": [
    "# SIFFAT ULLAH BCS-(B)"
   ]
  },
  {
   "cell_type": "code",
   "execution_count": 6,
   "id": "16d98cdc",
   "metadata": {},
   "outputs": [
    {
     "name": "stdout",
     "output_type": "stream",
     "text": [
      "Years : Months : Days : Hours : Minutes : Seconds\n",
      "-----------------------------------------------------------------\n",
      "0    :    0    :    0    :    0    :    0    :    0\n",
      "0    :    0    :    0    :    0    :    0    :    1\n",
      "0    :    0    :    0    :    0    :    0    :    2\n",
      "0    :    0    :    0    :    0    :    0    :    3\n",
      "0    :    0    :    0    :    0    :    0    :    4\n",
      "0    :    0    :    0    :    0    :    0    :    5\n",
      "0    :    0    :    0    :    0    :    0    :    6\n",
      "0    :    0    :    0    :    0    :    0    :    7\n",
      "0    :    0    :    0    :    0    :    0    :    8\n",
      "0    :    0    :    0    :    0    :    0    :    9\n",
      "0    :    0    :    0    :    0    :    0    :    10\n",
      "0    :    0    :    0    :    0    :    0    :    11\n",
      "0    :    0    :    0    :    0    :    0    :    12\n",
      "0    :    0    :    0    :    0    :    0    :    13\n",
      "0    :    0    :    0    :    0    :    0    :    14\n",
      "0    :    0    :    0    :    0    :    0    :    15\n",
      "0    :    0    :    0    :    0    :    0    :    16\n",
      "0    :    0    :    0    :    0    :    0    :    17\n",
      "0    :    0    :    0    :    0    :    0    :    18\n",
      "0    :    0    :    0    :    0    :    0    :    19\n",
      "0    :    0    :    0    :    0    :    0    :    20\n",
      "0    :    0    :    0    :    0    :    0    :    21\n",
      "0    :    0    :    0    :    0    :    0    :    22\n",
      "0    :    0    :    0    :    0    :    0    :    23\n",
      "0    :    0    :    0    :    0    :    0    :    24\n",
      "0    :    0    :    0    :    0    :    0    :    25\n",
      "0    :    0    :    0    :    0    :    0    :    26\n",
      "0    :    0    :    0    :    0    :    0    :    27\n",
      "0    :    0    :    0    :    0    :    0    :    28\n",
      "0    :    0    :    0    :    0    :    0    :    29\n",
      "0    :    0    :    0    :    0    :    0    :    30\n"
     ]
    },
    {
     "ename": "KeyboardInterrupt",
     "evalue": "",
     "output_type": "error",
     "traceback": [
      "\u001b[0;31m---------------------------------------------------------------------------\u001b[0m",
      "\u001b[0;31mKeyboardInterrupt\u001b[0m                         Traceback (most recent call last)",
      "Cell \u001b[0;32mIn[6], line 10\u001b[0m\n\u001b[1;32m      8\u001b[0m \u001b[38;5;28;01mfor\u001b[39;00m minute \u001b[38;5;129;01min\u001b[39;00m \u001b[38;5;28mrange\u001b[39m(\u001b[38;5;241m60\u001b[39m):\n\u001b[1;32m      9\u001b[0m     \u001b[38;5;28;01mfor\u001b[39;00m second \u001b[38;5;129;01min\u001b[39;00m \u001b[38;5;28mrange\u001b[39m(\u001b[38;5;241m60\u001b[39m):\n\u001b[0;32m---> 10\u001b[0m         time\u001b[38;5;241m.\u001b[39msleep(\u001b[38;5;241m.1\u001b[39m)\n\u001b[1;32m     11\u001b[0m         \u001b[38;5;28mprint\u001b[39m(year,\u001b[38;5;124m\"\u001b[39m\u001b[38;5;124m   :   \u001b[39m\u001b[38;5;124m\"\u001b[39m,month,\u001b[38;5;124m\"\u001b[39m\u001b[38;5;124m   :   \u001b[39m\u001b[38;5;124m\"\u001b[39m,day,\u001b[38;5;124m\"\u001b[39m\u001b[38;5;124m   :   \u001b[39m\u001b[38;5;124m\"\u001b[39m,hour,\u001b[38;5;124m\"\u001b[39m\u001b[38;5;124m   :   \u001b[39m\u001b[38;5;124m\"\u001b[39m,minute,\u001b[38;5;124m\"\u001b[39m\u001b[38;5;124m   :   \u001b[39m\u001b[38;5;124m\"\u001b[39m,second)\n",
      "\u001b[0;31mKeyboardInterrupt\u001b[0m: "
     ]
    }
   ],
   "source": [
    "import time\n",
    "print(\"Years : Months : Days : Hours : Minutes : Seconds\")\n",
    "print(\"-----------------------------------------------------------------\")\n",
    "for year in range(5):\n",
    "    for month in range(12):\n",
    "        for day in range(30):\n",
    "            for hour in range(24):\n",
    "                for minute in range(60):\n",
    "                    for second in range(60):\n",
    "                        time.sleep(1)\n",
    "                        print(year,\"   :   \",month,\"   :   \",day,\"   :   \",hour,\"   :   \",minute,\"   :   \",second)"
   ]
  },
  {
   "cell_type": "code",
   "execution_count": null,
   "id": "ef6401bf",
   "metadata": {},
   "outputs": [],
   "source": []
  }
 ],
 "metadata": {
  "kernelspec": {
   "display_name": "Python 3 (ipykernel)",
   "language": "python",
   "name": "python3"
  },
  "language_info": {
   "codemirror_mode": {
    "name": "ipython",
    "version": 3
   },
   "file_extension": ".py",
   "mimetype": "text/x-python",
   "name": "python",
   "nbconvert_exporter": "python",
   "pygments_lexer": "ipython3",
   "version": "3.11.5"
  }
 },
 "nbformat": 4,
 "nbformat_minor": 5
}
