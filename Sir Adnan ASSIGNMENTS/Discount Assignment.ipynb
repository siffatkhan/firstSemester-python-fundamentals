{
 "cells": [
  {
   "cell_type": "markdown",
   "id": "f11020e9",
   "metadata": {},
   "source": [
    "# PSEUDOCODE"
   ]
  },
  {
   "cell_type": "code",
   "execution_count": null,
   "id": "17b931e0",
   "metadata": {},
   "outputs": [],
   "source": [
    "Adding Given Value of 99 To Retail Variable.\n",
    "Finding Different Discount Values By Calculation.\n",
    "Asking User For Entering Purchased Quantities.\n",
    "Taking IF And ELSE Loop For Purchased Quantities. \n",
    "Insert ELIF In Between IF-ELSE Condition Structure.\n",
    "Shown Output Will Be DISCOUNT And TOTAL PURCHASE After Getting Discount.\n"
   ]
  },
  {
   "cell_type": "markdown",
   "id": "ac9e7001",
   "metadata": {},
   "source": [
    "# MINE PROGRAM CODE"
   ]
  },
  {
   "cell_type": "code",
   "execution_count": 11,
   "id": "5158208a",
   "metadata": {},
   "outputs": [
    {
     "name": "stdout",
     "output_type": "stream",
     "text": [
      "Enter number of packages purchased : 101\n",
      "Discount :  999.9000000000001\n",
      "Price after discount:  8999.1\n"
     ]
    }
   ],
   "source": [
    "retail=99\n",
    "discount1=10/100*99\n",
    "discount2=20/100*99\n",
    "discount3=30/100*99\n",
    "discount4=40/100*99\n",
    "quantity=int(input(\"Enter number of packages purchased : \"))\n",
    "\n",
    "\n",
    "if quantity>=10<=19:\n",
    "    print(\"Discount : \", quantity*discount1)\n",
    "    print(\"Price after discount: \",quantity*retail - discount1*quantity)\n",
    "elif quantity>=20<=49:\n",
    "    print(\"Discount : \", quantity*discount2)\n",
    "    print(\"Price after discount: \",quantity*retail - discount2*quantity)\n",
    "elif quantity>=50<=99:\n",
    "    print(\"Discount : \", quantity*discount3)\n",
    "    print(\"Price after discount: \",quantity*retail - discount3*quantity)\n",
    "else :\n",
    "    print(\"Discount : \", quantity*discount4)\n",
    "    print(\"Price after discount: \",quantity*retail - discount4*quantity)"
   ]
  },
  {
   "cell_type": "code",
   "execution_count": null,
   "id": "bd4cf82a",
   "metadata": {},
   "outputs": [],
   "source": []
  },
  {
   "cell_type": "markdown",
   "id": "a6a100ad",
   "metadata": {},
   "source": [
    "# IRFAN CODE"
   ]
  },
  {
   "cell_type": "code",
   "execution_count": 10,
   "id": "04825f00",
   "metadata": {},
   "outputs": [
    {
     "name": "stdout",
     "output_type": "stream",
     "text": [
      "Enter thr items you have purchased:45\n",
      "discount: 891.0\n",
      "Enter the amount you have to pay: 3781.8\n"
     ]
    }
   ],
   "source": [
    "retal_price=99\n",
    "\n",
    "Iteams=int(input(\"Enter thr items you have purchased:\"))\n",
    "if   Iteams >=10 and Iteams <=19:\n",
    "    total_price=retal_price*Iteams\n",
    "    payable_amount=total_price-discount_price\n",
    "    print(\"discount:\",total_price*(10/100))\n",
    "    print(\"Enter the amount you have to pay:\",payable_amount)\n",
    "    \n",
    "elif Iteams >=20 and Iteams <=49:\n",
    "    total_price=retal_price*Iteams\n",
    "    payable_amount=total_price-discount_price\n",
    "    print(\"discount:\",total_price*(20/100))\n",
    "    print(\"Enter the amount you have to pay:\",payable_amount)\n",
    "    \n",
    "elif Iteams >=50 and Iteams <=99:\n",
    "    total_price=retal_price*Iteams\n",
    "    payable_amount=total_price-discount_price\n",
    "    print(\"discount:\",total_price*(30/100))\n",
    "    print(\"Enter the amount you have to pay:\",payable_amount)\n",
    "    \n",
    "elif Iteams >=100:\n",
    "    total_price=retal_price*Iteams\n",
    "    payable_amount=total_price-discount_price\n",
    "    print(\"discount:\",total_price*(40/100))\n",
    "    print(\"Enter the amount you have to pay:\",payable_amount)"
   ]
  },
  {
   "cell_type": "code",
   "execution_count": null,
   "id": "29ec5a15",
   "metadata": {},
   "outputs": [],
   "source": []
  }
 ],
 "metadata": {
  "kernelspec": {
   "display_name": "Python 3 (ipykernel)",
   "language": "python",
   "name": "python3"
  },
  "language_info": {
   "codemirror_mode": {
    "name": "ipython",
    "version": 3
   },
   "file_extension": ".py",
   "mimetype": "text/x-python",
   "name": "python",
   "nbconvert_exporter": "python",
   "pygments_lexer": "ipython3",
   "version": "3.11.5"
  }
 },
 "nbformat": 4,
 "nbformat_minor": 5
}
