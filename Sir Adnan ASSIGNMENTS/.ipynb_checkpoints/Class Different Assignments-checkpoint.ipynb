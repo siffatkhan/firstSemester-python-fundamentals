{
 "cells": [
  {
   "cell_type": "code",
   "execution_count": null,
   "id": "619e83d0",
   "metadata": {},
   "outputs": [],
   "source": [
    "number=0\n",
    "for x in range(1,101,1):\n",
    "    number+=1\n",
    "    print(number)\n",
    "    if number%3==0:\n",
    "        print(\"fizz\\n\")\n",
    "    elif number%5==0:\n",
    "            print(\"buzz\\n\")\n",
    "    else:\n",
    "        print(\"fizz buzz\\n\")"
   ]
  },
  {
   "cell_type": "markdown",
   "id": "7eaa89bf",
   "metadata": {},
   "source": [
    "# check for prime and composite number "
   ]
  },
  {
   "cell_type": "code",
   "execution_count": 39,
   "id": "64ae3de7",
   "metadata": {},
   "outputs": [
    {
     "name": "stdout",
     "output_type": "stream",
     "text": [
      "enter a number: 3\n",
      "composite number\n"
     ]
    }
   ],
   "source": [
    "number=int(input(\"enter a number: \"))\n",
    "if number%2==0 and number%3==0:\n",
    "    if number%5==0 and number%7==0:\n",
    "        print(\"prime number\")\n",
    "else:\n",
    "    print(\"composite number\")"
   ]
  },
  {
   "cell_type": "markdown",
   "id": "c5b0f653",
   "metadata": {},
   "source": [
    "# Shawal Method (modified it)"
   ]
  },
  {
   "cell_type": "code",
   "execution_count": null,
   "id": "5241b621",
   "metadata": {},
   "outputs": [
    {
     "name": "stdout",
     "output_type": "stream",
     "text": [
      "enter any number: 6\n",
      "6 is a composite number\n",
      "\n",
      "press space to do it again: \n",
      " \n",
      "enter any number: 8 \n",
      "8 is a composite number\n",
      "\n",
      "press space to do it again: \n",
      " \n",
      "enter any number: 9\n",
      "9 is a composite number\n",
      "\n",
      "press space to do it again: \n",
      " \n",
      "enter any number: 12\n",
      "12 is a composite number\n",
      "\n"
     ]
    }
   ],
   "source": [
    "a=int(input(\"enter any number: \"))\n",
    "again=' '\n",
    "while again==' ' or again==' ':\n",
    "    if a==1:\n",
    "        print(a,\"is neither prime nor composite number\\n\")\n",
    "        again=input('press space to do it again: \\n')\n",
    "        a=int(input(\"enter any number: \"))\n",
    "    elif (a==2):\n",
    "        print(a,\"is a prime number\\n\")\n",
    "        again=input('press space to do it again: \\n')\n",
    "        a=int(input(\"enter any number: \"))\n",
    "    elif (a==3):\n",
    "        print(a,\"is a prime number\\n\")\n",
    "        again=input('press space to do it again: \\n')\n",
    "        a=int(input(\"enter any number\"))\n",
    "    elif (a==5):\n",
    "        print(a,\"is a prime number\\n\")\n",
    "        again=input('press space to do it again: \\n')\n",
    "        a=int(input(\"enter any number: \"))\n",
    "\n",
    "    else:\n",
    "        if a/1==a and a/a==1 and a%3!=0 and a%4!=0 and a%5!=0:     #error of 4 and 8\n",
    "            print(a,\"is a prime number\\n\")\n",
    "            again=input('press space to do it again: \\n')\n",
    "            a=int(input(\"enter any number: \"))\n",
    "        else:\n",
    "            print(a,\"is a composite number\\n\")\n",
    "            again=input('press space to do it again: \\n')\n",
    "            a=int(input(\"enter any number: \"))\n",
    "\n",
    "        "
   ]
  },
  {
   "cell_type": "markdown",
   "id": "7496e36e",
   "metadata": {},
   "source": [
    "# ChatGPT Method"
   ]
  },
  {
   "cell_type": "code",
   "execution_count": 4,
   "id": "6cd836c9",
   "metadata": {},
   "outputs": [
    {
     "name": "stdout",
     "output_type": "stream",
     "text": [
      "enter number12\n",
      "12 is not a prime number\n"
     ]
    }
   ],
   "source": [
    "num =int(input(\"enter number\"))\n",
    "# If given number is greater than 1\n",
    "if num > 1:\n",
    "    # Iterate from 2 to n / 2\n",
    "    for i in range(2, int(num/2)+1):\n",
    "        # If num is divisible by any number between\n",
    "        # 2 and n / 2, it is not prime\n",
    "        if (num % i) == 0:\n",
    "            print(num, \"is not a prime number\")\n",
    "            break\n",
    "    else:\n",
    "        print(num, \"is a prime number\")\n",
    "else:\n",
    "    print(num, \"is not a prime number\")"
   ]
  },
  {
   "cell_type": "code",
   "execution_count": 1,
   "id": "80ede5f2",
   "metadata": {},
   "outputs": [
    {
     "name": "stdout",
     "output_type": "stream",
     "text": [
      "enter a number: 345\n",
      "5 4 3\n"
     ]
    }
   ],
   "source": [
    "a=input(\"enter a number: \")\n",
    "if len (a)==3:     #WE CAN FIND LENGTH OF ONLY STRING \n",
    "    number1=int(a[2])              #WE R CHANGING STRING BACK TO INT\n",
    "    number2=int(a[1])\n",
    "    number3=int(a[0])\n",
    "    print(number1,number2,number3)"
   ]
  },
  {
   "cell_type": "code",
   "execution_count": null,
   "id": "1eebd0ad",
   "metadata": {},
   "outputs": [],
   "source": []
  }
 ],
 "metadata": {
  "kernelspec": {
   "display_name": "Python 3 (ipykernel)",
   "language": "python",
   "name": "python3"
  },
  "language_info": {
   "codemirror_mode": {
    "name": "ipython",
    "version": 3
   },
   "file_extension": ".py",
   "mimetype": "text/x-python",
   "name": "python",
   "nbconvert_exporter": "python",
   "pygments_lexer": "ipython3",
   "version": "3.11.5"
  }
 },
 "nbformat": 4,
 "nbformat_minor": 5
}
