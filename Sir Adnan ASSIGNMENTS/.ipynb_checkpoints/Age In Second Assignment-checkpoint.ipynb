{
 "cells": [
  {
   "cell_type": "code",
   "execution_count": 1,
   "id": "bae1c084",
   "metadata": {},
   "outputs": [
    {
     "name": "stdout",
     "output_type": "stream",
     "text": [
      " Enter your Password?apple\n",
      "password accepted\n"
     ]
    }
   ],
   "source": [
    "password = input(\" Enter your Password?\" )\n",
    "if password == 'apple':\n",
    "    print(\"password accepted\")\n",
    "else :\n",
    "    print(\"password wrong\")"
   ]
  },
  {
   "cell_type": "code",
   "execution_count": 8,
   "id": "879d6406",
   "metadata": {},
   "outputs": [
    {
     "name": "stdout",
     "output_type": "stream",
     "text": [
      "Enter your age: 20\n",
      "\n",
      "Age in months\t:  240\n",
      "Age in days\t:  7200\n",
      "Age in hours\t:  172800\n",
      "Age in minutes  :  10368000\n",
      "Age in seconds  :  622080000\n"
     ]
    }
   ],
   "source": [
    "age = int(input(\"Enter your age: \"))\n",
    "age = age*12\n",
    "print(\"\\nAge in months\\t: \",age)\n",
    "age1 = age*30\n",
    "print(\"Age in days\\t: \",age1)\n",
    "\n",
    "agehour= age1*24\n",
    "print(\"Age in hours\\t: \",agehour)\n",
    "\n",
    "agemin=agehour*60\n",
    "print(\"Age in minutes  : \",agemin)\n",
    "\n",
    "agesec=agemin*60\n",
    "print(\"Age in seconds  : \",agesec)"
   ]
  },
  {
   "cell_type": "markdown",
   "id": "3e17dead",
   "metadata": {},
   "source": [
    "# Pseudocode"
   ]
  },
  {
   "cell_type": "code",
   "execution_count": null,
   "id": "17b8f58a",
   "metadata": {},
   "outputs": [],
   "source": [
    "#CONVERT YOUR AGE INTO DAYS,MONTHS,HOURS,SECONDS,MINUTES\n",
    "\n",
    "PUT YOUR AGE \n",
    "CONVERT IT INTO MONTHS\n",
    "CONVERT IT INTO DAYS\n",
    "CONVERT THAT AGE INTO HOURS,MINUTES,SECONDS"
   ]
  },
  {
   "cell_type": "markdown",
   "id": "e43e3840",
   "metadata": {},
   "source": [
    "# Algorithm"
   ]
  },
  {
   "cell_type": "code",
   "execution_count": null,
   "id": "2d87c7bd",
   "metadata": {},
   "outputs": [],
   "source": [
    "#ALGORITHM :\n",
    "#CONVERT YOUR AGE INTO DAYS,MONTHS,HOURS,SECONDS,MINUTES\n",
    "\n",
    "STEP1: START\n",
    "STEP2: INPUT YOUR AGE\n",
    "STEP3: MUTIPLY IT WITH 12 TO GET MONTHS AGE\n",
    "STEP4: MUTIPLY IT WITH 30 TO GET DAYS AGE\n",
    "STEP5: MUTIPLY IT WITH 24 TO GET HOURS AGE\n",
    "STEP6: MUTIPLY IT WITH 60 TO GET MINUTES AGE\n",
    "STEP7: MUTIPLY IT WITH 60 TO GET SECONDS AGE\n",
    "STEP8: END "
   ]
  }
 ],
 "metadata": {
  "kernelspec": {
   "display_name": "Python 3 (ipykernel)",
   "language": "python",
   "name": "python3"
  },
  "language_info": {
   "codemirror_mode": {
    "name": "ipython",
    "version": 3
   },
   "file_extension": ".py",
   "mimetype": "text/x-python",
   "name": "python",
   "nbconvert_exporter": "python",
   "pygments_lexer": "ipython3",
   "version": "3.11.5"
  }
 },
 "nbformat": 4,
 "nbformat_minor": 5
}
