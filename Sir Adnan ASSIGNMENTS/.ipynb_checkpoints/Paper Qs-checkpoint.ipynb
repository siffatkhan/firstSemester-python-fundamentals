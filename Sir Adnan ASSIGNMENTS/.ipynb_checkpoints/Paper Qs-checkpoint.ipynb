{
 "cells": [
  {
   "cell_type": "code",
   "execution_count": 2,
   "id": "59b817f3",
   "metadata": {},
   "outputs": [
    {
     "name": "stdout",
     "output_type": "stream",
     "text": [
      "Enter amount of number of shapes6\n",
      "Shape required:#\n",
      " #\n",
      "  #\n",
      "   #\n",
      "    #\n",
      "     #\n",
      "      #\n"
     ]
    }
   ],
   "source": [
    "x = int(input(\"Enter amount of number of shapes\"))\n",
    "s = str(input(\"Shape required:\"))\n",
    "for i in range(x):\n",
    "        z = \" \"\n",
    "        print (z*i,s)"
   ]
  },
  {
   "cell_type": "markdown",
   "id": "2d6c8573",
   "metadata": {},
   "source": [
    "# PAPER QUESTION"
   ]
  },
  {
   "cell_type": "code",
   "execution_count": 1,
   "id": "7ffb1e6f",
   "metadata": {},
   "outputs": [
    {
     "name": "stdout",
     "output_type": "stream",
     "text": [
      "Enter amount of number of shapes6\n",
      " #\n",
      "  #\n",
      "   #\n",
      "    #\n",
      "     #\n",
      "      #\n"
     ]
    }
   ],
   "source": [
    "space=\" \"\n",
    "shape='#'\n",
    "limit=int(input(\"Enter amount of number of shapes\"))\n",
    "for i in range(limit):\n",
    "    print(i*space,shape)\n",
    "    i += 1"
   ]
  },
  {
   "cell_type": "code",
   "execution_count": null,
   "id": "d2d73056",
   "metadata": {},
   "outputs": [],
   "source": []
  },
  {
   "cell_type": "code",
   "execution_count": 5,
   "id": "e7990036",
   "metadata": {},
   "outputs": [
    {
     "name": "stdout",
     "output_type": "stream",
     "text": [
      "Enter any number:1\n",
      "Nor prime nor composite\n",
      "The number is prime.\n"
     ]
    }
   ],
   "source": [
    "d = 2\n",
    "num = int(input(\"Enter any number:\"))\n",
    "r = 1\n",
    "\n",
    "if num == 1:\n",
    "    print(\"Nor prime nor composite\")\n",
    "    \n",
    "while d < num :\n",
    "    if num % d == 0:\n",
    "        r = 0\n",
    "        break\n",
    "    d = d + 1\n",
    "        \n",
    "if r == 1:\n",
    "    print(\"The number is prime.\")\n",
    "\n",
    "            \n",
    "else:\n",
    "    print(\"The number is composite.\")"
   ]
  },
  {
   "cell_type": "markdown",
   "id": "d165bc26",
   "metadata": {},
   "source": [
    "# PAPER QUESTION"
   ]
  },
  {
   "cell_type": "code",
   "execution_count": null,
   "id": "35fccba3",
   "metadata": {},
   "outputs": [],
   "source": [
    "\n",
    "\n",
    "def calculation(a,b):\n",
    "    if operator== '+':\n",
    "        calculate=a+b\n",
    "        print(calculate)\n",
    "    elif operator=='-':\n",
    "        calculate = a - b\n",
    "        print(calculate)\n",
    "    elif operator == '*':\n",
    "        calculate = a * b\n",
    "        print(calculate)\n",
    "    elif operator == '/':\n",
    "        calculate = a / b\n",
    "        print(calculate)\n",
    "    else:\n",
    "        print(\"Invalid operator\")\n",
    "\n",
    "\n",
    "a=int(input(\"Enter first number: \"))\n",
    "b=int(input(\"Enter second number: \"))\n",
    "operator=input(\"enter onr operator among there + - * /\")\n",
    "calculation(a,b)\n",
    "\n",
    "c=int(input(\"Enter first number: \"))\n",
    "d=int(input(\"Enter second number: \"))\n",
    "operator=input(\"enter onr operator among there + - * /\")\n",
    "calculation(c,d)\n",
    "\n",
    "# we can write many block of statement like that which will perform same thing"
   ]
  },
  {
   "cell_type": "code",
   "execution_count": null,
   "id": "1aeb7a19",
   "metadata": {},
   "outputs": [],
   "source": []
  },
  {
   "cell_type": "code",
   "execution_count": null,
   "id": "65f2307d",
   "metadata": {},
   "outputs": [],
   "source": []
  },
  {
   "cell_type": "code",
   "execution_count": null,
   "id": "e45f4baf",
   "metadata": {},
   "outputs": [],
   "source": []
  },
  {
   "cell_type": "code",
   "execution_count": 3,
   "id": "947f5f10",
   "metadata": {},
   "outputs": [
    {
     "name": "stdout",
     "output_type": "stream",
     "text": [
      "7.0\n",
      "first number is lesser\n",
      "second number is graeter\n",
      "40.0\n",
      "first number is lesser\n",
      "second number is graeter\n",
      "290.0\n",
      "first number is lesser\n",
      "second number is graeter\n"
     ]
    }
   ],
   "source": [
    "def average(a,b):\n",
    "    avg=(a+b)/2\n",
    "    print(avg)\n",
    "\n",
    "def islesser (a,b):\n",
    "    if a < b:\n",
    "        print(\"first number is lesser\")\n",
    "    else:\n",
    "        print(\"second number is lesser\")\n",
    "def isgreater (a,b):\n",
    "    if a > b:\n",
    "        print(\"first number is graeter\")\n",
    "    else:\n",
    "        print(\"second number is graeter\")\n",
    "\n",
    "a=4\n",
    "b=10\n",
    "average(a,b)\n",
    "islesser(a,b)\n",
    "isgreater(a,b)\n",
    "\n",
    "\n",
    "c=30\n",
    "d=50\n",
    "average(c,d)\n",
    "islesser(c,d)\n",
    "isgreater(c,d)\n",
    "\n",
    "e=80\n",
    "f=500\n",
    "average(e,f)\n",
    "islesser(e,f)\n",
    "isgreater(e,f)\n"
   ]
  },
  {
   "cell_type": "code",
   "execution_count": null,
   "id": "9fb0310e",
   "metadata": {},
   "outputs": [],
   "source": []
  }
 ],
 "metadata": {
  "kernelspec": {
   "display_name": "Python 3 (ipykernel)",
   "language": "python",
   "name": "python3"
  },
  "language_info": {
   "codemirror_mode": {
    "name": "ipython",
    "version": 3
   },
   "file_extension": ".py",
   "mimetype": "text/x-python",
   "name": "python",
   "nbconvert_exporter": "python",
   "pygments_lexer": "ipython3",
   "version": "3.11.5"
  }
 },
 "nbformat": 4,
 "nbformat_minor": 5
}
