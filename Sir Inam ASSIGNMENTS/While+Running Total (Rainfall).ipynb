{
 "cells": [
  {
   "cell_type": "code",
   "execution_count": null,
   "id": "32a43b2d",
   "metadata": {},
   "outputs": [],
   "source": [
    "count=1\n",
    "#Q1=Q2=Q3=Q4=0\n",
    "#Q1,Q2,Q3,Q4=0,0,0,0\n",
    "total1=0\n",
    "total2=0\n",
    "total3=0\n",
    "total4=0\n",
    "while count<=12:\n",
    "    print(\"Enter\",count,\"months rainfall\")\n",
    "    rainfall=float(input())\n",
    "    if count<=3:\n",
    "        total1+=rainfall\n",
    "    elif count<=6:\n",
    "        total2+=rainfall\n",
    "    elif count<=9:\n",
    "        total3+=rainfall\n",
    "    else:\n",
    "        total4+=rainfall\n",
    "    \n",
    "    count+=1\n",
    "    \n",
    "    \n",
    "avg1=total1/3\n",
    "avg2=total2/3\n",
    "avg3=total3/3\n",
    "avg4=total4/3\n",
    "    \n",
    "print(\"1st quarter rainfall average: \",avg1)\n",
    "print(\"2nd quarter rainfall average: \",avg2)\n",
    "print(\"3rd quarter rainfall average: \",avg3)\n",
    "print(\"4th quarter rainfall average: \",avg4)\n",
    "\n",
    "print(\"--------------------------------------\")\n",
    "\n",
    "       \n",
    "if avg1<avg2 and avg1<avg3 and avg1<avg4:\n",
    "     print(\"1st quarter is lowest.\")\n",
    "elif avg2<avg1 and avg2<avg3 and avg2<avg4:\n",
    "     print(\"2nd quarter is lowest.\")\n",
    "elif avg3<avg1 and avg3<avg2 and avg3<avg4:\n",
    "     print(\"3rd quarter is lowest.\")\n",
    "elif avg4<avg1 and avg4<avg2 and avg4<avg3:\n",
    "     print(\"4th quarter is lowest.\")\n",
    "        \n",
    "if avg1>avg2 and avg1>avg3 and avg1>avg4 :\n",
    "     print(\"1st quarter is greatest.\")\n",
    "elif avg2>avg1 and avg2>avg3 and avg2>avg4:\n",
    "     print(\"2nd quarter is greatest.\")\n",
    "elif avg3>avg1 and avg3>avg2 and avg3>avg4:\n",
    "     print(\"3rd quarter is greatest.\")\n",
    "elif avg4>avg1 and avg4>avg2 and avg4>avg3:\n",
    "     print(\"4th quarter is greatest.\")\n",
    "\n",
    "  \n"
   ]
  }
 ],
 "metadata": {
  "kernelspec": {
   "display_name": "Python 3 (ipykernel)",
   "language": "python",
   "name": "python3"
  },
  "language_info": {
   "codemirror_mode": {
    "name": "ipython",
    "version": 3
   },
   "file_extension": ".py",
   "mimetype": "text/x-python",
   "name": "python",
   "nbconvert_exporter": "python",
   "pygments_lexer": "ipython3",
   "version": "3.11.5"
  }
 },
 "nbformat": 4,
 "nbformat_minor": 5
}
