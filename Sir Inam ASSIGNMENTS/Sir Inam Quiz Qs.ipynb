{
 "cells": [
  {
   "cell_type": "markdown",
   "id": "dcd7b2de",
   "metadata": {},
   "source": [
    "# PROBLEM 1 "
   ]
  },
  {
   "cell_type": "code",
   "execution_count": 1,
   "id": "723ecedb",
   "metadata": {},
   "outputs": [
    {
     "name": "stdout",
     "output_type": "stream",
     "text": [
      "GAME OF WORD GUESSING\n",
      "sleep\n",
      "_ _ _ _ _ \n",
      "Guess a character: l\n",
      "_ l _ _ _ \n",
      "Guess a character: o\n",
      "Wrong\n",
      "You have 3 more guesses.\n",
      "_ l _ _ _ \n",
      "Guess a character: p\n",
      "_ l _ _ p \n",
      "Guess a character: y\n",
      "Wrong\n",
      "You have 2 more guesses.\n",
      "_ l _ _ p \n",
      "Guess a character: i\n",
      "Wrong\n",
      "You have 1 more guesses.\n",
      "_ l _ _ p \n",
      "Guess a character: w\n",
      "Wrong\n",
      "You have 0 more guesses.\n",
      "You lose. The word was sleep.\n"
     ]
    }
   ],
   "source": [
    "#NOT STOPPING AFTER CORRECT GUESSSING\n",
    "import random\n",
    "\n",
    "\n",
    "print(\"GAME OF WORD GUESSING\")\n",
    "\n",
    "words = [\"fairy\", \"sleep\", \"ocean\", \"happy\", \"pizza\"]\n",
    "\n",
    "# Select a random word from the list\n",
    "word = random.choice(words)\n",
    "print(word)\n",
    "\n",
    "\n",
    "# Initialize guesses and turns\n",
    "guesses = \"\"\n",
    "turns = 4\n",
    "\n",
    "# Main game loop\n",
    "while turns > 0:\n",
    "    # Display the word with correctly guessed letters and placeholders for the rest\n",
    "    for character in word:\n",
    "        if character in guesses:\n",
    "            print(character, end=\" \")  # Print the character if guessed correctly\n",
    "        else:\n",
    "            print(\"_\", end=\" \")  # Print a placeholder if not guessed\n",
    "    print()  # Print a newline \n",
    "\n",
    "    # Prompt the player to guess a character\n",
    "    guess = input(\"Guess a character: \")\n",
    "    guesses += guess  # Add the guessed character to the list of guesses\n",
    "\n",
    "    # Check if the guessed character is not in the word\n",
    "    if guess not in word:\n",
    "        turns -= 1  # Decrement the number of turns remaining\n",
    "        print(\"Wrong\")  # Print a message indicating the guess was incorrect\n",
    "        print(f\"You have {turns} more guesses.\")  # Print the number of turns remaining\n",
    "\n",
    "    # Check if the guess matches the word\n",
    "    if guess == word:\n",
    "        print(f\"Congratulations! You guessed it correctly. The word is {word}.\")\n",
    "        break  # Exit the loop if the word is guessed correctly\n",
    "    if guesses==word:\n",
    "        print(\"u won\")\n",
    "        break\n",
    "\n",
    "# Check if the player has used all turns without guessing the word\n",
    "if turns == 0:\n",
    "    print(f\"You lose. The word was {word}.\")  # Print a message indicating the player lost\n"
   ]
  },
  {
   "cell_type": "markdown",
   "id": "ad0617c8",
   "metadata": {},
   "source": [
    "# PROBLEM 2"
   ]
  },
  {
   "cell_type": "code",
   "execution_count": 1,
   "id": "5fb7d737",
   "metadata": {},
   "outputs": [
    {
     "name": "stdout",
     "output_type": "stream",
     "text": [
      "\n",
      "How many question you want to attempt: 2\n",
      "\n",
      "1 Guessed Country is: Syria\n",
      "\n",
      "Enter Country Correct Capital: Khartoum\n",
      "\n",
      "--> Correct Answer.\n",
      "-----------------------------------------------\n",
      "\n",
      "2 Guessed Country is: Bahrain\n",
      "\n",
      "Enter Country Correct Capital: tokyo\n",
      "\n",
      "--> Correct Answer.\n",
      "-----------------------------------------------\n",
      "\n",
      "--> Total Attempts Made:  2\n",
      "--> Total Marks Got:  20\n",
      "-----------------------------------------------\n"
     ]
    }
   ],
   "source": [
    "import random\n",
    "def madedict():\n",
    "    with open(\"CountryCapital.txt\",\"r\") as f:\n",
    "        dictionary={}\n",
    "        first=f.readline()\n",
    "        while first!=\"\":\n",
    "            modify=first.split(\",\")\n",
    "            country=modify[0]\n",
    "            capital=modify[1]\n",
    "            capital.rstrip(\"\\n\")\n",
    "            dictionary[country]=capital\n",
    "            first=f.readline()\n",
    "#         print(dictionary)\n",
    "        x=dictionary.values()\n",
    "#         print(x)\n",
    "        list123=[]\n",
    "        for i in x:\n",
    "                i=i.rstrip(\"\\n\")\n",
    "                list123.append(i)\n",
    "#         print(list123)\n",
    "            \n",
    "        count=1\n",
    "        num=int(input(\"\\nHow many question you want to attempt: \"))\n",
    "        total=0\n",
    "        while count<=num:\n",
    "            random_capital=random.choice(list(dictionary.keys()))\n",
    "            print(f\"\\n{count} Guessed Country is: {random_capital}\")\n",
    "            answer=input(\"\\nEnter Country Correct Capital: \")\n",
    "            answer=answer.capitalize()\n",
    "            if answer in list123:\n",
    "                print(\"\\n--> Correct Answer.\")\n",
    "                total+=10\n",
    "                dictionary.pop(random_capital)\n",
    "            else:\n",
    "                print(\"\\n--> Incorrect Answer.\")\n",
    "                total-=5\n",
    "            print(\"-----------------------------------------------\")\n",
    "            count+=1\n",
    "             \n",
    "        print(\"\\n--> Total Attempts Made: \",num)\n",
    "        print(\"--> Total Marks Got: \" ,total)\n",
    "        print(\"-----------------------------------------------\")\n",
    "\n",
    "madedict()"
   ]
  },
  {
   "cell_type": "code",
   "execution_count": null,
   "id": "351a2711",
   "metadata": {},
   "outputs": [],
   "source": []
  },
  {
   "cell_type": "code",
   "execution_count": null,
   "id": "c61ff3b9",
   "metadata": {},
   "outputs": [],
   "source": []
  },
  {
   "cell_type": "code",
   "execution_count": null,
   "id": "86d60c30",
   "metadata": {},
   "outputs": [],
   "source": []
  },
  {
   "cell_type": "code",
   "execution_count": null,
   "id": "fcee7d07",
   "metadata": {},
   "outputs": [],
   "source": []
  },
  {
   "cell_type": "code",
   "execution_count": null,
   "id": "e5eb9951",
   "metadata": {},
   "outputs": [],
   "source": []
  },
  {
   "cell_type": "code",
   "execution_count": null,
   "id": "bcf0391d",
   "metadata": {},
   "outputs": [],
   "source": [
    "\n",
    "    \n",
    "    \n",
    "    \n",
    "    \n",
    "    "
   ]
  },
  {
   "cell_type": "code",
   "execution_count": null,
   "id": "c481ebed",
   "metadata": {},
   "outputs": [],
   "source": []
  }
 ],
 "metadata": {
  "kernelspec": {
   "display_name": "Python 3 (ipykernel)",
   "language": "python",
   "name": "python3"
  },
  "language_info": {
   "codemirror_mode": {
    "name": "ipython",
    "version": 3
   },
   "file_extension": ".py",
   "mimetype": "text/x-python",
   "name": "python",
   "nbconvert_exporter": "python",
   "pygments_lexer": "ipython3",
   "version": "3.11.5"
  }
 },
 "nbformat": 4,
 "nbformat_minor": 5
}
