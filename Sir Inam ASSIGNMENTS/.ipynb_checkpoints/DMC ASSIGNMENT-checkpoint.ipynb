{
 "cells": [
  {
   "cell_type": "markdown",
   "id": "016bb076",
   "metadata": {},
   "source": [
    "# ASSIGNMENT"
   ]
  },
  {
   "cell_type": "markdown",
   "id": "8ad02753",
   "metadata": {},
   "source": [
    "# DMC"
   ]
  },
  {
   "cell_type": "code",
   "execution_count": 83,
   "id": "616fa2b2",
   "metadata": {},
   "outputs": [
    {
     "name": "stdout",
     "output_type": "stream",
     "text": [
      "   What your name: SIFFAT ZAIN\n",
      "       Your class: BCS-B\n",
      "\n",
      "    Chemistry: 90\n",
      "      Physics: 93\n",
      "        Maths: 98\n",
      "     Computer: 92\n",
      "Subject Marks: 100\n",
      "______________________________________\n",
      "|  \t\t\t\t     |\n",
      "| NAME :  SIFFAT ZAIN \t\t     |\n",
      "| CLASS:  BCS-B \t\t     | \n",
      "|____________________________________|\n",
      "| \t\t\t\t     |\n",
      "|S.NO   SUBJECT  TOTAL   OBTAINED    |\n",
      "|____________________________________|\n",
      "| \t\t\t\t     |\n",
      "| 1.   CHEMISTRY  100    90          |\n",
      "|------------------------------------|\n",
      "| 2.   PHYSICS    100    93          |\n",
      "|------------------------------------|\n",
      "| 3.   MATH       100    98          |\n",
      "|------------------------------------|\n",
      "| 4.   COMPUTER   100    92          |\n",
      "|____________________________________|\n",
      "| \t\t\t\t     |\n",
      "| \t\t\t\t     |\n",
      "|             TOTAL MARKS  : 400     |\n",
      "|          --------------------------|\n",
      "|            OBTAINED MARKS: 373     |\n",
      "|          --------------------------|\n",
      "|              PERCENTAGE  : 93.25 % | \n",
      "|____________________________________|\n"
     ]
    }
   ],
   "source": [
    "name      =input(\"   What your name: \")\n",
    "class1    =input(\"       Your class: \")\n",
    "chmmark   =int(input(\"\\n    Chemistry: \"))\n",
    "phymark   =int(input(\"      Physics: \"))     \n",
    "mathmark  =int(input(\"        Maths: \"))\n",
    "compmark  =int(input(\"     Computer: \"))\n",
    "subjmarks =int(input(\"Subject Marks: \"))\n",
    "\n",
    "totalmark = subjmarks*4\n",
    "obtmark = chmmark + phymark + mathmark + compmark\n",
    "avg= obtmark/4\n",
    "\n",
    "#print(\"\\n\")\n",
    "print(\"______________________________________\")\n",
    "print(\"|\",\" \\t\\t\\t\\t     |\")\n",
    "print(\"| NAME : \",name,\"\\t\\t     |\")\n",
    "print(\"| CLASS: \",class1,\"\\t\\t     |\",\"\\n|____________________________________|\")\n",
    "\n",
    "\n",
    "\n",
    "print(\"|\",\"\\t\\t\\t\\t     |\")\n",
    "print(\"|S.NO  \",\"SUBJECT \",\"TOTAL \",\" OBTAINED    |\\n|____________________________________|\")\n",
    "print(\"|\",\"\\t\\t\\t\\t     |\")\n",
    "print(\"| 1. \",\" CHEMISTRY \",subjmarks,\"  \",chmmark,\"         |\\n|------------------------------------|\")\n",
    "print(\"| 2. \",\" PHYSICS   \",subjmarks,\"  \",phymark, \"         |\\n|------------------------------------|\")\n",
    "print(\"| 3. \",\" MATH      \",subjmarks,\"  \",mathmark,\"         |\\n|------------------------------------|\")\n",
    "print(\"| 4. \",\" COMPUTER  \",subjmarks,\"  \",compmark,\"         |\\n|____________________________________|\")\n",
    "print(\"|\",\"\\t\\t\\t\\t     |\")\n",
    "print(\"|\",\"\\t\\t\\t\\t     |\")\n",
    "\n",
    "print(\"|             TOTAL MARKS  :\",totalmark,\"    |\\n|          --------------------------|\")\n",
    "print(\"|            OBTAINED MARKS:\",obtmark,\"    |\\n|          --------------------------|\")\n",
    "print(\"|              PERCENTAGE  :\",avg,\"% |\",\"\\n|____________________________________|\")"
   ]
  },
  {
   "cell_type": "code",
   "execution_count": 22,
   "id": "1fff9708",
   "metadata": {},
   "outputs": [
    {
     "name": "stdout",
     "output_type": "stream",
     "text": [
      "n1+n2 :  7\n",
      "n1-n2 :  3\n",
      "n1*n2 :  10\n",
      "n1/n2 :  2.5\n",
      "n1//n2:  2\n",
      "n1%n2 :  1\n",
      "n1**n2:  25\n"
     ]
    }
   ],
   "source": [
    "n1 = 5\n",
    "n2 = 2\n",
    "\n",
    "print(\"n1+n2 : \",n1+n2)\n",
    "print(\"n1-n2 : \",n1-n2)\n",
    "print(\"n1*n2 : \",n1*n2)\n",
    "print(\"n1/n2 : \",n1/n2)\n",
    "print(\"n1//n2: \",n1//n2)\n",
    "print(\"n1%n2 : \",n1%n2)\n",
    "print(\"n1**n2: \",n1**n2)"
   ]
  },
  {
   "cell_type": "code",
   "execution_count": 20,
   "id": "9f1c135d",
   "metadata": {},
   "outputs": [
    {
     "name": "stdout",
     "output_type": "stream",
     "text": [
      "Sum of Two Numbers =  68\n",
      "Enter ur Chemistry Marks: 80\n",
      "Enter ur Physics Marks: 95\n",
      "Enter ur Math Marks: 90\n",
      "Enter ur Computer Marks: 88\n",
      "Enter per Subject Marks: 100\n",
      "Chemistry:  80\n",
      "Physics:  95\n",
      "Maths:  90\n",
      "Computer:  88\n",
      "\n",
      "\n",
      "Total marks:  400\n",
      "\n",
      "\n",
      "Obtained marks:  353\n"
     ]
    }
   ],
   "source": [
    "print(\"Sum of Two Numbers = \", 23+45)    #arithmetic expression\n",
    "chmmarks =int(input(\"Enter ur Chemistry Marks: \"))\n",
    "phymarks = int(input(\"Enter ur Physics Marks: \"))\n",
    "mathmarks = int(input(\"Enter ur Math Marks: \"))\n",
    "compmarks = int(input(\"Enter ur Computer Marks: \" ))\n",
    "subjmarks = int(input(\"Enter per Subject Marks: \"))\n",
    "\n",
    "totalmark = subjmarks * 4\n",
    "obmarks = chmmarks + phymarks + mathmarks + compmarks\n",
    "\n",
    "print(\"Chemistry: \",chmmarks)\n",
    "print(\"Physics: \",phymarks)\n",
    "print(\"Maths: \",mathmarks)\n",
    "print(\"Computer: \",compmarks)\n",
    "\n",
    "print(\"\\n\\nTotal marks: \",totalmark)\n",
    "print(\"\\n\\nObtained marks: \",obmarks)"
   ]
  },
  {
   "cell_type": "code",
   "execution_count": null,
   "id": "3f5254e3",
   "metadata": {},
   "outputs": [],
   "source": []
  }
 ],
 "metadata": {
  "kernelspec": {
   "display_name": "Python 3 (ipykernel)",
   "language": "python",
   "name": "python3"
  },
  "language_info": {
   "codemirror_mode": {
    "name": "ipython",
    "version": 3
   },
   "file_extension": ".py",
   "mimetype": "text/x-python",
   "name": "python",
   "nbconvert_exporter": "python",
   "pygments_lexer": "ipython3",
   "version": "3.11.5"
  }
 },
 "nbformat": 4,
 "nbformat_minor": 5
}
