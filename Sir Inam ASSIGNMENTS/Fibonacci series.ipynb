{
 "cells": [
  {
   "cell_type": "markdown",
   "id": "652ff4e9",
   "metadata": {},
   "source": [
    "# FOR LOOP"
   ]
  },
  {
   "cell_type": "code",
   "execution_count": 11,
   "id": "1d56ffae",
   "metadata": {},
   "outputs": [
    {
     "name": "stdout",
     "output_type": "stream",
     "text": [
      "terms: 6\n",
      "0 1 1 2 3 5 8 "
     ]
    }
   ],
   "source": [
    "t1=1\n",
    "t2=0\n",
    "term=int(input(\"terms: \"))\n",
    "for i in range(1,term+1):\n",
    "    if i==1:\n",
    "        print(0,end=' ')\n",
    "    t=t1+t2\n",
    "    print(t,end=' ')\n",
    "    t1=t2\n",
    "    t2=t\n",
    "    "
   ]
  },
  {
   "cell_type": "markdown",
   "id": "a3d2265b",
   "metadata": {},
   "source": [
    "# THROUGH WHILE"
   ]
  },
  {
   "cell_type": "code",
   "execution_count": 2,
   "id": "40681813",
   "metadata": {},
   "outputs": [
    {
     "name": "stdout",
     "output_type": "stream",
     "text": [
      "terms: 7\n",
      "0 1 1 2 3 5 8 13 21 34 "
     ]
    }
   ],
   "source": [
    "t1=0\n",
    "t2=1\n",
    "count=0\n",
    "term=int(input(\"terms: \"))\n",
    "print(t1,t2,end=' ')         #****\n",
    "while count<=term: \n",
    "    t=t1+t2\n",
    "    print(t,end=' ')\n",
    "    t1=t2\n",
    "    t2=t\n",
    "    count+=1\n",
    "    "
   ]
  },
  {
   "cell_type": "code",
   "execution_count": 5,
   "id": "09261995",
   "metadata": {},
   "outputs": [
    {
     "name": "stdout",
     "output_type": "stream",
     "text": [
      "terms: 8\n",
      "0 1 1 2 3 5 8 13 21 34 55 "
     ]
    }
   ],
   "source": [
    "t1=0\n",
    "t2=1\n",
    "count=0\n",
    "term=int(input(\"terms: \"))\n",
    "# print(t1,t2,end=' ')         #****\n",
    "while count<=term:\n",
    "    if count==0:\n",
    "        print(t1,end=' ')\n",
    "    if count==1:\n",
    "        print(t2,end=' ')\n",
    "    t=t1+t2\n",
    "    print(t,end=' ')\n",
    "    t1=t2\n",
    "    t2=t\n",
    "    count+=1"
   ]
  },
  {
   "cell_type": "code",
   "execution_count": null,
   "id": "9e68f231",
   "metadata": {},
   "outputs": [],
   "source": []
  }
 ],
 "metadata": {
  "kernelspec": {
   "display_name": "Python 3 (ipykernel)",
   "language": "python",
   "name": "python3"
  },
  "language_info": {
   "codemirror_mode": {
    "name": "ipython",
    "version": 3
   },
   "file_extension": ".py",
   "mimetype": "text/x-python",
   "name": "python",
   "nbconvert_exporter": "python",
   "pygments_lexer": "ipython3",
   "version": "3.11.5"
  }
 },
 "nbformat": 4,
 "nbformat_minor": 5
}
