{
 "cells": [
  {
   "cell_type": "markdown",
   "id": "ce935735",
   "metadata": {},
   "source": [
    "# PROBLEM 1"
   ]
  },
  {
   "cell_type": "code",
   "execution_count": 1,
   "id": "7c6686dd",
   "metadata": {},
   "outputs": [],
   "source": [
    "#PROBLEM 1 PART.A\n",
    "\n",
    "# FUNTION FOR CALCULATING SCORE\n",
    "\n",
    "def scoring(g,correct_answers,total):\n",
    "    for index,y in enumerate(g):\n",
    "        if y==correct_answers[index]:\n",
    "            total+=1\n",
    "        else:\n",
    "            print(f\"Answer of Qs S.No {index+1} is Incorrect.\")\n",
    "    if total>=15:\n",
    "        print(\"\\nCongrats You Passed The Exam.\")\n",
    "    elif total<15:\n",
    "        print(\"Better Luck Next Time.\")\n",
    "    print(f\"Number Of  Correctly Answered Questions: {total}\")\n",
    "    print(f\"Number Of Incorrectly Answered Questions: {20-total}\")\n",
    "    print(\"--------------------------------------------------------\")\n",
    "    \n",
    "# scoring()"
   ]
  },
  {
   "cell_type": "code",
   "execution_count": 14,
   "id": "17a0a38a",
   "metadata": {},
   "outputs": [
    {
     "name": "stdout",
     "output_type": "stream",
     "text": [
      "\n",
      "Congrats You Passed The Exam.\n",
      "Number Of  Correctly Answered Questions: 20\n",
      "Number Of Incorrectly Answered Questions: 0\n",
      "--------------------------------------------------------\n",
      "Answer of Qs S.No 7 is Incorrect.\n",
      "Answer of Qs S.No 12 is Incorrect.\n",
      "Answer of Qs S.No 17 is Incorrect.\n",
      "Answer of Qs S.No 18 is Incorrect.\n",
      "\n",
      "Congrats You Passed The Exam.\n",
      "Number Of  Correctly Answered Questions: 16\n",
      "Number Of Incorrectly Answered Questions: 4\n",
      "--------------------------------------------------------\n",
      "Answer of Qs S.No 5 is Incorrect.\n",
      "Answer of Qs S.No 6 is Incorrect.\n",
      "Answer of Qs S.No 7 is Incorrect.\n",
      "Answer of Qs S.No 12 is Incorrect.\n",
      "Answer of Qs S.No 19 is Incorrect.\n",
      "Answer of Qs S.No 20 is Incorrect.\n",
      "Better Luck Next Time.\n",
      "Number Of  Correctly Answered Questions: 14\n",
      "Number Of Incorrectly Answered Questions: 6\n",
      "--------------------------------------------------------\n",
      "Answer of Qs S.No 1 is Incorrect.\n",
      "Answer of Qs S.No 9 is Incorrect.\n",
      "Answer of Qs S.No 10 is Incorrect.\n",
      "Answer of Qs S.No 11 is Incorrect.\n",
      "Answer of Qs S.No 12 is Incorrect.\n",
      "Answer of Qs S.No 16 is Incorrect.\n",
      "Better Luck Next Time.\n",
      "Number Of  Correctly Answered Questions: 14\n",
      "Number Of Incorrectly Answered Questions: 6\n",
      "--------------------------------------------------------\n",
      "Answer of Qs S.No 2 is Incorrect.\n",
      "Answer of Qs S.No 17 is Incorrect.\n",
      "Answer of Qs S.No 18 is Incorrect.\n",
      "\n",
      "Congrats You Passed The Exam.\n",
      "Number Of  Correctly Answered Questions: 17\n",
      "Number Of Incorrectly Answered Questions: 3\n",
      "--------------------------------------------------------\n"
     ]
    }
   ],
   "source": [
    "#PROBLEM 1  PART.B\n",
    "\n",
    "# MAIN FUNCTION FOR READING PURPOSE AND EMBEDDING OTHER FUNCTIONS\n",
    "\n",
    "def main():\n",
    "    correct_answers=[\"A\",\"C\",\"A\",\"A\",\"D\",\"B\",\"C\",\"A\",\"C\",\"B\",\"A\",\"D\",\"C\",\"A\",\"D\",\"C\",\"B\",\"B\",\"D\",\"A\"]\n",
    "    with open(\"answer.txt\",\"r\") as f:\n",
    "        g=f.readline()\n",
    "        total=0\n",
    "        while g!=\"\":\n",
    "            g=g.rstrip(\"\\n\")\n",
    "            if len(g)==20:\n",
    "                scoring(g,correct_answers,total)\n",
    "#                 print(g)\n",
    "            g=f.readline()\n",
    "                           \n",
    "main()"
   ]
  },
  {
   "cell_type": "code",
   "execution_count": null,
   "id": "c1469c00",
   "metadata": {},
   "outputs": [],
   "source": []
  },
  {
   "cell_type": "markdown",
   "id": "6552bdd0",
   "metadata": {},
   "source": [
    "#  PROBLEM 2  "
   ]
  },
  {
   "cell_type": "code",
   "execution_count": 6,
   "id": "15859df9",
   "metadata": {},
   "outputs": [],
   "source": [
    "# PROBLEM 2  PART.A  \n",
    "\n",
    "# FUNCTION FOR WRITING ENCRYPTED FORM TO 2ND FILE\n",
    "\n",
    "def writing(encrypted,z):\n",
    "    z.write(encrypted+\"\\n\")      "
   ]
  },
  {
   "cell_type": "code",
   "execution_count": 8,
   "id": "0882a16f",
   "metadata": {},
   "outputs": [
    {
     "name": "stdout",
     "output_type": "stream",
     "text": [
      "#9!.$\n",
      "---------\n",
      "#9<\n",
      "---------\n",
      "!9#\n",
      "---------\n",
      "!.(\n",
      "---------\n",
      "(.<\n",
      "---------\n",
      "<..(\n",
      "---------\n",
      "?..(\n",
      "---------\n",
      "\\.#\n",
      "---------\n",
      "]9!=\n",
      "---------\n",
      "}..(\n",
      "---------\n"
     ]
    }
   ],
   "source": [
    "# PROBLEM 2  PART.B  \n",
    "\n",
    "# FOR MAKING ENCRYPTED WORDS\n",
    "\n",
    "codes = {\"A\":\"%\",\"a\":9,\"B\":\"@\",\"b\":\"#\",\"C\":\"1\",\"c\":\"!\",\"D\":\")\",\"d\":\"(\",\"E\":\"^\",\"e\":\"&\",\"F\":\"+\",\"f\":\"-\",\"G\":\"~\",\"g\":\"<\",\n",
    "        \"H\":\">\",\"h\":\"?\",\"J\":\"/\",\"j\":\"\\\\\",\"K\":\";\",\"k\":\"=\",\"L\":\"[\",\"l\":\"]\",\"M\":\"{\",\"m\":\"}\",\"N\":\"|\",\"n\":\"$\",\"O\":\"'\",\"o\":\".\"}\n",
    "with open(\"problem2encrypted.txt\",\"w\") as z:\n",
    "    with open(\"problem2words.txt\",\"r\") as f:\n",
    "        x=f.readline()\n",
    "        concatenated_value=\"\"       # take empty string here for later concatention\n",
    "        while x!=\"\":                # loop for reading data froom file\n",
    "            x=x.rstrip(\"\\n\")       \n",
    "#             print(x)\n",
    "            for index,key in enumerate(x):        # loop for reading one by one line from file\n",
    "                if key in codes:                     \n",
    "                    value = codes.get(key, \"Not Found\")       #too value of key from dictionary\n",
    "                    concatenated_value+=str(value)            # value drawn from dictionary is added to empty string\n",
    "            print(concatenated_value)\n",
    "            writing(concatenated_value,z)        # pass these arguments to the function\n",
    "            concatenated_value=\"\" \n",
    "            print(\"---------\")\n",
    "            x=f.readline()"
   ]
  },
  {
   "cell_type": "code",
   "execution_count": 11,
   "id": "14d67658",
   "metadata": {},
   "outputs": [
    {
     "name": "stdout",
     "output_type": "stream",
     "text": [
      "bacon\n",
      "bag\n",
      "cab\n",
      "cod\n",
      "dog\n",
      "good\n",
      "hood\n",
      "job\n",
      "lack\n",
      "mood\n"
     ]
    }
   ],
   "source": [
    "# PROBLEM 2  PART.C  \n",
    "\n",
    "# WRITING DECRYPTED VERSION \n",
    "\n",
    "codes = {\"A\":\"%\",\"a\":\"9\",\"B\":\"@\",\"b\":\"#\",\"C\":\"1\",\"c\":\"!\",\"D\":\")\",\"d\":\"(\",\"E\":\"^\",\"e\":\"&\",\"F\":\"+\",\"f\":\"-\",\"G\":\"~\",\"g\":\"<\",\n",
    "        \"H\":\">\",\"h\":\"?\",\"J\":\"/\",\"j\":\"\\\\\",\"K\":\";\",\"k\":\"=\",\"L\":\"[\",\"l\":\"]\",\"M\":\"{\",\"m\":\"}\",\"N\":\"|\",\"n\":\"$\",\"O\":\"'\",\"o\":\".\"}\n",
    "with open(\"problem2encrypted.txt\",\"r\") as z:\n",
    "    x=z.readline()\n",
    "    while x!=\"\":\n",
    "        x=x.rstrip(\"\\n\")\n",
    "        x=str(x)\n",
    "        for index,characters in enumerate(x):      \n",
    "            for key, value in codes.items():    #USED NESTED LOOP FOR DECRYPTION\n",
    "                if characters==value:\n",
    "                    print(key,end=\"\")\n",
    "        print()\n",
    "        x=z.readline()\n",
    "        \n"
   ]
  },
  {
   "cell_type": "markdown",
   "id": "43501b48",
   "metadata": {},
   "source": [
    "# PROBLEM 3"
   ]
  },
  {
   "cell_type": "code",
   "execution_count": 15,
   "id": "3b4e7342",
   "metadata": {},
   "outputs": [],
   "source": [
    "# PROBLEM 3  PART.A  \n",
    "\n",
    "# FUNCTION FOR COUNTING PURPOSE \n",
    "\n",
    "def counting(list_1):\n",
    "    dict_2={}\n",
    "    for x in list_1:\n",
    "        dict_2[x]=dict_2.get(x,0)+1\n",
    "#     print(dict_2)\n",
    "    for k,v in dict_2.items():\n",
    "        print(f\"{k} won {v} times.\")\n",
    "        "
   ]
  },
  {
   "cell_type": "code",
   "execution_count": 16,
   "id": "e27849a9",
   "metadata": {},
   "outputs": [],
   "source": [
    "# PROBLEM 3 PART.B\n",
    "\n",
    "# FUNCTION FOR PUTTHING VALUES IN DICTIONARY\n",
    "\n",
    "def dictionary(year,team):      \n",
    "    dict_1={}\n",
    "    dict_1[year]=team\n",
    "#     print(dict_1)\n"
   ]
  },
  {
   "cell_type": "code",
   "execution_count": 17,
   "id": "fafd613e",
   "metadata": {},
   "outputs": [
    {
     "name": "stdout",
     "output_type": "stream",
     "text": [
      "\n",
      "======================================\n",
      "\n",
      "Boston Americans won 1 times.\n",
      "No Games Played That Year. won 2 times.\n",
      "New York Giants won 5 times.\n",
      "Chicago White Sox won 3 times.\n",
      "Chicago Cubs won 2 times.\n",
      "Pittsburgh Pirates won 5 times.\n",
      "Philadelphia Athletics won 5 times.\n",
      "Boston Red Sox won 6 times.\n",
      "Boston Braves won 1 times.\n",
      "Cincinnati Reds won 5 times.\n",
      "Cleveland Indians won 2 times.\n",
      "New York Yankees won 27 times.\n",
      "Washington Senators won 1 times.\n",
      "St. Louis Cardinals won 11 times.\n",
      "Detroit Tigers won 4 times.\n",
      "Brooklyn Dodgers won 1 times.\n",
      "Milwaukee Braves won 1 times.\n",
      "Los Angeles Dodgers won 5 times.\n",
      "Baltimore Orioles won 3 times.\n",
      "New York Mets won 2 times.\n",
      "Oakland Athletics won 4 times.\n",
      "Philadelphia Phillies won 2 times.\n",
      "Kansas City Royals won 1 times.\n",
      "Minnesota Twins won 2 times.\n",
      "Toronto Blue Jays won 2 times.\n",
      "Atlanta Braves won 1 times.\n",
      "Florida Marlins won 2 times.\n",
      "Arizona Diamondbacks won 1 times.\n",
      "Anaheim Angels won 1 times.\n",
      "San Francisco Giants won 1 times.\n"
     ]
    }
   ],
   "source": [
    "#PROBLEM 3 PART.C\n",
    "\n",
    "# MAIN FUNCTION FOR EMBEDDING OTHER\n",
    "\n",
    "def main():\n",
    "    with open(\"WorldSeriesWinners.txt\",\"r\") as f:\n",
    "        read=f.readline()\n",
    "        list_1=[]\n",
    "        while read!=\"\":\n",
    "            read=read.rstrip(\"\\n\")\n",
    "            spliting=read.split(\" \",1)\n",
    "            if spliting[0]==\"1904\":\n",
    "                year=\"1904\"\n",
    "                team=\"No Games Played That Year.\"\n",
    "            elif spliting[0]==\"1994\":\n",
    "                year=\"1994\"\n",
    "                team=\"No Games Played That Year.\"\n",
    "            else:\n",
    "                year=spliting[0]\n",
    "                team=spliting[1]\n",
    "            list1_=list_1.append(team)\n",
    "#             print(year,team)\n",
    "            dictionary(year,team)\n",
    "            read=f.readline()\n",
    "#         print(list_1)\n",
    "        print(\"\\n======================================\\n\")\n",
    "        counting(list_1)\n",
    "            \n",
    "main()           "
   ]
  },
  {
   "cell_type": "code",
   "execution_count": null,
   "id": "f3db9425",
   "metadata": {},
   "outputs": [],
   "source": []
  }
 ],
 "metadata": {
  "kernelspec": {
   "display_name": "Python 3 (ipykernel)",
   "language": "python",
   "name": "python3"
  },
  "language_info": {
   "codemirror_mode": {
    "name": "ipython",
    "version": 3
   },
   "file_extension": ".py",
   "mimetype": "text/x-python",
   "name": "python",
   "nbconvert_exporter": "python",
   "pygments_lexer": "ipython3",
   "version": "3.11.5"
  }
 },
 "nbformat": 4,
 "nbformat_minor": 5
}
