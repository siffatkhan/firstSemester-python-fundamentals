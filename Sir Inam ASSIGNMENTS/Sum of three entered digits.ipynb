{
 "cells": [
  {
   "cell_type": "markdown",
   "id": "9409de5c",
   "metadata": {},
   "source": [
    "# MY Method"
   ]
  },
  {
   "cell_type": "code",
   "execution_count": null,
   "id": "f1a6bc0b",
   "metadata": {},
   "outputs": [],
   "source": [
    "number=int(input(\"Enter three digit number: \"))\n",
    "if number<100:\n",
    "    print(\"Number is invalid.\")\n",
    "else:\n",
    "    if number>=100 and number <=999:\n",
    "        s=number//100\n",
    "        \n",
    "        r1=number%100\n",
    "        s1=r1//10\n",
    "    \n",
    "        s2=r1%10\n",
    "        \n",
    "        print(s+s1+s2)\n",
    "        "
   ]
  },
  {
   "cell_type": "markdown",
   "id": "743af070",
   "metadata": {},
   "source": [
    "# SIR METHOD"
   ]
  },
  {
   "cell_type": "code",
   "execution_count": 2,
   "id": "32f6a0c5",
   "metadata": {},
   "outputs": [
    {
     "name": "stdout",
     "output_type": "stream",
     "text": [
      "Enter three digit number: 876\n",
      "6\n",
      "7\n",
      "8\n",
      "21\n"
     ]
    }
   ],
   "source": [
    "N=int(input(\"Enter three digit number: \"))\n",
    "if N<100:\n",
    "    print(\"Number is invalid.\")\n",
    "else:\n",
    "    if N>=100 and N<=999:\n",
    "        s=N%10\n",
    "        N=N//10\n",
    "        s2=N%10\n",
    "        N=N//10\n",
    "        print(s)\n",
    "        print(s2)\n",
    "        print(N)\n",
    "        print(s+s2+N)"
   ]
  },
  {
   "cell_type": "markdown",
   "id": "37c0d4e4",
   "metadata": {},
   "source": [
    "# ChatGPT"
   ]
  },
  {
   "cell_type": "code",
   "execution_count": 5,
   "id": "86832414",
   "metadata": {},
   "outputs": [
    {
     "name": "stdout",
     "output_type": "stream",
     "text": [
      "Enter a three-digit number: 123\n",
      "123sum of digits: 6\n"
     ]
    }
   ],
   "source": [
    "Number = input(\"Enter a three-digit number: \")\n",
    "if len(Number) == 3:\n",
    "    \n",
    "    First_digit = int(Number[0])\n",
    "\n",
    "    Second_digit = int(Number[1])\n",
    "\n",
    "    Third_digit = int(Number[2])\n",
    "    \n",
    "    Sum = First_digit + Second_digit + Third_digit\n",
    "    \n",
    "    print(\"sum of digits:\", Sum)\n",
    "\n",
    "else:\n",
    "    print(\"Invalid number.\")"
   ]
  },
  {
   "cell_type": "code",
   "execution_count": null,
   "id": "07162a94",
   "metadata": {},
   "outputs": [],
   "source": []
  }
 ],
 "metadata": {
  "kernelspec": {
   "display_name": "Python 3 (ipykernel)",
   "language": "python",
   "name": "python3"
  },
  "language_info": {
   "codemirror_mode": {
    "name": "ipython",
    "version": 3
   },
   "file_extension": ".py",
   "mimetype": "text/x-python",
   "name": "python",
   "nbconvert_exporter": "python",
   "pygments_lexer": "ipython3",
   "version": "3.11.5"
  }
 },
 "nbformat": 4,
 "nbformat_minor": 5
}
