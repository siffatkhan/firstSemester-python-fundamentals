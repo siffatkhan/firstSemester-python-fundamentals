{
 "cells": [
  {
   "cell_type": "code",
   "execution_count": 17,
   "id": "aec1597d",
   "metadata": {},
   "outputs": [
    {
     "name": "stdout",
     "output_type": "stream",
     "text": [
      "20\n",
      "15\n",
      "Too few answers\n",
      "Too many answers\n",
      "invalid answer\n",
      "2\n"
     ]
    }
   ],
   "source": [
    "with open(\"exam.txt\",\"r\")as f:\n",
    "    with open(\"score.txt\",\"w\")as g:\n",
    "        key=f.readline()\n",
    "        key=key.rstrip(\"\\n\")\n",
    "        answer=f.readline()  \n",
    "        while answer!=\"\":\n",
    "            answer=answer.rstrip(\"\\n\")\n",
    "            anslist=answer.split()\n",
    "            id1=anslist[0]\n",
    "            mcqs=anslist[-1]\n",
    "            answer=f.readline()\n",
    "            total=scoring(key,mcqs)\n",
    "            writing(total,id1)\n",
    "\n",
    "        "
   ]
  },
  {
   "cell_type": "code",
   "execution_count": 15,
   "id": "232bdffb",
   "metadata": {},
   "outputs": [],
   "source": [
    "def scoring(key,exam):\n",
    "    x=len(key)\n",
    "    y=len(exam)\n",
    "\n",
    "    if x>y:\n",
    "        print(\"Too few answers\")\n",
    "    elif x<y:\n",
    "        print(\"Too many answers\")\n",
    "    elif x==y:\n",
    "        total=0\n",
    "        for index,i in enumerate(exam):\n",
    "            a=key[index]\n",
    "            if ord(i)>ord(\"f\"):\n",
    "                print(\"invalid answer\")\n",
    "                break \n",
    "            elif i == a and ord(i)<ord(\"g\"):\n",
    "                total+=1 \n",
    "            elif i != a and ord(a)<ord(\"g\"):\n",
    "                total+=0\n",
    "                    \n",
    "        return print(total)\n",
    "#         return total"
   ]
  },
  {
   "cell_type": "code",
   "execution_count": 14,
   "id": "fca92401",
   "metadata": {},
   "outputs": [],
   "source": [
    "def writing(score,id1):\n",
    "    with open(\"score.txt\",\"w\")as q:\n",
    "#         print(count)\n",
    "        \n",
    "        q.write(\"ID\\t\"+\"Score\"+\"\\n\")\n",
    "        for l in range(6):\n",
    "            q.write(id1+\" \")\n",
    "            q.write(str(score)+\"\\n\")\n",
    "        \n",
    "#     print(id1)\n",
    "#     print(score)\n",
    "    "
   ]
  },
  {
   "cell_type": "code",
   "execution_count": null,
   "id": "4089b65d",
   "metadata": {},
   "outputs": [],
   "source": []
  },
  {
   "cell_type": "code",
   "execution_count": null,
   "id": "fa59bfcb",
   "metadata": {},
   "outputs": [],
   "source": []
  },
  {
   "cell_type": "code",
   "execution_count": null,
   "id": "4f411453",
   "metadata": {},
   "outputs": [],
   "source": []
  },
  {
   "cell_type": "code",
   "execution_count": null,
   "id": "4c8d39fb",
   "metadata": {},
   "outputs": [],
   "source": []
  },
  {
   "cell_type": "code",
   "execution_count": null,
   "id": "0ecf1f16",
   "metadata": {},
   "outputs": [],
   "source": [
    "        \n",
    "        #             elif exam[index]!=\"a\" or exam[index]!=\"b\" or exam[index]!=\"c\" or exam[index]!=\"d\" or exam[index]!=\"d\"or exam[index]!=\"f\":\n",
    "#                 total+=0\n",
    "#             else:\n",
    "#                 total+=0\n",
    "#         elif key!=exam: \n",
    "#             for index,i in enumerate(key):\n",
    "#                 a=exam[index]\n",
    "#                 if a==i:\n",
    "#                     total+=1\n",
    "#             print(total)\n",
    "#         elif exam>key:\n",
    "#             for index,z in enumerate(exam):\n",
    "#                 if ord(z) > ord(\"f\"):\n",
    "#                     print(f\"Invalid Answers. Has {z} As Option Which Is Not Possible\")\n",
    "#                     break\n",
    "# \n",
    "            \n",
    "#     for index,o in enumerate(key):\n",
    "#         if o==exam[o]:\n",
    "#             print(\"yes\")\n",
    "#             total+=1\n",
    "#         else:\n",
    "#             total+=0"
   ]
  },
  {
   "cell_type": "code",
   "execution_count": null,
   "id": "2907edb7",
   "metadata": {},
   "outputs": [],
   "source": [
    "with open(\"exam1.txt\",\"w\")as f:\n",
    "    key=input(\"Enter Key Of The Exam: \")\n",
    "    f.write(key+\"\\n\")\n",
    "    no=int(input(\"Enter the number of student appear in exam: \"))\n",
    "    for x in range(1,no+1):\n",
    "        idnum=int(input(\"Enter your Id number: \"))\n",
    "        answer=input(\"Enter your answers\")\n",
    "        f.write(str(idnum)+\" \")\n",
    "        f.write(answer+\"\\n\")\n",
    "        "
   ]
  },
  {
   "cell_type": "code",
   "execution_count": null,
   "id": "d95b11f8",
   "metadata": {},
   "outputs": [],
   "source": [
    "z=\"abcdefabcdefabcdefab\"\n",
    "a=\"abddefbbbdefcbcdefac\"\n",
    "b=\"abdfjskjdnrthhvkcsss\"\n",
    "# if z==b:\n",
    "#     for index,i in enumerate(b):\n",
    "#         sani=b[i]\n",
    "#         print(sani)\n",
    "a=\"i\"\n",
    "b=\"i\"\n",
    "if a not in b:\n",
    "    print(\"op\")\n",
    "else:\n",
    "    print(\"oouiu\")"
   ]
  },
  {
   "cell_type": "code",
   "execution_count": null,
   "id": "b3532e13",
   "metadata": {},
   "outputs": [],
   "source": []
  }
 ],
 "metadata": {
  "kernelspec": {
   "display_name": "Python 3 (ipykernel)",
   "language": "python",
   "name": "python3"
  },
  "language_info": {
   "codemirror_mode": {
    "name": "ipython",
    "version": 3
   },
   "file_extension": ".py",
   "mimetype": "text/x-python",
   "name": "python",
   "nbconvert_exporter": "python",
   "pygments_lexer": "ipython3",
   "version": "3.11.5"
  }
 },
 "nbformat": 4,
 "nbformat_minor": 5
}
