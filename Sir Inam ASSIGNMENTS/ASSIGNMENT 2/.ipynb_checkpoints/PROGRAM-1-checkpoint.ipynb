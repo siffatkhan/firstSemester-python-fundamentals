{
 "cells": [
  {
   "cell_type": "code",
   "execution_count": 9,
   "id": "e13f405a",
   "metadata": {},
   "outputs": [
    {
     "name": "stdout",
     "output_type": "stream",
     "text": [
      "Enter No Of Rooms2\n",
      "Enter Size Of Tiles In Inches12\n",
      "\n",
      "Enter 1 Room Length: 17 4\n",
      "enter room width: 9 3\n",
      "\n",
      "1 Room Require 180 tiles\n",
      "\n",
      "\n",
      "Enter 2 Room Length: 11 6\n",
      "enter room width: 11 9\n",
      "\n",
      "2 Room Require 144 tiles\n",
      "\n",
      "\n",
      "Total Tiles Required Are 324\n",
      "Number of boxes needed: 17\n",
      "Number of tiles left: 16\n"
     ]
    }
   ],
   "source": [
    "# total=0\n",
    "room=int(input(\"Enter No Of Rooms\"))\n",
    "while room<1:\n",
    "    print(\"INVALID ROOM INPUT\")\n",
    "    print(\"-------------------------\")\n",
    "    room=int(input(\"ENTER CORRECT NO OF ROOMS\"))\n",
    "tileSize=int(input(\"Enter Size Of Tiles In Inches\"))\n",
    "while tileSize<1 or tileSize>12:\n",
    "    print(\"INVALID TILE INPUT\")\n",
    "    print(\"-------------------------\")\n",
    "    tileSize=int(input(\"ENTER CORRECT SIZE OF TILES IN INCHES \"))\n",
    "def main():\n",
    "    calc()\n",
    "    \n",
    "main()"
   ]
  },
  {
   "cell_type": "code",
   "execution_count": 8,
   "id": "57a53eff",
   "metadata": {},
   "outputs": [],
   "source": [
    "def calc():\n",
    "        total=0\n",
    "        count=1\n",
    "        while count<=room:\n",
    "            length=input(f\"\\nEnter {count} Room Length: \")    \n",
    "            if \" \" in length:\n",
    "                new_length=length.split()\n",
    "                new_length1=len(new_length)\n",
    "                if new_length1==1:\n",
    "                    feetL=int(new_length[0])\n",
    "                    product=feetL*12\n",
    "#                     print(product)\n",
    "                    x=additionlength(product)  \n",
    "                else:\n",
    "                    feetL=int(new_length[0])\n",
    "                    inchL=int(new_length[1])\n",
    "                    if inchL>12 or inchL<0:\n",
    "                        raise Exception(\"INVALID INCHES INPUT\")\n",
    "                    product=(feetL*12)+inchL\n",
    "#                     print(product)\n",
    "                    x=additionlength(product)      \n",
    "            elif \" \" not in length:\n",
    "                length=int(length)\n",
    "                product=length*12\n",
    "#                 print(product)\n",
    "                x=additionlength(product)\n",
    "                \n",
    "            width=input(\"enter room width: \")\n",
    "            if \" \" in width:\n",
    "                new_width=width.split()\n",
    "                new_width1=len(new_width)\n",
    "                if new_width1==1:\n",
    "                    feetW=int(new_width[0])\n",
    "                    product_wid=feetW*12\n",
    "#                     print(product_wid)\n",
    "                    y=additionwidth(product_wid)\n",
    "                else:\n",
    "                    feetW=int(new_width[0])\n",
    "                    inchW=int(new_width[1])\n",
    "                    if inchW>12 or inchW<0:\n",
    "                        raise Exception(\"INVALID INCHES INPUT\")\n",
    "                    product_wid=(feetW*12)+inchW\n",
    "#                     print(product_wid)\n",
    "                    y=additionwidth(product_wid)\n",
    "            elif \" \" not in width:\n",
    "                width=int(width)\n",
    "                product_wid=width*12\n",
    "#                 print(product_wid)\n",
    "                y=additionwidth(product_wid) \n",
    "            z=x*y\n",
    "            print(f\"\\n{count} Room Require {z} tiles\\n\")\n",
    "            total+=z\n",
    "            count+=1\n",
    "        print(f\"\\nTotal Tiles Required Are {total}\")\n",
    "        tileboxes(total)"
   ]
  },
  {
   "cell_type": "code",
   "execution_count": 7,
   "id": "45744ba3",
   "metadata": {},
   "outputs": [],
   "source": [
    "def additionlength(product):\n",
    "    if product%tileSize!=0:\n",
    "        addition=(product//tileSize)+1\n",
    "        return addition\n",
    "#         return print(addition)\n",
    "    else:\n",
    "        addition=(product//tileSize)\n",
    "        return addition\n",
    "#         return print(addition)\n",
    "        \n",
    "def additionwidth(product_wid):\n",
    "    if product_wid%tileSize!=0:\n",
    "        addwid=(product_wid//tileSize)+1\n",
    "        return addwid\n",
    "#         return print(addwid)\n",
    "    else:\n",
    "        addwid=(product_wid//tileSize)\n",
    "        return addwid\n",
    "#         return print(addwid)\n",
    "def tileboxes(total):\n",
    "    if total%20==0:\n",
    "        print(f\"Number of boxes needed: {total/20}\")\n",
    "        print(f\"Number of tiles left: {total%20}\")\n",
    "    elif total%20!=0:\n",
    "        i=(total//20)+1\n",
    "        print(f\"Number of boxes needed: {i}\")\n",
    "        print(f\"Number of tiles left: {(i*20)-total}\")\n",
    "        \n",
    "        "
   ]
  },
  {
   "cell_type": "code",
   "execution_count": null,
   "id": "266964a4",
   "metadata": {},
   "outputs": [],
   "source": []
  },
  {
   "cell_type": "code",
   "execution_count": null,
   "id": "c87bdef6",
   "metadata": {},
   "outputs": [],
   "source": []
  },
  {
   "cell_type": "code",
   "execution_count": 13,
   "id": "341488be",
   "metadata": {},
   "outputs": [
    {
     "name": "stdout",
     "output_type": "stream",
     "text": [
      "enter room length56 67\n",
      "5\n",
      "56 \n"
     ]
    }
   ],
   "source": [
    "# METHOD 1.a\n",
    "\n",
    "length=input(\"enter room length\")\n",
    "print(len(length))\n",
    "count=0\n",
    "word=\"\"\n",
    "for i in length:\n",
    "    word+=i\n",
    "    if i==\" \":\n",
    "        \n",
    "        break\n",
    "print(word)\n"
   ]
  },
  {
   "cell_type": "code",
   "execution_count": 1,
   "id": "e75d5da9",
   "metadata": {},
   "outputs": [
    {
     "name": "stdout",
     "output_type": "stream",
     "text": [
      "2\n",
      "7\n",
      "4\n",
      "\n",
      "74\n"
     ]
    }
   ],
   "source": [
    "# METHOD 1.b\n",
    "\n",
    "x=\"56 74\"\n",
    "y=x.rindex(\" \")\n",
    "print(y)\n",
    "z=len(x)\n",
    "ss=\"\"\n",
    "# for ch in x:\n",
    "for i in range(y+1,z):\n",
    "    print(x[i])\n",
    "    ss+=x[i]\n",
    "    \n",
    "print()\n",
    "print(ss)    \n",
    "    "
   ]
  },
  {
   "cell_type": "code",
   "execution_count": 12,
   "id": "e136b783",
   "metadata": {},
   "outputs": [],
   "source": [
    "#method 2 yargul\n",
    "\n",
    "\n",
    "# count=0\n",
    "# while count<=r:\n",
    "#     length=input(\"enter room length: \")\n",
    "#     new_length=length.split()\n",
    "#     feetL=int(new_length[0])\n",
    "#     inchL=int(new_length[1])\n",
    "#     if inchL>12:\n",
    "#         raise Exception(\"INVALID INCHES INPUT\")\n",
    "#     width=input(\"enter room width: \"\n",
    "#     new_width=width.split()\n",
    "#     feetW=int(new_width[0])\n",
    "#     inchW=int(new_width[1])\n",
    "#     if inchL>12:\n",
    "#         raise Exception(\"INVALID INCHES INPUT\")\n",
    "#     print((feetL*12)+inchL)\n",
    "#     print((feetW*12)+inchW)\n",
    "#     count+=1\n",
    "\n",
    "    "
   ]
  },
  {
   "cell_type": "code",
   "execution_count": null,
   "id": "4039e268",
   "metadata": {},
   "outputs": [],
   "source": []
  },
  {
   "cell_type": "code",
   "execution_count": null,
   "id": "31df1ea8",
   "metadata": {},
   "outputs": [],
   "source": []
  },
  {
   "cell_type": "code",
   "execution_count": null,
   "id": "391fa09f",
   "metadata": {},
   "outputs": [],
   "source": []
  },
  {
   "cell_type": "code",
   "execution_count": null,
   "id": "062b3912",
   "metadata": {},
   "outputs": [],
   "source": []
  },
  {
   "cell_type": "code",
   "execution_count": null,
   "id": "95b1665e",
   "metadata": {},
   "outputs": [],
   "source": []
  },
  {
   "cell_type": "code",
   "execution_count": null,
   "id": "d7cf357a",
   "metadata": {},
   "outputs": [],
   "source": []
  }
 ],
 "metadata": {
  "kernelspec": {
   "display_name": "Python 3 (ipykernel)",
   "language": "python",
   "name": "python3"
  },
  "language_info": {
   "codemirror_mode": {
    "name": "ipython",
    "version": 3
   },
   "file_extension": ".py",
   "mimetype": "text/x-python",
   "name": "python",
   "nbconvert_exporter": "python",
   "pygments_lexer": "ipython3",
   "version": "3.11.5"
  }
 },
 "nbformat": 4,
 "nbformat_minor": 5
}
