{
 "cells": [
  {
   "cell_type": "code",
   "execution_count": 5,
   "id": "aec1597d",
   "metadata": {},
   "outputs": [
    {
     "name": "stdout",
     "output_type": "stream",
     "text": [
      "20\n",
      "15\n",
      "Too few answers\n",
      "Too many answers\n",
      "invalid answer\n"
     ]
    }
   ],
   "source": [
    "with open(\"exam.txt\",\"r\")as f:\n",
    "    with open(\"score.txt\",\"w\")as g:\n",
    "        key=f.readline()\n",
    "        key=key.rstrip(\"\\n\")\n",
    "        answer=f.readline()  \n",
    "        while answer!=\"\":\n",
    "            answer=answer.rstrip(\"\\n\")\n",
    "            anslist=answer.split()\n",
    "            id1=anslist[0]\n",
    "            mcqs=anslist[-1]\n",
    "            correct_total=scoring(key,mcqs,id1)\n",
    "            writing(correct_total,id1)\n",
    "            answer=f.readline()\n",
    "            \n",
    "\n",
    "        "
   ]
  },
  {
   "cell_type": "code",
   "execution_count": 8,
   "id": "232bdffb",
   "metadata": {},
   "outputs": [],
   "source": [
    "# with open(\"score.txt\",\"w\")as q:   /////CORRECT ONE\n",
    "def scoring(key,exam,id1):\n",
    "    x=len(key)\n",
    "    y=len(exam)\n",
    "\n",
    "    if x>y:\n",
    "        total=\"Too few answers\"\n",
    "        return print(total)\n",
    "    elif x<y:\n",
    "        total=\"Too many answers\"\n",
    "        return print(total)\n",
    "    elif x==y:\n",
    "        total=0\n",
    "        for index,i in enumerate(exam):\n",
    "            a=key[index]\n",
    "            if ord(i)>ord(\"f\"):\n",
    "                total=\"invalid answer\"\n",
    "                return print(total)\n",
    "                break \n",
    "            elif i == a and ord(i)<ord(\"g\"):\n",
    "                total+=1 \n",
    "            elif i != a and ord(a)<ord(\"g\"):\n",
    "                total+=0\n",
    "        return print(total)\n",
    "    \n",
    "#     ------------------------------\n",
    "        \n",
    "#     q.write(\"ID\\t\"+\"Score\"+\"\\n\")\n",
    "#     for l in range(6):\n",
    "#             q.write(id1+\" \")\n",
    "#             q.write(str(score)+\"\\n\")\n",
    "    \n",
    "#         )\n",
    "#         return total"
   ]
  },
  {
   "cell_type": "code",
   "execution_count": 7,
   "id": "fca92401",
   "metadata": {},
   "outputs": [],
   "source": [
    "def writing(score,id1):\n",
    "    with open(\"score.txt\",\"w\")as q:\n",
    "        q.write(\"ID\\t\"+\"Score\"+\"\\n\")\n",
    "        for i in range(6):\n",
    "            q.write(id1+\" \")\n",
    "            q.write(str(score)+\"\\n\")\n",
    "            \n",
    "#         q.write(id1+\" \")\n",
    "#         q.write(str(score)+\"\\n\")\n",
    "        \n",
    "#         ---------------------------\n",
    "        \n",
    "#         for l in range(6):\n",
    "#             q.write(id1+\" \")\n",
    "#             q.write(str(score)+\"\\n\")\n",
    "        \n",
    "#     print(id1)\n",
    "#     print(score)\n",
    "    "
   ]
  },
  {
   "cell_type": "code",
   "execution_count": null,
   "id": "4089b65d",
   "metadata": {},
   "outputs": [],
   "source": []
  },
  {
   "cell_type": "code",
   "execution_count": 1,
   "id": "fa59bfcb",
   "metadata": {},
   "outputs": [],
   "source": [
    "def scoring(key,exam,id1):\n",
    "    with open(\"score.txt\",\"w\")as q:\n",
    "        q.write(\"ID\\t\"+\"Score\"+\"\\n\")\n",
    "        x=len(key)\n",
    "        y=len(exam)\n",
    "        while True:\n",
    "            if x>y:\n",
    "                total=\"Too few answers\"\n",
    "                return print(total)\n",
    "            elif x<y:\n",
    "                total=\"Too many answers\"\n",
    "                return print(total)\n",
    "            elif x==y:\n",
    "                total=0\n",
    "                for index,i in enumerate(exam):\n",
    "                    a=key[index]\n",
    "                    if ord(i)>ord(\"f\"):\n",
    "                        total=\"invalid answer\"\n",
    "                        return print(total)\n",
    "                        q.write(id1+\" \")\n",
    "                        q.write(str(total)+\"\\n\")\n",
    "                        break \n",
    "                    elif i == a and ord(i)<ord(\"g\"):\n",
    "                        total+=1 \n",
    "                    elif i != a and ord(a)<ord(\"g\"):\n",
    "                        total+=0\n",
    "#                 return print(total)\n",
    "            q.write(id1+\" \")\n",
    "            q.write(str(total)+\"\\n\")\n",
    "        \n",
    "        \n",
    "#     q.write(\"ID\\t\"+\"Score\"+\"\\n\")\n",
    "#     for l in range(6):\n",
    "#             q.write(id1+\" \")\n",
    "#             q.write(str(score)+\"\\n\")"
   ]
  },
  {
   "cell_type": "code",
   "execution_count": null,
   "id": "1abf1f53",
   "metadata": {},
   "outputs": [],
   "source": []
  },
  {
   "cell_type": "code",
   "execution_count": null,
   "id": "4f411453",
   "metadata": {},
   "outputs": [],
   "source": []
  },
  {
   "cell_type": "code",
   "execution_count": null,
   "id": "4c8d39fb",
   "metadata": {},
   "outputs": [],
   "source": []
  },
  {
   "cell_type": "code",
   "execution_count": null,
   "id": "0ecf1f16",
   "metadata": {},
   "outputs": [],
   "source": []
  },
  {
   "cell_type": "code",
   "execution_count": null,
   "id": "2907edb7",
   "metadata": {},
   "outputs": [],
   "source": [
    "with open(\"exam1.txt\",\"w\")as f:\n",
    "    key=input(\"Enter Key Of The Exam: \")\n",
    "    f.write(key+\"\\n\")\n",
    "    no=int(input(\"Enter the number of student appear in exam: \"))\n",
    "    for x in range(1,no+1):\n",
    "        idnum=int(input(\"Enter your Id number: \"))\n",
    "        answer=input(\"Enter your answers\")\n",
    "        f.write(str(idnum)+\" \")\n",
    "        f.write(answer+\"\\n\")\n",
    "        "
   ]
  },
  {
   "cell_type": "code",
   "execution_count": null,
   "id": "d95b11f8",
   "metadata": {},
   "outputs": [],
   "source": []
  },
  {
   "cell_type": "code",
   "execution_count": null,
   "id": "b3532e13",
   "metadata": {},
   "outputs": [],
   "source": []
  }
 ],
 "metadata": {
  "kernelspec": {
   "display_name": "Python 3 (ipykernel)",
   "language": "python",
   "name": "python3"
  },
  "language_info": {
   "codemirror_mode": {
    "name": "ipython",
    "version": 3
   },
   "file_extension": ".py",
   "mimetype": "text/x-python",
   "name": "python",
   "nbconvert_exporter": "python",
   "pygments_lexer": "ipython3",
   "version": "3.11.5"
  }
 },
 "nbformat": 4,
 "nbformat_minor": 5
}
