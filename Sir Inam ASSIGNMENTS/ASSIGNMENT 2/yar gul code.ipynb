{
 "cells": [
  {
   "cell_type": "code",
   "execution_count": 2,
   "id": "80a74ae8",
   "metadata": {},
   "outputs": [],
   "source": [
    "with open(\"exam11.txt\",\"r\") as a:\n",
    "    with open(\"score.txt\",\"w\") as b:\n",
    "        def main():\n",
    "            key(a)\n",
    "            answers(a)\n",
    "            score(b)\n",
    "    \n",
    "        "
   ]
  },
  {
   "cell_type": "code",
   "execution_count": 3,
   "id": "15168f16",
   "metadata": {},
   "outputs": [],
   "source": [
    "def key(a):\n",
    "    x=a.read(20)\n",
    "    return x\n",
    "    \n",
    "def answers(a):\n",
    "    y=a.readlines()\n",
    "    return y\n",
    "\n",
    "def score(b):\n",
    "    b.write(\"ID\"+\"\\t\"+\"Score\")\n",
    "    x=a.read(20)\n",
    "    y=a.readlines()\n",
    "    for i in range(1,6):\n",
    "        score=(y[i]).split(\" \")[1]\n",
    "        Id=(y[i]).split(\" \")[0]\n",
    "        marks=0\n",
    "        if len(score)==21:\n",
    "            for mcq in range(0,20):\n",
    "                if score[mcq]==x[mcq]:\n",
    "                    marks+=1\n",
    "                else:\n",
    "                    marks+=0\n",
    "            b.write(str(Id)+\"\\t\"+str(marks)+\"\\n\")\n",
    "        elif len(score)<20:\n",
    "            b.write(str(Id)+\"\\t\"+\"Too Few Answers\"+\"\\n\")\n",
    "        elif len(score)>20:\n",
    "            b.write(str(Id)+\"\\t\"+\"Too Many Answer\"+\"\\n\")\n",
    "        elif score[mcq]!=\"a\" or score[mcq]!=\"b\" or score[mcq]!=\"c\" or score[mcq]!=\"d\" or score[mcq]!=\"e\" or score[mcq]!=\"f\":\n",
    "            b.write(str(Id)+\"\\t\"+\"Invalid Answers\")"
   ]
  },
  {
   "cell_type": "code",
   "execution_count": 4,
   "id": "98b0692c",
   "metadata": {},
   "outputs": [
    {
     "name": "stdout",
     "output_type": "stream",
     "text": [
      "abcdefabcdefabcdefab\n",
      " 1234567 abcdefabcdefabcdefab\n",
      "\n"
     ]
    }
   ],
   "source": [
    "#USAGE OF READLINES FUNCTION IN LISTS\n",
    "\n",
    "with open(\"exam.txt\",\"r\") as a:\n",
    "    x=a.readlines()\n",
    "    \n",
    "    print(x[0],x[1],)\n",
    "#     print(x.rstrip(\"\\n\"))"
   ]
  },
  {
   "cell_type": "code",
   "execution_count": null,
   "id": "cb2dff60",
   "metadata": {},
   "outputs": [],
   "source": []
  },
  {
   "cell_type": "code",
   "execution_count": null,
   "id": "3574a62e",
   "metadata": {},
   "outputs": [],
   "source": []
  }
 ],
 "metadata": {
  "kernelspec": {
   "display_name": "Python 3 (ipykernel)",
   "language": "python",
   "name": "python3"
  },
  "language_info": {
   "codemirror_mode": {
    "name": "ipython",
    "version": 3
   },
   "file_extension": ".py",
   "mimetype": "text/x-python",
   "name": "python",
   "nbconvert_exporter": "python",
   "pygments_lexer": "ipython3",
   "version": "3.11.5"
  }
 },
 "nbformat": 4,
 "nbformat_minor": 5
}
