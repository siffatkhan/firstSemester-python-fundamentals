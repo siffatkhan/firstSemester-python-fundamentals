{
 "cells": [
  {
   "cell_type": "code",
   "execution_count": 4,
   "id": "3719fc13",
   "metadata": {},
   "outputs": [
    {
     "name": "stdout",
     "output_type": "stream",
     "text": [
      "1stName LastName PhoneNuMBER\n",
      "=============================\n",
      "SIFFAT ULLAH 03456988902\n",
      "USMAN KHAN 03562478868\n",
      "AMIR KHAN 03256712980\n",
      "SAQIB KHAN  03667432870\n",
      "AYAZ KHAN 03112674789\n",
      "SAAD KHAN 03675247862\n",
      "YAR GUL 03247158653\n",
      "JAWAD KHAN 0356728542\n",
      "NAQEEB KHAN 0326178323\n",
      "AIZAZ KHAN 0322547678\n",
      "\n",
      "\n"
     ]
    }
   ],
   "source": [
    "# with open(\"phonedir.txt\",\"r\") as f:\n",
    "    \n",
    "#     x=f.read()\n",
    "#     print(x)\n"
   ]
  },
  {
   "cell_type": "code",
   "execution_count": 1,
   "id": "5683a3ce",
   "metadata": {},
   "outputs": [
    {
     "ename": "FileNotFoundError",
     "evalue": "[Errno 2] No such file or directory: 'phonedir.txt'",
     "output_type": "error",
     "traceback": [
      "\u001b[0;31m---------------------------------------------------------------------------\u001b[0m",
      "\u001b[0;31mFileNotFoundError\u001b[0m                         Traceback (most recent call last)",
      "Cell \u001b[0;32mIn[1], line 22\u001b[0m\n\u001b[1;32m     20\u001b[0m                     \u001b[38;5;28mprint\u001b[39m(\u001b[38;5;124m\"\u001b[39m\u001b[38;5;124mno such name present\u001b[39m\u001b[38;5;124m\"\u001b[39m)\n\u001b[1;32m     21\u001b[0m             another\u001b[38;5;241m=\u001b[39m\u001b[38;5;28minput\u001b[39m(\u001b[38;5;124m\"\u001b[39m\u001b[38;5;124mdo you want to repeat\u001b[39m\u001b[38;5;124m\"\u001b[39m)\n\u001b[0;32m---> 22\u001b[0m read()\n",
      "Cell \u001b[0;32mIn[1], line 2\u001b[0m, in \u001b[0;36mread\u001b[0;34m()\u001b[0m\n\u001b[1;32m      1\u001b[0m \u001b[38;5;28;01mdef\u001b[39;00m \u001b[38;5;21mread\u001b[39m():      \n\u001b[0;32m----> 2\u001b[0m     \u001b[38;5;28;01mwith\u001b[39;00m \u001b[38;5;28mopen\u001b[39m(\u001b[38;5;124m\"\u001b[39m\u001b[38;5;124mphonedir.txt\u001b[39m\u001b[38;5;124m\"\u001b[39m,\u001b[38;5;124m\"\u001b[39m\u001b[38;5;124mr\u001b[39m\u001b[38;5;124m\"\u001b[39m) \u001b[38;5;28;01mas\u001b[39;00m f:\n\u001b[1;32m      3\u001b[0m         another\u001b[38;5;241m=\u001b[39m\u001b[38;5;124m\"\u001b[39m\u001b[38;5;124my\u001b[39m\u001b[38;5;124m\"\u001b[39m\n\u001b[1;32m      4\u001b[0m         \u001b[38;5;28;01mwhile\u001b[39;00m another\u001b[38;5;241m==\u001b[39m\u001b[38;5;124m\"\u001b[39m\u001b[38;5;124my\u001b[39m\u001b[38;5;124m\"\u001b[39m \u001b[38;5;129;01mor\u001b[39;00m another\u001b[38;5;241m==\u001b[39m\u001b[38;5;124m\"\u001b[39m\u001b[38;5;124mY\u001b[39m\u001b[38;5;124m\"\u001b[39m:\n",
      "File \u001b[0;32m~/anaconda3/lib/python3.11/site-packages/IPython/core/interactiveshell.py:286\u001b[0m, in \u001b[0;36m_modified_open\u001b[0;34m(file, *args, **kwargs)\u001b[0m\n\u001b[1;32m    279\u001b[0m \u001b[38;5;28;01mif\u001b[39;00m file \u001b[38;5;129;01min\u001b[39;00m {\u001b[38;5;241m0\u001b[39m, \u001b[38;5;241m1\u001b[39m, \u001b[38;5;241m2\u001b[39m}:\n\u001b[1;32m    280\u001b[0m     \u001b[38;5;28;01mraise\u001b[39;00m \u001b[38;5;167;01mValueError\u001b[39;00m(\n\u001b[1;32m    281\u001b[0m         \u001b[38;5;124mf\u001b[39m\u001b[38;5;124m\"\u001b[39m\u001b[38;5;124mIPython won\u001b[39m\u001b[38;5;124m'\u001b[39m\u001b[38;5;124mt let you open fd=\u001b[39m\u001b[38;5;132;01m{\u001b[39;00mfile\u001b[38;5;132;01m}\u001b[39;00m\u001b[38;5;124m by default \u001b[39m\u001b[38;5;124m\"\u001b[39m\n\u001b[1;32m    282\u001b[0m         \u001b[38;5;124m\"\u001b[39m\u001b[38;5;124mas it is likely to crash IPython. If you know what you are doing, \u001b[39m\u001b[38;5;124m\"\u001b[39m\n\u001b[1;32m    283\u001b[0m         \u001b[38;5;124m\"\u001b[39m\u001b[38;5;124myou can use builtins\u001b[39m\u001b[38;5;124m'\u001b[39m\u001b[38;5;124m open.\u001b[39m\u001b[38;5;124m\"\u001b[39m\n\u001b[1;32m    284\u001b[0m     )\n\u001b[0;32m--> 286\u001b[0m \u001b[38;5;28;01mreturn\u001b[39;00m io_open(file, \u001b[38;5;241m*\u001b[39margs, \u001b[38;5;241m*\u001b[39m\u001b[38;5;241m*\u001b[39mkwargs)\n",
      "\u001b[0;31mFileNotFoundError\u001b[0m: [Errno 2] No such file or directory: 'phonedir.txt'"
     ]
    }
   ],
   "source": [
    "def read():      \n",
    "    with open(\"phonedir.txt\",\"r\") as f:\n",
    "        another=\"y\"\n",
    "        while another==\"y\" or another==\"Y\":\n",
    "            first=input(\"Enter first name in capital: \")\n",
    "            last=input(\"enter last name in capital: \")\n",
    "            search=first+last\n",
    "            end=f.readline(3)\n",
    "            while end!=\" \":\n",
    "                list1=end.split()\n",
    "                print(len(list1))\n",
    "                name1=list1[0]\n",
    "                name2=list1[1]\n",
    "                name=name1+name2\n",
    "                print(name)\n",
    "                end=f.readline()\n",
    "                if search==name:\n",
    "                    print(f\"phone number is: {list1[2]}\")\n",
    "                else:\n",
    "                    print(\"no such name present\")\n",
    "            another=input(\"do you want to repeat\")\n",
    "read()"
   ]
  },
  {
   "cell_type": "code",
   "execution_count": 13,
   "id": "5d315ca8",
   "metadata": {},
   "outputs": [
    {
     "name": "stdout",
     "output_type": "stream",
     "text": [
      "heisi\n",
      "4\n"
     ]
    }
   ],
   "source": [
    "# ayaz=\"he is awesome man\"\n",
    "# x=ayaz.split()\n",
    "# y=x[0]+x[1]+\"i\"\n",
    "# # z=x[1]\n",
    "# print(y)\n",
    "# print(len(x))"
   ]
  },
  {
   "cell_type": "code",
   "execution_count": 7,
   "id": "142a9faa",
   "metadata": {},
   "outputs": [
    {
     "name": "stdout",
     "output_type": "stream",
     "text": [
      "Enter first name in capital: ali\n",
      "enter last name in capital: amir\n",
      "aliamir\n"
     ]
    }
   ],
   "source": [
    "# first=input(\"Enter first name in capital: \")\n",
    "# last=input(\"enter last name in capital: \")\n",
    "# print(first+last)"
   ]
  },
  {
   "cell_type": "code",
   "execution_count": null,
   "id": "9510b3f7",
   "metadata": {},
   "outputs": [
    {
     "name": "stdout",
     "output_type": "stream",
     "text": [
      "enter first name in capitalSIFFAT\n",
      "enter last name in capitalULLAH\n",
      "03456988902\n",
      "no scuh name in FILE\n",
      "do you want to repeatY\n",
      "enter first name in capitalSAAD\n",
      "enter last name in capitalKHAN\n",
      "no scuh name in FILE\n",
      "do you want to repeatY\n",
      "enter first name in capitalSAQIB\n",
      "enter last name in capitalKHAN\n",
      "no scuh name in FILE\n"
     ]
    }
   ],
   "source": [
    "with open(\"phonedir.txt\",\"r\") as f:    #CAN ALSO BE DONE THROUGH READ(5) METHOD FOR READING \n",
    "    another=\"y\"                        #check with in function******\n",
    "    while another==\"y\" or another==\"Y\":\n",
    "        flag=False\n",
    "        end=f.readline()\n",
    "        search=input(\"enter first name in capital\")+input(\"enter last name in capital\")\n",
    "#     name1=input(\"enter first name in capital\")\n",
    "#     name2=input(\"enter last name in capital\")\n",
    "#     search=name1+name2\n",
    "        while end!=\"\":\n",
    "            x=end.rstrip(\"\\n\")\n",
    "            y=x.split()\n",
    "            z=y[0]+y[1]\n",
    "            end=f.readline()\n",
    "            if search==z:\n",
    "                print(y[-1])\n",
    "                flag=True\n",
    "                break\n",
    "            else:\n",
    "                flag=False\n",
    "#                 break\n",
    "        if flag==False:\n",
    "            print(\"no scuh name in FILE\")\n",
    "        another=input(\"do you want to repeat\")\n",
    "\n",
    "        \n",
    "    \n",
    "    "
   ]
  },
  {
   "cell_type": "code",
   "execution_count": null,
   "id": "56f9d9a6",
   "metadata": {},
   "outputs": [],
   "source": []
  },
  {
   "cell_type": "code",
   "execution_count": null,
   "id": "57b212db",
   "metadata": {},
   "outputs": [
    {
     "name": "stdout",
     "output_type": "stream",
     "text": [
      "enter first name in capitalSAAD\n",
      "enter last name in capitalKHAN\n",
      "no scuh name in FILE\n",
      "do you want to repeatY\n",
      "enter first name in capitalSIFFAT\n",
      "enter last name in capitalULLAH\n",
      "no scuh name in FILE\n",
      "do you want to repeatY\n",
      "enter first name in capitalASLAM\n",
      "enter last name in capitalKHAN\n",
      "no scuh name in FILE\n"
     ]
    }
   ],
   "source": [
    "#?????\n",
    "\n",
    "with open(\"phone.txt\",\"r\") as f:    #CAN ALSO BE DONE THROUGH READ(5) METHOD FOR READING \n",
    "    another=\"y\"\n",
    "    while another==\"y\" or another==\"Y\":\n",
    "        flag=False\n",
    "        count=1\n",
    "        end=f.readline()\n",
    "        name1=input(\"enter first name in capital\")\n",
    "        name2=input(\"enter last name in capital\")\n",
    "        name0=name1+name2\n",
    "        while end!=\"\":\n",
    "            if count>=3:\n",
    "                x=end.rstrip(\"\\n\")\n",
    "                y=x.split()\n",
    "                z=y[0]+y[1]\n",
    "                if name0==z:\n",
    "                    print(y[-1])\n",
    "                    flag=True\n",
    "                    break\n",
    "                count+=1\n",
    "            end=f.readline()\n",
    "        if flag==False:\n",
    "            print(\"no scuh name in FILE\")\n",
    "        another=input(\"do you want to repeat\")"
   ]
  },
  {
   "cell_type": "code",
   "execution_count": 1,
   "id": "2d51625e",
   "metadata": {},
   "outputs": [
    {
     "name": "stdout",
     "output_type": "stream",
     "text": [
      "ENTER FIRST NAME: SIFFAT\n",
      "ENTER LAST NAME: ULLAH\n",
      "\n",
      "The Contact Of SIFFAT ULLAH is:03456988902\n",
      "\n",
      "DO YOU WANT TO REPEAT \n",
      "    YES FOR REPEATION\n",
      "    NO FOR QUITING\n",
      "YES\n",
      "ENTER FIRST NAME: SAAD\n",
      "ENTER LAST NAME: KHAN\n",
      "\n",
      "The Contact Of SAAD KHAN is:03675247862\n",
      "\n",
      "DO YOU WANT TO REPEAT \n",
      "    YES FOR REPEATION\n",
      "    NO FOR QUITING\n",
      "YES\n",
      "ENTER FIRST NAME: KHAL\n",
      "ENTER LAST NAME: IO\n",
      "\n",
      "--> NO SUCH CONTACT IS PRESENT IN FILE\n",
      "\n",
      "DO YOU WANT TO REPEAT \n",
      "    YES FOR REPEATION\n",
      "    NO FOR QUITING\n",
      "NO\n",
      "\n",
      "THANK FOR USING THIS.\n"
     ]
    }
   ],
   "source": [
    "#//////     program A AND B IST PART\n",
    "def phoneno():\n",
    "    with open(\"phonedir1.txt\",\"r\") as f:\n",
    "        search=input(\"ENTER FIRST NAME: \")+\" \"+input(\"ENTER LAST NAME: \")\n",
    "        search=search.upper()\n",
    "        flag=False\n",
    "        for x in f:\n",
    "            y=x.rstrip(\"\\n\")\n",
    "            if search in y:\n",
    "                z1=y.split()\n",
    "                print(f\"\\nThe Contact Of {search} is:{z1[-1]}\")\n",
    "                flag=True\n",
    "                break\n",
    "        if flag==False:\n",
    "            print(\"\\n--> NO SUCH CONTACT IS PRESENT IN FILE\")\n",
    "        print(\"\"\"\\nDO YOU WANT TO REPEAT \n",
    "    YES FOR REPEATION\n",
    "    NO FOR QUITING\"\"\")\n",
    "        another=input()\n",
    "        if another==\"yes\" or another==\"YES\":\n",
    "            phoneno()\n",
    "        elif another==\"no\" or another==\"NO\":\n",
    "            print(\"\\nTHANK FOR USING THIS.\")\n",
    "        else:\n",
    "            print(\"\\nEnter Correct Command.\")\n",
    "            another=input(\"YES OR NO\")\n",
    "            phoneno()\n",
    "phoneno()         "
   ]
  },
  {
   "cell_type": "code",
   "execution_count": 2,
   "id": "de688ed3",
   "metadata": {},
   "outputs": [
    {
     "name": "stdout",
     "output_type": "stream",
     "text": [
      "enter first name in capitalSIFFAT\n",
      "enter last name in capitalULLAH\n",
      "The Contact Of SIFFATULLAH is:H\n",
      "MINA KHEL,LAKKIMARWAT\n"
     ]
    }
   ],
   "source": [
    "def both():\n",
    "    with open(\"phoneextension.txt\",\"r\") as f:\n",
    "        search=input(\"enter first name in capital\")+input(\"enter last name in capital\")\n",
    "        search=search.upper()\n",
    "        flag=False\n",
    "#         x=f.readline()\n",
    "#         y=f.readline()\n",
    "        end=f.readline()\n",
    "        while end!=\"\":\n",
    "            z=end.rstrip(\"\\n\")\n",
    "            listt=z.split()\n",
    "            zz=listt[0]+listt[1]\n",
    "            if search== zz:\n",
    "                print(f\"The Contact Of {search} is:{zz[-1]}\")\n",
    "                end=f.readline()\n",
    "                z0=end.rstrip(\"\\n\")\n",
    "                print(z0)\n",
    "                flag=True\n",
    "                break\n",
    "            end=f.readline()\n",
    "        if flag==False:\n",
    "            print(\"--> NO SUCH CONTACT IS PRESENT IN FILE\")\n",
    "            \n",
    "            \n",
    "both()"
   ]
  },
  {
   "cell_type": "code",
   "execution_count": 3,
   "id": "39a73e35",
   "metadata": {},
   "outputs": [
    {
     "name": "stdout",
     "output_type": "stream",
     "text": [
      "*** 03562478868\n",
      "PANYALA BAZAR,DIKHAN\n",
      "\n"
     ]
    }
   ],
   "source": [
    "with open(\"phoneextension.txt\",\"r\") as f:\n",
    "    search=\"USMAN KHAN\"\n",
    "\n",
    "    end=f.readline()\n",
    "    while end!=\"\":\n",
    "        end=end.rstrip(\"\\n\")     \n",
    "        if search in end:\n",
    "            end=end.split()\n",
    "            print(\"***\",end[-1])\n",
    "            end=f.readline()\n",
    "            print(end)\n",
    "        end=f.readline()"
   ]
  },
  {
   "cell_type": "code",
   "execution_count": 18,
   "id": "6a799526",
   "metadata": {},
   "outputs": [
    {
     "name": "stdout",
     "output_type": "stream",
     "text": [
      "The Address of USMAN KHAN is:->  PANYALA BAZAR,DIKHAN\n",
      "\n"
     ]
    }
   ],
   "source": [
    "def address():\n",
    "    with open(\"phoneextension.txt\",\"r\") as f:\n",
    "        name1=input(\"enter first name in capital\")\n",
    "        name2=input(\"enter last name in capital\")\n",
    "        name0=name1+name2\n",
    "        end=f.readline()\n",
    "        while end!=\"\":\n",
    "            end=end.rstrip(\"\\n\")     \n",
    "            if name0 in end:\n",
    "                end=f.readline()\n",
    "                print(\"Address: \",search,\" is:->  \",end)\n",
    "            end=f.readline()\n",
    "address()"
   ]
  },
  {
   "cell_type": "code",
   "execution_count": null,
   "id": "86919444",
   "metadata": {},
   "outputs": [],
   "source": []
  },
  {
   "cell_type": "code",
   "execution_count": null,
   "id": "d62bd2b7",
   "metadata": {},
   "outputs": [],
   "source": []
  },
  {
   "cell_type": "code",
   "execution_count": null,
   "id": "1fbe88d8",
   "metadata": {},
   "outputs": [],
   "source": []
  },
  {
   "cell_type": "code",
   "execution_count": null,
   "id": "27d4659f",
   "metadata": {},
   "outputs": [],
   "source": []
  },
  {
   "cell_type": "code",
   "execution_count": null,
   "id": "a21f842b",
   "metadata": {},
   "outputs": [],
   "source": []
  }
 ],
 "metadata": {
  "kernelspec": {
   "display_name": "Python 3 (ipykernel)",
   "language": "python",
   "name": "python3"
  },
  "language_info": {
   "codemirror_mode": {
    "name": "ipython",
    "version": 3
   },
   "file_extension": ".py",
   "mimetype": "text/x-python",
   "name": "python",
   "nbconvert_exporter": "python",
   "pygments_lexer": "ipython3",
   "version": "3.11.5"
  }
 },
 "nbformat": 4,
 "nbformat_minor": 5
}
