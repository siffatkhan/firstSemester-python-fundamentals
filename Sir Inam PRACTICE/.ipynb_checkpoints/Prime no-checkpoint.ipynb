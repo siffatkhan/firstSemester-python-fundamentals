{
 "cells": [
  {
   "cell_type": "code",
   "execution_count": 21,
   "id": "1a2c4a65",
   "metadata": {},
   "outputs": [
    {
     "name": "stdout",
     "output_type": "stream",
     "text": [
      "enter a number: 0\n",
      "neiter prime nor composite\n"
     ]
    }
   ],
   "source": [
    "n=int(input(\"enter a number: \"))\n",
    "count=2\n",
    "prime=True\n",
    "if n==0 or n==1:\n",
    "    print(\"neiter prime nor composite\")\n",
    "else:\n",
    "    while count<n:\n",
    "        if n%count==0:\n",
    "            prime=False\n",
    "            break\n",
    "        count+=1\n",
    "    if prime==False:\n",
    "        print(n,\"is a composite number\")\n",
    "    else:\n",
    "        print(n,\"is a prime number\")"
   ]
  },
  {
   "cell_type": "code",
   "execution_count": null,
   "id": "10027225",
   "metadata": {},
   "outputs": [
    {
     "name": "stdout",
     "output_type": "stream",
     "text": [
      "enter 1st number: 2\n",
      "enter 2nd number: 12\n"
     ]
    }
   ],
   "source": [
    "x=int(input(\"enter 1st number: \"))\n",
    "y=int(input(\"enter 2nd number: \"))\n",
    "count0=1\n",
    "while x<y:\n",
    "    count=1\n",
    "    prime=True\n",
    "    count+=1\n",
    "    while count<count0:\n",
    "        if count0%count==0:\n",
    "            prime=False\n",
    "        if prime==True:\n",
    "            print(count,\"is a prime number\")\n",
    "        count0+=1\n",
    "        "
   ]
  },
  {
   "cell_type": "code",
   "execution_count": 6,
   "id": "6693498d",
   "metadata": {},
   "outputs": [
    {
     "name": "stdout",
     "output_type": "stream",
     "text": [
      "enter starting point2\n",
      "enter last point10\n",
      "2 is a prime number\n",
      "3 is a prime number\n",
      "5 is a prime number\n",
      "7 is a prime number\n"
     ]
    }
   ],
   "source": [
    "r1=int(input(\"enter starting point\"))\n",
    "r2=int(input(\"enter last point\"))\n",
    "\n",
    "for x in range(r1,r2+1):\n",
    "\n",
    "\n",
    "    count=2\n",
    "    prime=True\n",
    "    while count<x:\n",
    "        if x%count==0:\n",
    "            prime=False\n",
    "            break\n",
    "        count+=1\n",
    "    if prime==True:\n",
    "        print(x,\"is a prime number\")\n",
    "        \n",
    "#     else:\n",
    "#         print(x,\"is a composite number\")"
   ]
  },
  {
   "cell_type": "code",
   "execution_count": null,
   "id": "a47a4b3e",
   "metadata": {},
   "outputs": [
    {
     "name": "stdout",
     "output_type": "stream",
     "text": [
      "Enter Starting number: 2\n",
      "Enter 2nd number: 11\n",
      "Prime no between 2 and 11\n"
     ]
    }
   ],
   "source": [
    "r1=int(input(\"Enter Starting number: \"))\n",
    "r2=int(input(\"Enter 2nd number: \"))\n",
    "print(\"Prime no between\",r1 ,\"and\",r2)\n",
    "while r1<r2:\n",
    "    prime=True\n",
    "    count=2\n",
    "    while count < r1:\n",
    "        if r1%count==0:\n",
    "            prime=False\n",
    "            break\n",
    "        count+=1\n",
    "    \n",
    "        if prime==True:\n",
    "            print(r1)\n",
    "        r1+=1"
   ]
  },
  {
   "cell_type": "code",
   "execution_count": 1,
   "id": "dc3a8496",
   "metadata": {},
   "outputs": [
    {
     "name": "stdout",
     "output_type": "stream",
     "text": [
      "enter millimeter either 1 or 22\n",
      "1 \t 1002.0\n",
      "2 is a not prime number\n",
      "2 \t 1004.0\n",
      "3 is a not prime number\n",
      "3 \t 1006.0\n",
      "4 is a not prime number\n",
      "4 \t 1008.0\n",
      "5 is a not prime number\n",
      "5 \t 1010.0\n",
      "6 is a not prime number\n",
      "6 \t 1012.0\n",
      "7 is a not prime number\n",
      "7 \t 1014.0\n",
      "8 is a not prime number\n",
      "8 \t 1016.0\n",
      "9 is a not prime number\n",
      "9 \t 1018.0\n",
      "10 is a not prime number\n",
      "10 \t 1020.0\n",
      "11 is a not prime number\n",
      "11 \t 1022.0\n",
      "12 is a not prime number\n",
      "12 \t 1024.0\n",
      "13 is a not prime number\n",
      "13 \t 1026.0\n",
      "14 is a not prime number\n",
      "14 \t 1028.0\n",
      "15 is a not prime number\n",
      "15 \t 1030.0\n",
      "16 is a not prime number\n",
      "16 \t 1032.0\n",
      "17 is a not prime number\n",
      "17 \t 1034.0\n",
      "18 is a not prime number\n",
      "18 \t 1036.0\n",
      "19 is a not prime number\n",
      "19 \t 1038.0\n",
      "20 is a not prime number\n",
      "20 \t 1040.0\n",
      "21 is a not prime number\n",
      "21 \t 1042.0\n",
      "22 is a not prime number\n",
      "22 \t 1044.0\n",
      "23 is a not prime number\n",
      "23 \t 1046.0\n",
      "24 is a not prime number\n",
      "24 \t 1048.0\n",
      "25 is a prime number\n",
      "25 \t 1050.0\n",
      "26 is a prime number\n"
     ]
    }
   ],
   "source": [
    "\n",
    "\n",
    "count=1\n",
    "time=25\n",
    "total=0\n",
    "mm=float(input(\"enter millimeter either 1 or 2\"))\n",
    "while count<=time:\n",
    "    level=1000\n",
    "    total+=mm\n",
    "    total1=level+total\n",
    "    print(count,'\\t',format(total1,'.1f'))\n",
    "    count+=1\n",
    "    \n",
    "    count2=2\n",
    "    prime=True\n",
    "    while count<time:\n",
    "        if count%count2==0:\n",
    "            prime=False\n",
    "            break\n",
    "        count2+=1\n",
    "    if prime==True:\n",
    "        print(count,\"is a prime number\")\n",
    "    else:\n",
    "        print(count,\"is a not prime number\")\n",
    "    \n"
   ]
  },
  {
   "cell_type": "code",
   "execution_count": null,
   "id": "51319912",
   "metadata": {},
   "outputs": [],
   "source": []
  }
 ],
 "metadata": {
  "kernelspec": {
   "display_name": "Python 3 (ipykernel)",
   "language": "python",
   "name": "python3"
  },
  "language_info": {
   "codemirror_mode": {
    "name": "ipython",
    "version": 3
   },
   "file_extension": ".py",
   "mimetype": "text/x-python",
   "name": "python",
   "nbconvert_exporter": "python",
   "pygments_lexer": "ipython3",
   "version": "3.11.5"
  }
 },
 "nbformat": 4,
 "nbformat_minor": 5
}
