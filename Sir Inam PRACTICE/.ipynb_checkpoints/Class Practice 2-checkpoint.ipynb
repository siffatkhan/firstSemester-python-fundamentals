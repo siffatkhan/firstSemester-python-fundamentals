{
 "cells": [
  {
   "cell_type": "code",
   "execution_count": null,
   "id": "5cddcc2e",
   "metadata": {},
   "outputs": [],
   "source": [
    "list=eval(input(\"Enter List:\"))     #eval function does typecasting accor to input data\n",
    "print(list)\n",
    "sum=0;\n",
    "for x in list:\n",
    "    sum=sum+x;\n",
    "print(\"The Sum=\",sum)"
   ]
  },
  {
   "cell_type": "code",
   "execution_count": null,
   "id": "5b6754bd",
   "metadata": {},
   "outputs": [],
   "source": [
    "a=int(input(\"Enter First Number:\"))\n",
    "b=int(input(\"Enter Second Number:\"))\n",
    "c=int(input(\"Enter Third Number:\"))\n",
    "min= a if a<b and a<c else b if b<c else c\n",
    "print(\"Minimum Value:\",min)"
   ]
  },
  {
   "cell_type": "code",
   "execution_count": null,
   "id": "c8b00069",
   "metadata": {},
   "outputs": [],
   "source": [
    "a=int(input(\"Enter First Number:\"))\n",
    "b=int(input(\"Enter Second Number:\"))\n",
    "print(\"Both numbers are equal\" if a==b\n",
    "else \"First Number is Less than Second Number\"\n",
    "if a<b else \"First Number Greater than Second Number\")"
   ]
  },
  {
   "cell_type": "markdown",
   "id": "0ada2bfc",
   "metadata": {},
   "source": [
    "# Class Tasks (keep it for loop topic)"
   ]
  },
  {
   "cell_type": "code",
   "execution_count": 8,
   "id": "12d15bd9",
   "metadata": {},
   "outputs": [
    {
     "name": "stdout",
     "output_type": "stream",
     "text": [
      "Enter a number: 19\n",
      "\n",
      " 19  is a odd number. \n"
     ]
    }
   ],
   "source": [
    "number=int(input(\"Enter a number: \"))\n",
    "if number%2==0:\n",
    "    print(\"\\n\",number, \" is a even number.\")\n",
    "else :\n",
    "    print(\"\\n\",number,\" is an odd number. \")\n",
    "    "
   ]
  },
  {
   "cell_type": "code",
   "execution_count": 10,
   "id": "33eef2a1",
   "metadata": {},
   "outputs": [
    {
     "name": "stdout",
     "output_type": "stream",
     "text": [
      "Enter a number: 22\n",
      "\n",
      " 22 is not a multiple of 3.\n"
     ]
    }
   ],
   "source": [
    "number=int(input(\"Enter a number: \"))\n",
    "if number%3==0:\n",
    "    print(\"\\n\",number,\"is a multiple of 3.\")\n",
    "else:\n",
    "    print(\"\\n\",number,\"is not a multiple of 3.\")"
   ]
  },
  {
   "cell_type": "code",
   "execution_count": 16,
   "id": "f95f1322",
   "metadata": {},
   "outputs": [
    {
     "name": "stdout",
     "output_type": "stream",
     "text": [
      "Enter a number: 287\n",
      "Enter a 2nd number: 3\n",
      "\n",
      " 3 is not a divisor of  287 .\n"
     ]
    }
   ],
   "source": [
    "number=int(input(\"Enter a number: \"))\n",
    "number1=int(input(\"Enter a divisor: \"))\n",
    "if number%number1==0 :\n",
    "    print(\"\\n\",number1, \"is a divisor of \",number)\n",
    "else:\n",
    "     print(\"\\n\",number1, \"is not a divisor of \",number,\".\")"
   ]
  },
  {
   "cell_type": "markdown",
   "id": "fc176725",
   "metadata": {},
   "source": []
  },
  {
   "cell_type": "code",
   "execution_count": 15,
   "id": "ab51adeb",
   "metadata": {},
   "outputs": [
    {
     "name": "stdout",
     "output_type": "stream",
     "text": [
      "enter your name:saad\n",
      "enter your programbcs\n",
      "enter your groupb\n",
      "welcome to bcsc\n",
      "you are our class cr \n",
      "Thank you\n"
     ]
    }
   ],
   "source": [
    "name=input(\"enter your name:\")\n",
    "prog=input(\"enter your program\")\n",
    "group=input(\"enter your group\")\n",
    "if prog=='bscs' or prog=='BSCS' or prog=='BCS' or prog=='bcs':\n",
    "    print(\"welcome to bcsc\")\n",
    "    if (group=='b'):\n",
    "        if (name=='saad'):\n",
    "            print(\"you are our class cr \")\n",
    "        else:\n",
    "            print(\"you are not in our class\")\n",
    "    else:\n",
    "        if(name=='shahzeb'):\n",
    "            print(\"you are  not our class cr \")\n",
    "        else:\n",
    "            print(\"you are not in our class\")\n",
    "        print(\"thank you\")\n",
    "\n",
    "else:\n",
    "    print(\"you are not eligible to use this software\")\n",
    "    \n",
    "print(\"Thank you\")"
   ]
  },
  {
   "cell_type": "markdown",
   "id": "2b802e6b",
   "metadata": {},
   "source": []
  },
  {
   "cell_type": "markdown",
   "id": "4cb31fb4",
   "metadata": {},
   "source": [
    "# can use elif here but doing it acc to  given flowchart "
   ]
  },
  {
   "cell_type": "code",
   "execution_count": 26,
   "id": "04a89584",
   "metadata": {},
   "outputs": [
    {
     "name": "stdout",
     "output_type": "stream",
     "text": [
      "enter the score:90\n",
      "your grade is A\n"
     ]
    }
   ],
   "source": [
    "score=int(input(\"enter the score:\"))\n",
    "if score>100:\n",
    "    print(\"invalid score\")\n",
    "else:\n",
    "    if score>=90 and score<=100:\n",
    "        print(\"your grade is A\")\n",
    "    else:\n",
    "        if score>=80:\n",
    "            print(\"your grade is B\")\n",
    "        else:\n",
    "            if score>=70:\n",
    "                print(\"your grade is c\")\n",
    "            else:\n",
    "                if score>=60:\n",
    "                    print(\"your grade d\")\n",
    "                else:\n",
    "                    if score<60:\n",
    "                        print(\"your grade is f\")"
   ]
  },
  {
   "cell_type": "code",
   "execution_count": null,
   "id": "bff5e232",
   "metadata": {},
   "outputs": [],
   "source": []
  },
  {
   "cell_type": "code",
   "execution_count": 36,
   "id": "88cce398",
   "metadata": {},
   "outputs": [
    {
     "name": "stdout",
     "output_type": "stream",
     "text": [
      "Number of people attending: 20\n",
      "Burger each person will get: 5\n",
      "\n",
      "Minimum shami package required:  10\n",
      "Minimum bun pacakge required:  13\n",
      "\n",
      "Leftover shami are:  0\n",
      "Leftover buns are :  4\n"
     ]
    }
   ],
   "source": [
    "shamipack=10\n",
    "bunpack=8\n",
    "\n",
    "student=int(input(\"Number of people attending: \"))\n",
    "burger=int(input(\"Burger each person will get: \"))\n",
    "\n",
    "totalshami=student*burger\n",
    "totalbun=student*burger\n",
    "\n",
    "totalshamireq=totalshami//shamipack\n",
    "totalbunreq=totalbun//bunpack\n",
    "\n",
    "if totalshami%shamipack!=0:\n",
    "    totalshamireq +=1\n",
    "    print(\"\\nMinimum shami pacakge required: \",totalshamireq)\n",
    "else:\n",
    "    print(\"\\nMinimum shami package required: \",totalshamireq)\n",
    "         \n",
    "if totalbun%bunpack!=0:\n",
    "    totalbunreq +=1\n",
    "    print(\"Minimum bun pacakge required: \",totalbunreq)\n",
    "else:\n",
    " \n",
    "    print(\"Minimum  bun  package  required: \",totalbunreq) \n",
    "    \n",
    "\n",
    "leftshami=totalshamireq*shamipack-totalshami\n",
    "print(\"\\nLeftover shami are: \",leftshami)\n",
    "\n",
    "leftbun=totalbunreq*bunpack-totalbun\n",
    "print(\"Leftover buns are : \",leftbun)"
   ]
  },
  {
   "cell_type": "code",
   "execution_count": null,
   "id": "c8f0ee86",
   "metadata": {},
   "outputs": [],
   "source": []
  },
  {
   "cell_type": "code",
   "execution_count": null,
   "id": "2ced449a",
   "metadata": {},
   "outputs": [],
   "source": []
  }
 ],
 "metadata": {
  "kernelspec": {
   "display_name": "Python 3 (ipykernel)",
   "language": "python",
   "name": "python3"
  },
  "language_info": {
   "codemirror_mode": {
    "name": "ipython",
    "version": 3
   },
   "file_extension": ".py",
   "mimetype": "text/x-python",
   "name": "python",
   "nbconvert_exporter": "python",
   "pygments_lexer": "ipython3",
   "version": "3.11.5"
  }
 },
 "nbformat": 4,
 "nbformat_minor": 5
}
