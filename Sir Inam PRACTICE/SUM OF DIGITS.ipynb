{
 "cells": [
  {
   "cell_type": "code",
   "execution_count": 6,
   "id": "a120b918",
   "metadata": {},
   "outputs": [
    {
     "name": "stdout",
     "output_type": "stream",
     "text": [
      "enter a digit : 12345\n",
      "Sum is : 15\n"
     ]
    }
   ],
   "source": [
    "# MORE EFFICIENT ONE\n",
    "\n",
    "n=int(input(\"enter a digit : \"))\n",
    "sum1=0\n",
    "while n>0: # or n!=0\n",
    "    r=n%10\n",
    "    sum1+=r\n",
    "    n=n//10\n",
    "print(\"Sum is :\",sum1)"
   ]
  },
  {
   "cell_type": "code",
   "execution_count": null,
   "id": "de3dc226",
   "metadata": {},
   "outputs": [],
   "source": []
  },
  {
   "cell_type": "code",
   "execution_count": null,
   "id": "4ae5362b",
   "metadata": {},
   "outputs": [
    {
     "name": "stdout",
     "output_type": "stream",
     "text": [
      "enter a digit4\n",
      "factorial of 4 is 24\n"
     ]
    }
   ],
   "source": [
    "# METHOD FACTORIAL\n",
    "\n",
    "N=int(input(\"enter a digit\"))\n",
    "n=N\n",
    "fact=1\n",
    "while N>=1:\n",
    "    fact*=N\n",
    "    N -=1\n",
    "print(\"factorial of\",n,\"is\",fact)"
   ]
  },
  {
   "cell_type": "code",
   "execution_count": null,
   "id": "e5ac1b4a",
   "metadata": {},
   "outputs": [],
   "source": [
    "isb_p=int(input(\"enter islamabad population\"))\n",
    "lah_p=int(input(\"enter lahore population\"))\n",
    "isb_gr=int(input(\"enter islamabad growth rate\"))\n",
    "lah_gr=int(input(\"enter lahore growth rate\"))\n",
    "total=0\n",
    "total1=0\n",
    "while isb_p<=lah_p:\n",
    "    n=isb_p*(isb_gr/100)\n",
    "    total+=n\n",
    "#     tot=total\n",
    "    n1=lah_p*(lah_gr/10)\n",
    "    total1+=n1\n",
    "#     tot1=total1\n",
    "    if tot>=tot1:\n",
    "        print(total,\"is greater than\",totals)"
   ]
  },
  {
   "cell_type": "code",
   "execution_count": 5,
   "id": "cced6a7c",
   "metadata": {},
   "outputs": [
    {
     "name": "stdout",
     "output_type": "stream",
     "text": [
      "Islamabad population after 2 year will be 67500.0\n",
      "Lahore population after 2 year will be 60500.0\n",
      "It will take Islamabad 2 years to surpace lahore.\n"
     ]
    }
   ],
   "source": [
    "isl_pop = 30000\n",
    "isl_gr = 0.5\n",
    "loh_pop = 50000\n",
    "loh_gr = 0.1\n",
    "year = 0\n",
    "while isl_pop < loh_pop:\n",
    "    isl_pop_total = isl_pop * isl_gr\n",
    "    isl_pop += isl_pop_total\n",
    "    loh_pop_total = loh_pop * loh_gr\n",
    "    loh_pop += loh_pop_total\n",
    "    year += 1\n",
    "print(\"Islamabad population after\",year,\"year will be\",isl_pop)\n",
    "print(\"Lahore population after\",year,\"year will be\",loh_pop)\n",
    "print(\"It will take Islamabad\",year,\"years to surpace lahore.\")\n",
    "    \n",
    "    "
   ]
  },
  {
   "cell_type": "code",
   "execution_count": null,
   "id": "a0e21a05",
   "metadata": {},
   "outputs": [],
   "source": [
    "cur_bal = int(input(\"Enter your current balance:\"))\n",
    "num_checks = int(input(\"Enter number of cheques written:\"))\n",
    "if cur_bal <= 0:\n",
    "    print(\"The account is withdrawn\")\n",
    "if cur_bal >= 400:\n",
    "    if num_checks < 20:\n",
    "        print(\"Total bank charges are\", num_checks*0.10+10,\"$\")\n",
    "    elif 20 < num_checks <= 39:\n",
    "        print(\"Total bank charges are\", 10+0.08,\"$\")\n",
    "    elif 40 < num_checks <= 59:\n",
    "        print(\"Total bank charges are\", 10+0.06,\"$\")\n",
    "    elif num_checks > 60:\n",
    "        print(\"Total bank charges are\", 10+0.04,\"$\")\n",
    "elif cur_bal < 400:\n",
    "    if num_checks < 20:\n",
    "        print(\"Total bank charges are\", 10+0.10+15,\"$\")\n",
    "    elif 20 < num_checks <= 39:\n",
    "        print(\"Total bank charges are\", 10+0.08+15,\"$ \")\n",
    "    elif 40 < num_checks <= 59:\n",
    "        print(\"Total bank charges are\", 10+0.06+15,\"$\")\n",
    "    elif num_checks > 60:\n",
    "        print(\"Total bank charges are\", 10+0.04+15,\"$\")\n",
    "# else:\n",
    "#     print(\"The account is withdrawn\")\n",
    "    "
   ]
  },
  {
   "cell_type": "code",
   "execution_count": null,
   "id": "cfd8e022",
   "metadata": {},
   "outputs": [],
   "source": []
  },
  {
   "cell_type": "code",
   "execution_count": null,
   "id": "5be23cb6",
   "metadata": {},
   "outputs": [],
   "source": []
  }
 ],
 "metadata": {
  "kernelspec": {
   "display_name": "Python 3 (ipykernel)",
   "language": "python",
   "name": "python3"
  },
  "language_info": {
   "codemirror_mode": {
    "name": "ipython",
    "version": 3
   },
   "file_extension": ".py",
   "mimetype": "text/x-python",
   "name": "python",
   "nbconvert_exporter": "python",
   "pygments_lexer": "ipython3",
   "version": "3.11.5"
  }
 },
 "nbformat": 4,
 "nbformat_minor": 5
}
