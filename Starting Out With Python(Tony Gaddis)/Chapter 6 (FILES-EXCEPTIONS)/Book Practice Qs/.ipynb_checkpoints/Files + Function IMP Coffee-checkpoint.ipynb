{
 "cells": [
  {
   "cell_type": "code",
   "execution_count": 8,
   "id": "fb1f933f",
   "metadata": {},
   "outputs": [
    {
     "name": "stdout",
     "output_type": "stream",
     "text": [
      "Enter no of coffee brands you have: 2\n",
      "Enter Coffee Brand: Black\n",
      "Enter Coffee Quantity: 50\n",
      "Enter Coffee Brand: Russian\n",
      "Enter Coffee Quantity: 100\n"
     ]
    }
   ],
   "source": [
    "def write():\n",
    "    with open(\"coffee.txt\",\"w\") as f:\n",
    "        variety=int(input(\"Enter no of coffee brands you have: \"))\n",
    "        for x in range(variety):\n",
    "            coffee_name=input(\"Enter Coffee Brand: \")\n",
    "            quantity=input(\"Enter Coffee Quantity: \")\n",
    "            f.write(f\"Coffee Brand: {coffee_name}\\n\")\n",
    "            f.write(f\"Quantity: {quantity}\\n\")\n",
    "write()"
   ]
  },
  {
   "cell_type": "code",
   "execution_count": 7,
   "id": "8bf30221",
   "metadata": {},
   "outputs": [
    {
     "name": "stdout",
     "output_type": "stream",
     "text": [
      "90\n",
      "10\n"
     ]
    }
   ],
   "source": [
    "def read():\n",
    "    with open(\"coffee.txt\",\"r\") as f:\n",
    "        for x in f:\n",
    "            value=f.readline()\n",
    "            value0=value.rstrip(\"\\n\")\n",
    "            print(value0)\n",
    "read()"
   ]
  },
  {
   "cell_type": "code",
   "execution_count": null,
   "id": "5e1e37dd",
   "metadata": {},
   "outputs": [],
   "source": []
  }
 ],
 "metadata": {
  "kernelspec": {
   "display_name": "Python 3 (ipykernel)",
   "language": "python",
   "name": "python3"
  },
  "language_info": {
   "codemirror_mode": {
    "name": "ipython",
    "version": 3
   },
   "file_extension": ".py",
   "mimetype": "text/x-python",
   "name": "python",
   "nbconvert_exporter": "python",
   "pygments_lexer": "ipython3",
   "version": "3.11.5"
  }
 },
 "nbformat": 4,
 "nbformat_minor": 5
}
