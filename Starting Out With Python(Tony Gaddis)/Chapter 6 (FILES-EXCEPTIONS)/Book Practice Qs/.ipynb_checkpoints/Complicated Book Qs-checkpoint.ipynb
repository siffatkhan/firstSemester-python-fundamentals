{
 "cells": [
  {
   "cell_type": "code",
   "execution_count": 24,
   "id": "b8ea7edf",
   "metadata": {},
   "outputs": [
    {
     "name": "stdout",
     "output_type": "stream",
     "text": [
      "Enter No of videos in project: 4\n",
      "Enter the running time for 1 video:10\n",
      "Enter the running time for 2 video:20\n",
      "Enter the running time for 3 video:30\n",
      "Enter the running time for 4 video:40\n"
     ]
    }
   ],
   "source": [
    "# WRITING OF PROBLEM 6-12\n",
    "\n",
    "num=int(input(\"Enter No of videos in project: \"))\n",
    "\n",
    "with open(\"comp1.txt\",\"w\") as f:    \n",
    "    count=1\n",
    "    while count<=num:\n",
    "        time=int(input(f\"Enter the running time for {count} video:\"))\n",
    "#         time=str(time)\n",
    "        f.write(str(time)+\"\\n\")\n",
    "        count+=1"
   ]
  },
  {
   "cell_type": "code",
   "execution_count": 30,
   "id": "87da1137",
   "metadata": {},
   "outputs": [
    {
     "name": "stdout",
     "output_type": "stream",
     "text": [
      "Time of 1 video is:10.0\n",
      "Time of 2 video is:20.0\n",
      "Time of 3 video is:30.0\n",
      "Time of 4 video is:40.0\n"
     ]
    },
    {
     "ename": "ValueError",
     "evalue": "could not convert string to float: ''",
     "output_type": "error",
     "traceback": [
      "\u001b[0;31m---------------------------------------------------------------------------\u001b[0m",
      "\u001b[0;31mValueError\u001b[0m                                Traceback (most recent call last)",
      "Cell \u001b[0;32mIn[30], line 7\u001b[0m\n\u001b[1;32m      5\u001b[0m \u001b[38;5;28;01mwith\u001b[39;00m \u001b[38;5;28mopen\u001b[39m(\u001b[38;5;124m\"\u001b[39m\u001b[38;5;124mcomp1.txt\u001b[39m\u001b[38;5;124m\"\u001b[39m,\u001b[38;5;124m\"\u001b[39m\u001b[38;5;124mr\u001b[39m\u001b[38;5;124m\"\u001b[39m) \u001b[38;5;28;01mas\u001b[39;00m f:\n\u001b[1;32m      6\u001b[0m     \u001b[38;5;28;01mwhile\u001b[39;00m \u001b[38;5;28;01mTrue\u001b[39;00m:\n\u001b[0;32m----> 7\u001b[0m         read\u001b[38;5;241m=\u001b[39m\u001b[38;5;28mfloat\u001b[39m(f\u001b[38;5;241m.\u001b[39mreadline())\n\u001b[1;32m      8\u001b[0m \u001b[38;5;66;03m#         x=float(read)\u001b[39;00m\n\u001b[1;32m      9\u001b[0m         count\u001b[38;5;241m+\u001b[39m\u001b[38;5;241m=\u001b[39m\u001b[38;5;241m1\u001b[39m\n",
      "\u001b[0;31mValueError\u001b[0m: could not convert string to float: ''"
     ]
    }
   ],
   "source": [
    "# READING OF PROBLEM 6-12  ?????\n",
    "\n",
    "accumulator=0\n",
    "count=0\n",
    "with open(\"comp1.txt\",\"r\") as f:\n",
    "    while True:\n",
    "        read=float(f.readline())\n",
    "#         x=float(read)\n",
    "        count+=1\n",
    "        print(f\"Time of {count} video is:{read}\")\n",
    "        accumulator+=read\n",
    "\n",
    "        if not read:\n",
    "            break\n",
    "    print(f\"The running time of videos is {accumulator}\") \n",
    "   "
   ]
  },
  {
   "cell_type": "code",
   "execution_count": 27,
   "id": "eb7b602a",
   "metadata": {},
   "outputs": [
    {
     "name": "stdout",
     "output_type": "stream",
     "text": [
      "Time of 1 video is: 10.0\n",
      "Time of 2 video is: 20.0\n",
      "Time of 3 video is: 30.0\n",
      "Time of 4 video is: 40.0\n",
      "The running time of videos is 100.0\n"
     ]
    }
   ],
   "source": [
    "# READING OF PROBLEM 6-12\n",
    "\n",
    "total=0\n",
    "count=0\n",
    "with open(\"comp1.txt\",\"r\") as f:\n",
    "    for x in f:\n",
    "        y=float(x)\n",
    "        count+=1\n",
    "        print(f\"Time of {count} video is: {y}\")\n",
    "        total+=y\n",
    "    print(f\"The running time of videos is {total}\")  "
   ]
  },
  {
   "cell_type": "code",
   "execution_count": 23,
   "id": "08223f13",
   "metadata": {},
   "outputs": [
    {
     "name": "stdout",
     "output_type": "stream",
     "text": [
      "Enter Number Of Total Employees: 2\n",
      "\n",
      "Enter data for employee #1\n",
      "Name: Ali\n",
      "Id: 67\n",
      "Department: bs\n",
      "\n",
      "Enter data for employee #2\n",
      "Name: khan\n",
      "Id: 56\n",
      "Department: er\n",
      "\n",
      "Employee records written to comp2.txt.\n"
     ]
    }
   ],
   "source": [
    "# WRITING OF PROBLEM 6-13\n",
    "\n",
    "employe=int(input(\"Enter Number Of Total Employees: \"))\n",
    "print()\n",
    "with open(\"comp2.txt\",\"w\") as f:\n",
    "    for x in range(1,employe+1):\n",
    "        print('Enter data for employee #', x, sep='')\n",
    "        name=input(\"Name: \")\n",
    "        i_d=int(input(\"Id: \"))\n",
    "        i_d=str(i_d)\n",
    "        dept=input(\"Department: \")\n",
    "        f.write(f\"Name: {name}\\n\")\n",
    "        f.write(f\" ID : {i_d}\\n\")\n",
    "        f.write(f\"Dept: {dept}\\n\")\n",
    "        print()\n",
    "    print('Employee records written to comp2.txt.')"
   ]
  },
  {
   "cell_type": "code",
   "execution_count": 9,
   "id": "69bcf1e5",
   "metadata": {},
   "outputs": [
    {
     "name": "stdout",
     "output_type": "stream",
     "text": [
      "Name: Ali\n",
      "no\n",
      " ID : 67\n",
      "no\n",
      "Dept: bs\n",
      "no\n",
      "Name: khan\n",
      "no\n",
      " ID : 56\n",
      "no\n",
      "Dept: er\n",
      "no\n"
     ]
    }
   ],
   "source": [
    "# READING OF PROBLEM 6-13\n",
    "\n",
    "with open(\"comp2.txt\",\"r\") as f:\n",
    "    for x in f:\n",
    "        a=x\n",
    "        a=a.rstrip(\"\\n\")\n",
    "        print(a)\n",
    "#         if x==\" ID : 67\":\n",
    "#             print(\"yes\")\n",
    "#         else:\n",
    "#             print(\"no\")"
   ]
  },
  {
   "cell_type": "code",
   "execution_count": 32,
   "id": "7f9559bb",
   "metadata": {},
   "outputs": [
    {
     "name": "stdout",
     "output_type": "stream",
     "text": [
      "Name: Ali\n",
      " ID : 67\n",
      "Dept: bs\n",
      "Name: khan\n",
      " ID : 56\n",
      "Dept: er\n"
     ]
    }
   ],
   "source": [
    "with open(\"comp2.txt\",\"r\") as f:\n",
    "    name=f.readline()\n",
    "    while name!='':\n",
    "        i_d=f.readline()\n",
    "        dept=f.readline()\n",
    "    \n",
    "        name=name.rstrip(\"\\n\")\n",
    "        i_d=i_d.rstrip(\"\\n\")\n",
    "        dept=dept.rstrip(\"\\n\")\n",
    "        \n",
    "        print(name)\n",
    "        print(i_d)\n",
    "        print(dept)\n",
    "  \n",
    "        name=f.readline()"
   ]
  },
  {
   "cell_type": "code",
   "execution_count": null,
   "id": "4d365930",
   "metadata": {},
   "outputs": [],
   "source": []
  }
 ],
 "metadata": {
  "kernelspec": {
   "display_name": "Python 3 (ipykernel)",
   "language": "python",
   "name": "python3"
  },
  "language_info": {
   "codemirror_mode": {
    "name": "ipython",
    "version": 3
   },
   "file_extension": ".py",
   "mimetype": "text/x-python",
   "name": "python",
   "nbconvert_exporter": "python",
   "pygments_lexer": "ipython3",
   "version": "3.11.5"
  }
 },
 "nbformat": 4,
 "nbformat_minor": 5
}
