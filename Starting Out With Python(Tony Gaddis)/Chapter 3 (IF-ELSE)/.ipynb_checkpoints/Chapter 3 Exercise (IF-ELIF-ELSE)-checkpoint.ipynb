{
 "cells": [
  {
   "cell_type": "markdown",
   "id": "c611ea23",
   "metadata": {},
   "source": [
    "# CHAPTER 3 EXERCISE QS (BOOK)"
   ]
  },
  {
   "cell_type": "markdown",
   "id": "729d3c22",
   "metadata": {},
   "source": [
    "# Algorithm Exercise"
   ]
  },
  {
   "cell_type": "code",
   "execution_count": 2,
   "id": "61f7ba85",
   "metadata": {},
   "outputs": [
    {
     "name": "stdout",
     "output_type": "stream",
     "text": [
      "Enter value: 150\n",
      "20 40\n"
     ]
    }
   ],
   "source": [
    "#a. IF STATEMENT\n",
    "\n",
    "x=int(input(\"Enter value: \"))\n",
    "if x>100:\n",
    "    y=20\n",
    "    z=40\n",
    "    print(y,z)\n",
    "else:\n",
    "    print()"
   ]
  },
  {
   "cell_type": "code",
   "execution_count": 9,
   "id": "910c5ff0",
   "metadata": {},
   "outputs": [
    {
     "name": "stdout",
     "output_type": "stream",
     "text": [
      "Enter ur value: 45\n",
      "True\n"
     ]
    }
   ],
   "source": [
    "#b. IF STATEMENT\n",
    "\n",
    "score1=int(input(\"Enter ur value: \"))\n",
    "if score1>=40<=49:\n",
    "       score1=True\n",
    "       print(score1)\n",
    "else:\n",
    "       score1=False\n",
    "       print(score1)"
   ]
  },
  {
   "cell_type": "code",
   "execution_count": 4,
   "id": "8695155d",
   "metadata": {},
   "outputs": [
    {
     "name": "stdout",
     "output_type": "stream",
     "text": [
      "Enter Points: 15\n",
      "VALID POINTS\n"
     ]
    }
   ],
   "source": [
    "#c. IF ELSE STATEMENT\n",
    "\n",
    "point=int(input(\"Enter Points: \"))\n",
    "if point>=9<=51:\n",
    "    print('VALID POINTS')\n",
    "else:\n",
    "    print('INVALID POINTS')"
   ]
  },
  {
   "cell_type": "code",
   "execution_count": null,
   "id": "b37afa35",
   "metadata": {},
   "outputs": [],
   "source": []
  },
  {
   "cell_type": "markdown",
   "id": "9aae5f57",
   "metadata": {},
   "source": [
    "# PROGRAMMING EXERCISE OF CHAP 3"
   ]
  },
  {
   "cell_type": "code",
   "execution_count": null,
   "id": "555dc281",
   "metadata": {},
   "outputs": [],
   "source": []
  },
  {
   "cell_type": "code",
   "execution_count": 2,
   "id": "36e03d4d",
   "metadata": {},
   "outputs": [
    {
     "name": "stdout",
     "output_type": "stream",
     "text": [
      "Enter an integer: 45\n",
      "\n",
      "Positive\n",
      "\n",
      "45 is a Odd number.\n"
     ]
    }
   ],
   "source": [
    "#1.NUMBER ANALYSER\n",
    "\n",
    "num=int(input(\"Enter an integer: \"))\n",
    "if num>0:\n",
    "    print(\"\\nPositive\\n\")\n",
    "    if num %2 == 0:     ## % (MODULUS) GIVE US REMAINDER WHICH HELP US\n",
    "        print(num,\"is a Even number.\")\n",
    "    else:\n",
    "        print(num,\"is a Odd number.\")\n",
    "\n",
    "else:\n",
    "    if num<0:\n",
    "     print(\"Negative\")\n",
    "    else:\n",
    "     print(\"Zero\")"
   ]
  },
  {
   "cell_type": "code",
   "execution_count": 4,
   "id": "74f5a013",
   "metadata": {},
   "outputs": [
    {
     "name": "stdout",
     "output_type": "stream",
     "text": [
      "Enter rectangle 1 length: 10\n",
      "Enter rectangle 1 width: 30\n",
      "\n",
      "Enter rectangle 2nd length: 20\n",
      "Enter rectangle 2nd width: 20\n",
      "\n",
      "Rectangle 2 is greater than rectangle 1\n"
     ]
    }
   ],
   "source": [
    "#2. AREAS OF RECTANGLE\n",
    "\n",
    "len1=int(input(\"Enter rectangle 1 length: \"))\n",
    "wid1=int(input(\"Enter rectangle 1 width: \"))\n",
    "\n",
    "len2=int(input(\"\\nEnter rectangle 2nd length: \"))\n",
    "wid2=int(input(\"Enter rectangle 2nd width: \"))\n",
    "\n",
    "rec1=len1*wid1\n",
    "rec2=len2*wid2\n",
    "\n",
    "if rec1>rec2:\n",
    "    print(\"\\nRectangle 1 is greater than rectangle 2.\")\n",
    "elif rec1==rec2:\n",
    "    print(\"\\nRectangle 1 is equal to rectangle 2.\")\n",
    "else:\n",
    "    print(\"\\nRectangle 2 is greater than rectangle 1.\")"
   ]
  },
  {
   "cell_type": "markdown",
   "id": "35a2b35e",
   "metadata": {},
   "source": []
  },
  {
   "cell_type": "code",
   "execution_count": 1,
   "id": "a6412115",
   "metadata": {},
   "outputs": [
    {
     "name": "stdout",
     "output_type": "stream",
     "text": [
      "Enter a month from 1 to 12: 13\n",
      "Error\n"
     ]
    }
   ],
   "source": [
    "#3.QUARTER OF A YEAR\n",
    "\n",
    "month=int(input(\"Enter a month from 1 to 12: \"))\n",
    "\n",
    "if month>=1 and month<=3:\n",
    "    print(\"Month is in first quarter.\")\n",
    "elif month>=4 and month<=6:\n",
    "    print(\"Month is in second quarter.\")\n",
    "elif month>=7 and month<=9:\n",
    "    print(\"Month is in third quarter.\")\n",
    "elif month>=10 and month<=12:\n",
    "    print(\"Month is in fourth quarter.\")\n",
    "else:\n",
    "    print(\"Error\")"
   ]
  },
  {
   "cell_type": "code",
   "execution_count": 3,
   "id": "2c1f5fc6",
   "metadata": {},
   "outputs": [
    {
     "name": "stdout",
     "output_type": "stream",
     "text": [
      "Enter a number: 8\n",
      "VIII\n"
     ]
    }
   ],
   "source": [
    "#ROMAN NUMERALS\n",
    "\n",
    "number=int(input(\"Enter a number: \"))\n",
    "if number==1:\n",
    "    print(\"I\")\n",
    "elif number==2:\n",
    "    print(\"II\")\n",
    "elif number==3:\n",
    "    print(\"III\")\n",
    "elif number==4:\n",
    "    print(\"IV\")\n",
    "elif number==5:\n",
    "    print(\"V\")\n",
    "elif number==6:\n",
    "    print(\"VI\")\n",
    "elif number==7:\n",
    "    print(\"VII\")\n",
    "elif number==8:\n",
    "    print(\"VIII\")\n",
    "elif number==9:\n",
    "    print(\"IX\")\n",
    "elif number==10:\n",
    "    print(\"X\")\n",
    "else:\n",
    "    print(\"ERROR\")"
   ]
  },
  {
   "cell_type": "markdown",
   "id": "5655cd70",
   "metadata": {},
   "source": [
    "# same one in if loop "
   ]
  },
  {
   "cell_type": "code",
   "execution_count": null,
   "id": "890f47b5",
   "metadata": {},
   "outputs": [],
   "source": []
  },
  {
   "cell_type": "code",
   "execution_count": 7,
   "id": "dd95879f",
   "metadata": {},
   "outputs": [
    {
     "name": "stdout",
     "output_type": "stream",
     "text": [
      "Enter the object mass: 560\n",
      "It is too heavy.\n"
     ]
    }
   ],
   "source": [
    "#MASS AND WEIGHT\n",
    "\n",
    "mass=float(input(\"Enter the object mass: \"))\n",
    "weight=mass*9.8\n",
    "if weight>500:\n",
    "    print(\"It is too heavy.\")\n",
    "elif weight<100:\n",
    "    print(\"It is too light.\")"
   ]
  },
  {
   "cell_type": "markdown",
   "id": "97d93a9d",
   "metadata": {},
   "source": [
    "# find error"
   ]
  },
  {
   "cell_type": "code",
   "execution_count": 11,
   "id": "bcf63627",
   "metadata": {},
   "outputs": [
    {
     "name": "stdout",
     "output_type": "stream",
     "text": [
      "Enter month: 22\n",
      "Enter day  : 2\n",
      "Enter year : 45\n",
      "Date is magic\n"
     ]
    }
   ],
   "source": [
    "#MAGIC DATES\n",
    "\n",
    "month=int(input(\"Enter month: \"))\n",
    "day=int(input(\"Enter day  : \"))\n",
    "year=int(input(\"Enter year : \"))\n",
    "magicdate=month*day==year\n",
    "if month*day==year == magicdate:\n",
    "    print(\"Date is magic\")\n",
    "else:\n",
    "    print(\"Date is magic\")"
   ]
  },
  {
   "cell_type": "code",
   "execution_count": 7,
   "id": "a6b18a86",
   "metadata": {},
   "outputs": [
    {
     "name": "stdout",
     "output_type": "stream",
     "text": [
      "Enter first test marks out of 25: 25\n",
      "Enter 2nd test marks out of 25: 24\n",
      "Enter main exam marks out of 50: 49\n",
      "You got 98  marks with Distinction\n"
     ]
    }
   ],
   "source": [
    "#GRADE CALCULATOR\n",
    "\n",
    "test=int(input(\"Enter first test marks out of 25: \"))\n",
    "test2=int(input(\"Enter 2nd test marks out of 25: \"))\n",
    "exam=int(input(\"Enter main exam marks out of 50: \"))\n",
    "total=test+test2+exam\n",
    "if test<=0>=25 and test2<=0>=25 and exam>=50<=0:\n",
    "    print(\"Error\")\n",
    "else:\n",
    "    if  exam<25 or total<50:\n",
    "        print(\"Fail\")\n",
    "    else:\n",
    "        if total>=80:\n",
    "            print(\"You got\",total,\" marks with Distinction\")\n",
    "        else:\n",
    "            if total>=60<=80:\n",
    "                print(\"You got\",total,\" marks with Credit\")\n",
    "            else:\n",
    "                if total<=60:\n",
    "                    print(\"You got\",total,\"and Passed\")"
   ]
  },
  {
   "cell_type": "markdown",
   "id": "79f1431f",
   "metadata": {},
   "source": []
  },
  {
   "cell_type": "code",
   "execution_count": 1,
   "id": "01fbeb3c",
   "metadata": {},
   "outputs": [
    {
     "name": "stdout",
     "output_type": "stream",
     "text": [
      "Number of people attending: 34\n",
      "Burger each person will get: 1\n",
      "\n",
      "Minimum shami pacakge required:  4\n",
      "Minimum bun pacakge required:  5\n",
      "\n",
      "Leftover shami are:  6\n",
      "Leftover buns are :  6\n"
     ]
    }
   ],
   "source": [
    "#HOTDOG OR SHAMI COOKOUT\n",
    "\n",
    "shamipack=10\n",
    "bunpack=8\n",
    "\n",
    "student=int(input(\"Number of people attending: \"))\n",
    "burger=int(input(\"Burger each person will get: \"))\n",
    "\n",
    "totalshami=student*burger\n",
    "totalbun=student*burger\n",
    "\n",
    "totalshamireq=totalshami//shamipack\n",
    "totalbunreq=totalbun//bunpack\n",
    "\n",
    "if totalshami%shamipack!=0:\n",
    "    totalshamireq +=1\n",
    "    print(\"\\nMinimum shami pacakge required: \",totalshamireq)\n",
    "else:\n",
    "    print(\"\\nMinimum shami package required: \",totalshamireq)\n",
    "         \n",
    "if totalbun%bunpack!=0:\n",
    "    totalbunreq +=1\n",
    "    print(\"Minimum bun pacakge required: \",totalbunreq)\n",
    "else:\n",
    " \n",
    "    print(\"Minimum  bun  package  required: \",totalbunreq) \n",
    "    \n",
    "\n",
    "leftshami=totalshamireq*shamipack-totalshami\n",
    "print(\"\\nLeftover shami are: \",leftshami)\n",
    "\n",
    "leftbun=totalbunreq*bunpack-totalbun\n",
    "print(\"Leftover buns are : \",leftbun)"
   ]
  },
  {
   "cell_type": "code",
   "execution_count": 10,
   "id": "b9f8341e",
   "metadata": {},
   "outputs": [
    {
     "name": "stdout",
     "output_type": "stream",
     "text": [
      "Enter a pocket number: 28\n",
      "Black\n"
     ]
    }
   ],
   "source": [
    "# ROULETTE WHEEL COLORS\n",
    "\n",
    "number=int(input(\"Enter a pocket number: \"))\n",
    "if number==0:\n",
    "        print(\"Green\")\n",
    "elif number>36 or number<0:\n",
    "        print(\"Error\")\n",
    "elif number>=1 and number<=10:\n",
    "    if number%2==0:\n",
    "        print(\"Black\")\n",
    "    else:\n",
    "        print(\"Red\")\n",
    "elif number>=11 and number<=18:\n",
    "    if number%2==0:\n",
    "        print(\"Red\")\n",
    "    else:\n",
    "        print(\"Black\")\n",
    "elif number>=19 and number<=28:\n",
    "    if number%2==0:\n",
    "        print(\"Black\")\n",
    "    else:\n",
    "        print(\"Red\")\n",
    "elif number>=29 and number<=36:\n",
    "    if number%2==0:\n",
    "        print(\"Red\")\n",
    "    else:\n",
    "        print(\"Black\")"
   ]
  },
  {
   "cell_type": "code",
   "execution_count": null,
   "id": "4101061b",
   "metadata": {},
   "outputs": [],
   "source": [
    "## money counting game\n",
    "\n",
    "dollar= 100\n",
    "\n",
    "pennies=int(input(\"enter the number of pennies: \"))\n",
    "nickels=int(input(\"enter the number of nickels: \"))\n",
    "dimes=int(input(\"enter the number of dimes: \"))\n",
    "quarters=int(input(\"enter the number of quarter: \"))\n",
    "\n",
    "total=pennies+nickels*5+dimes*10+quarters*25\n",
    "if total==dollar:\n",
    "    print(\"Congratulations for winning a game\")\n",
    "else:\n",
    "    print(\"\\nEntered amount is more or less then dollar\")"
   ]
  },
  {
   "cell_type": "code",
   "execution_count": 23,
   "id": "06e7c701",
   "metadata": {},
   "outputs": [
    {
     "name": "stdout",
     "output_type": "stream",
     "text": [
      "Enter the number of book purchased3\n",
      "you earned 5 points\n"
     ]
    }
   ],
   "source": [
    "#BOOK CLUB POINTS\n",
    "\n",
    "book=int(input(\"Enter the number of book purchased: \"))\n",
    "if book>=8:\n",
    "    print(\"you earned 60 points\")\n",
    "elif book>=6:\n",
    "    print(\"you earned 30 points\")\n",
    "elif book>=4:\n",
    "    print(\"you earned 15 points\")\n",
    "elif book>=2:\n",
    "    print(\"you earned 5 points\")\n",
    "elif book>=0:\n",
    "    print(\"you earned 0 points\")\n",
    "else:\n",
    "    print()"
   ]
  },
  {
   "cell_type": "code",
   "execution_count": 28,
   "id": "9c43a430",
   "metadata": {},
   "outputs": [
    {
     "name": "stdout",
     "output_type": "stream",
     "text": [
      "Enter the number of package purchased: 15\n",
      "Discount 148.5\n",
      "Total amount 1336.5\n"
     ]
    }
   ],
   "source": [
    "#SOFTWARE SALES\n",
    "\n",
    "retail=99\n",
    "package=int(input(\"Enter the number of package purchased: \"))\n",
    "if package>=10<=19:\n",
    "    print(\"Discount\",package*retail*.1)\n",
    "    print(\"Total amount\",(retail*package)-package*retail*.1)\n",
    "elif package>=20<=49:\n",
    "    print(\"Discount\",package*retail*.2)\n",
    "    print(\"Total amount\",(retail*package)-package*retail*.2)\n",
    "elif package>=50<=99:\n",
    "    print(\"Discount\",package*retail*.3)\n",
    "    print(\"Total amount\",(retail*package)-package*retail*.3)\n",
    "else:\n",
    "    print(\"Discount\",package*retail*.1)\n",
    "    print(\"Total amount\",(retail*package)-package*retail*.4)\n",
    "    \n",
    "\n",
    "\n",
    "\n"
   ]
  },
  {
   "cell_type": "markdown",
   "id": "7c0c7c72",
   "metadata": {},
   "source": []
  },
  {
   "cell_type": "code",
   "execution_count": null,
   "id": "5c1d7f95",
   "metadata": {},
   "outputs": [],
   "source": [
    "#SOFTWARE SALES  (SAME ABOVE ONE WITH OLDER LONG CODE)\n",
    "\n",
    "retail=99\n",
    "discount1=10/100*99\n",
    "discount2=20/100*99\n",
    "discount3=30/100*99\n",
    "discount4=40/100*99\n",
    "quantity=int(input(\"Enter number of packages purchased : \"))\n",
    "\n",
    "\n",
    "if quantity>=10<=19:\n",
    "    print(\"Discount : \", quantity*discount1)\n",
    "    print(\"Price after discount: \",quantity*retail - discount1*quantity)\n",
    "elif quantity>=20<=49:\n",
    "    print(\"Discount : \", quantity*discount2)\n",
    "    print(\"Price after discount: \",quantity*retail - discount2*quantity)\n",
    "elif quantity>=50<=99:\n",
    "    print(\"Discount : \", quantity*discount3)\n",
    "    print(\"Price after discount: \",quantity*retail - discount3*quantity)\n",
    "else :\n",
    "    print(\"Discount : \", quantity*discount4)\n",
    "    print(\"Price after discount: \",quantity*retail - discount4*quantity)\n"
   ]
  },
  {
   "cell_type": "code",
   "execution_count": 32,
   "id": "13dd1438",
   "metadata": {},
   "outputs": [
    {
     "name": "stdout",
     "output_type": "stream",
     "text": [
      "Enter the weight of package: 7\n",
      "Shipping charges: 4.00$\n"
     ]
    }
   ],
   "source": [
    "#SHIPPING CHARGES\n",
    "\n",
    "package=int(input(\"Enter the weight of package: \"))\n",
    "if package<=2:\n",
    "    print(\"Shipping charges: 1.50$\")\n",
    "elif package<=6>2:\n",
    "    print(\"Shipping charges: 3.00$\")\n",
    "elif package>6<=10:\n",
    "    print(\"Shipping charges: 4.00$\")\n",
    "elif package>10:\n",
    "    print(\"Shipping charges: 4.75$\")"
   ]
  },
  {
   "cell_type": "code",
   "execution_count": 1,
   "id": "f485d612",
   "metadata": {},
   "outputs": [
    {
     "name": "stdout",
     "output_type": "stream",
     "text": [
      "Enter your weight in pounds: 140\n",
      "Enter your height in inches: 67\n",
      "\n",
      "Your BMI is: 21.92\n",
      "\n",
      "Your weight is optimal.\n"
     ]
    }
   ],
   "source": [
    "#BODY MASS INDEX\n",
    "\n",
    "weight=float(input(\"Enter your weight in pounds: \"))\n",
    "height=float(input(\"Enter your height in inches: \"))\n",
    "bmi=weight*703/height**2\n",
    "print(\"\\nYour BMI is:\",format(bmi,'.2f'))\n",
    "if bmi<=25 and bmi>=18.5:\n",
    "    print(\"\\nYour weight is optimal.\")\n",
    "elif bmi<18.5:\n",
    "    print(\"\\nYour are underweight.\")\n",
    "elif bmi>25:\n",
    "    print(\"\\nYour are overweight.\")"
   ]
  },
  {
   "cell_type": "markdown",
   "id": "0724425c",
   "metadata": {},
   "source": [
    "# Credit Goes To Yargul"
   ]
  },
  {
   "cell_type": "code",
   "execution_count": 2,
   "id": "7610c6c9",
   "metadata": {},
   "outputs": [
    {
     "name": "stdout",
     "output_type": "stream",
     "text": [
      "Enter the number of seconds: 3670\n",
      "Hour:  1   Minutes:  1   Seconds:  10\n"
     ]
    }
   ],
   "source": [
    "#TIME CALCULATOR\n",
    "\n",
    "sec=int(input(\"Enter the number of seconds: \"))\n",
    "\n",
    "if sec<60:\n",
    "    print(\"Enter more than 60 seconds \")\n",
    "else:\n",
    "    if sec>=86400:\n",
    "        day=sec//86400\n",
    "        remain1=sec%86400\n",
    "        hours=remain1//3600\n",
    "        remain2=sec%3600\n",
    "        minutes=remain2//60\n",
    "        seconds=remain2%60\n",
    "        print('Day: ',day,'Hour: ',hours, ' ','Minutes: ',minutes,' ','Seconds: ',seconds)\n",
    "\n",
    "    elif sec>=3600:\n",
    "        hours=sec//3600\n",
    "        remain=sec%3600\n",
    "        minutes=remain//60\n",
    "        seconds=remain%60\n",
    "        print('Hour: ',hours, ' ','Minutes: ',minutes,' ','Seconds: ',seconds)\n",
    "\n",
    "    elif sec>=60:\n",
    "        minute=sec//60\n",
    "        seconds=sec%60\n",
    "        print(minute,\":\",seconds)\n",
    "    "
   ]
  },
  {
   "cell_type": "markdown",
   "id": "7494e871",
   "metadata": {},
   "source": []
  },
  {
   "cell_type": "code",
   "execution_count": null,
   "id": "f8d13ad4",
   "metadata": {},
   "outputs": [],
   "source": [
    "#FEBRUARY DAYS\n",
    "\n",
    "year=int(input(\"Enter a year: \"))\n",
    "\n",
    "if year%100==0 and year%400==0:\n",
    "    print(\"\\nIn\",year,\"February has 29 days.\")\n",
    "elif year%100!=0 and year%4==0:\n",
    "    print(\"\\nIn\",year,\"February has 29 days.\")\n",
    "else:\n",
    "    print(\"\\nIts not a leap year.\")\n",
    "    "
   ]
  },
  {
   "cell_type": "code",
   "execution_count": 10,
   "id": "b50b7188",
   "metadata": {},
   "outputs": [
    {
     "name": "stdout",
     "output_type": "stream",
     "text": [
      "Did the problem solved? Yes OR No:\n",
      "Noneno\n",
      "\n",
      "1.Reboot the computer and try to connect\n",
      "\n",
      "Did the problem solved? Yes OR No:\n",
      "Noneno\n",
      "\n",
      "2.Reboot the router and try to connect\n",
      "\n",
      "Did the problem solved? Yes OR No:\n",
      "Noneno\n",
      "\n",
      "3.Make sure the cables are plugged in firmly\n",
      "\n",
      "Did the problem solved? Yes OR No:\n",
      "Noneno\n",
      "\n",
      "4.Move the router to new loaction\n",
      "\n",
      "Did the problem solved? Yes OR No:\n",
      "Noneno\n",
      "\n",
      "5.Get a new router.\n"
     ]
    }
   ],
   "source": [
    "#WIFI DIAGONISTIC TREE\n",
    "\n",
    "problem=input(print(\"Did the problem solved? Yes OR No:\"));\n",
    "if problem=='yes' :\n",
    "    print(\"Okay enjoy now\")\n",
    "else:\n",
    "    if problem=='yes':\n",
    "            print(\"Okay enjoy now\")\n",
    "    if problem=='no':\n",
    "            print(\"\\n1.Reboot the computer and try to connect\")\n",
    "            problem=input(print(\"\\nDid the problem solved? Yes OR No:\"))\n",
    "\n",
    "            if problem=='yes':          \n",
    "                print(\"Okay enjoy now\")\n",
    "            if problem=='no':\n",
    "                print(\"\\n2.Reboot the router and try to connect\")\n",
    "                problem=input(print(\"\\nDid the problem solved? Yes OR No:\"))\n",
    "            \n",
    "            \n",
    "                if problem=='yes':\n",
    "                    print(\"Okay enjoy now\")\n",
    "                if problem=='no':\n",
    "                    print(\"\\n3.Make sure the cables are plugged in firmly\")\n",
    "                    problem=input(print(\"\\nDid the problem solved? Yes OR No:\"))\n",
    "           \n",
    "                \n",
    "                if problem=='yes': \n",
    "                    print(\"Okay enjoy now\")\n",
    "                if problem=='no':\n",
    "                    print(\"\\n4.Move the router to new loaction\")\n",
    "                    problem=input(print(\"\\nDid the problem solved? Yes OR No:\"))\n",
    "                \n",
    "                    if problem=='no':\n",
    "                        print(\"\\n5.Get a new router.\")\n"
   ]
  },
  {
   "cell_type": "code",
   "execution_count": 9,
   "id": "78728550",
   "metadata": {},
   "outputs": [
    {
     "name": "stdout",
     "output_type": "stream",
     "text": [
      "Did the problem solved? Yes OR No:\n",
      "Noneno\n",
      "\n",
      "1.Reboot the computer and try to connect\n",
      "\n",
      "Did the problem solved? Yes OR No:\n",
      "Noneno\n",
      "\n",
      "2.Reboot the router and try to connect\n",
      "\n",
      "Did the problem solved? Yes OR No:\n",
      "Noneno\n",
      "\n",
      "3.Make sure the cables are plugged in firmly\n",
      "\n",
      "Did the problem solved? Yes OR No:\n",
      "Noneno\n",
      "\n",
      "4.Move the router to new loaction\n",
      "\n",
      "Did the problem solved? Yes OR No:\n",
      "Noneno\n",
      "\n",
      "5.Get a new router\n"
     ]
    }
   ],
   "source": [
    "#WIFI DIAGONISTIC TREE\n",
    "\n",
    "problem=input(print(\"Did the problem solved? Yes OR No:\"));\n",
    "if problem=='yes' :\n",
    "    print(\"Okay enjoy now\")\n",
    "elif problem=='no':\n",
    "    print(\"\\n1.Reboot the computer and try to connect\")\n",
    "    problem=input(print(\"\\nDid the problem solved? Yes OR No:\"))\n",
    "if problem=='yes':          \n",
    "    print(\"Okay enjoy now\")\n",
    "elif problem=='no':\n",
    "    print(\"\\n2.Reboot the router and try to connect\")\n",
    "    problem=input(print(\"\\nDid the problem solved? Yes OR No:\"))\n",
    "if problem=='yes':\n",
    "    print(\"Okay enjoy now\")\n",
    "    problem=input(print(\"\\nDid the problem solved? Yes OR No:\"))\n",
    "elif problem=='no':\n",
    "    print(\"\\n3.Make sure the cables are plugged in firmly\")\n",
    "    problem=input(print(\"\\nDid the problem solved? Yes OR No:\"))\n",
    "if problem=='yes': \n",
    "    print(\"Okay enjoy now\")\n",
    "    problem=input(print(\"\\nDid the problem solved? Yes OR No:\"))\n",
    "elif problem=='no':\n",
    "    print(\"\\n4.Move the router to new loaction\")\n",
    "    problem=input(print(\"\\nDid the problem solved? Yes OR No:\"))         \n",
    "if problem=='no':\n",
    "    print(\"\\n5.Get a new router.\")"
   ]
  },
  {
   "cell_type": "markdown",
   "id": "173ad4c1",
   "metadata": {},
   "source": [
    "# Solve above one with while loop"
   ]
  },
  {
   "cell_type": "code",
   "execution_count": null,
   "id": "63931b74",
   "metadata": {},
   "outputs": [],
   "source": []
  },
  {
   "cell_type": "markdown",
   "id": "bb24be79",
   "metadata": {},
   "source": [
    "# FIND A BUG"
   ]
  },
  {
   "cell_type": "code",
   "execution_count": 5,
   "id": "5b099a77",
   "metadata": {},
   "outputs": [
    {
     "name": "stdout",
     "output_type": "stream",
     "text": [
      "Is anyone among u is vegetarian? Enter yes or no.yes\n",
      "Is anyone among u is vegan? Enter yes or no.no\n",
      "Is anyone among u is glutin free? Enter yes or no.yes\n",
      "Here are your restaurant choices:\n",
      "MAIN STREET PIZZA COMPANY\n",
      "CORNERS CAFE\n",
      "MAMA'S FINE ITALIAN\n",
      "THE CHEF's KITCHEN\n"
     ]
    }
   ],
   "source": [
    "#RESTRAUNT SELECTOR\n",
    "vegetar=input(\"Is anyone among u is vegetarian? Enter yes or no.\")\n",
    "vegan=input(\"Is anyone among u is vegan? Enter yes or no.\")\n",
    "glutin=input(\"Is anyone among u is glutin free? Enter yes or no.\")\n",
    "\n",
    "if (vegetar=='no'or vegetar=='No' or vegetar=='NO'):\n",
    "    print(\"Here are your restaurant choices:\")\n",
    "    print(\"JOE'S GOURMET BURGERS\")\n",
    "elif (vegetar=='yes'):\n",
    "    print(\"Here are your restaurant choices:\")\n",
    "    print(\"MAIN STREET PIZZA COMPANY\")\n",
    "    print(\"CORNERS CAFE\")\n",
    "    print(\"MAMA'S FINE ITALIAN\")\n",
    "    print(\"THE CHEF's KITCHEN\")\n",
    "elif (vegan=='no'):\n",
    "    print(\"Here are your restaurant choices:\")\n",
    "    print(\"JOE'S GOURMET BURGERS\")\n",
    "    print(\"MAIN STREET PIZZA COMPANY\")\n",
    "    print(\"MAMA'S FINE ITALIAN\")\n",
    "elif (vegan=='yes'):\n",
    "    print(\"CORNER CAFE\")\n",
    "    print(\"THE CHEF KITCHEN\")\n",
    "elif (glutin=='no'):\n",
    "    print(\"Here are your restaurant choices:\")\n",
    "    print(\"JOE'S GOURMET BURGERS\")\n",
    "    print(\"MAMA'S FINE ITALIAN\")\n",
    "elif (glutin=='yes'):\n",
    "    print(\"Here are your restaurant choices:\")\n",
    "    print(\"MAIN STREET PIZZA COMPANY\")\n",
    "    print(\"CORNER CAFE\")\n",
    "    print(\"THE CHEF KITCHEN\")"
   ]
  },
  {
   "cell_type": "code",
   "execution_count": null,
   "id": "5b9fe33a",
   "metadata": {},
   "outputs": [],
   "source": []
  },
  {
   "cell_type": "code",
   "execution_count": null,
   "id": "bd7fdf85",
   "metadata": {},
   "outputs": [],
   "source": []
  },
  {
   "cell_type": "code",
   "execution_count": null,
   "id": "b6f6688b",
   "metadata": {},
   "outputs": [],
   "source": []
  }
 ],
 "metadata": {
  "kernelspec": {
   "display_name": "Python 3 (ipykernel)",
   "language": "python",
   "name": "python3"
  },
  "language_info": {
   "codemirror_mode": {
    "name": "ipython",
    "version": 3
   },
   "file_extension": ".py",
   "mimetype": "text/x-python",
   "name": "python",
   "nbconvert_exporter": "python",
   "pygments_lexer": "ipython3",
   "version": "3.11.5"
  }
 },
 "nbformat": 4,
 "nbformat_minor": 5
}
