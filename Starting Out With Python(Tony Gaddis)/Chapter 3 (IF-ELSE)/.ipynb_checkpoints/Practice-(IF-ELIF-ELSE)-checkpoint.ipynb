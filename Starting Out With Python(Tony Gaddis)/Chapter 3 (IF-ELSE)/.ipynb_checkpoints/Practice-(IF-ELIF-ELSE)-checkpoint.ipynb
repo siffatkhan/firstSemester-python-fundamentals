{
 "cells": [
  {
   "cell_type": "code",
   "execution_count": 1,
   "id": "0146a1b9",
   "metadata": {},
   "outputs": [
    {
     "name": "stdout",
     "output_type": "stream",
     "text": [
      "a is less than b\n"
     ]
    }
   ],
   "source": [
    "if 'a' > 'b':\n",
    "    print(\"a is greater than b \")\n",
    "else :\n",
    "    print(\"a is less than b\")"
   ]
  },
  {
   "cell_type": "code",
   "execution_count": 4,
   "id": "1edabd9a",
   "metadata": {},
   "outputs": [
    {
     "name": "stdout",
     "output_type": "stream",
     "text": [
      "ali is an intelligent boy And jawad  is a lazy person\n"
     ]
    }
   ],
   "source": [
    "x= \"ali\"\n",
    "y=\"jawad\"\n",
    "print(x,\"is an intelligent boy And\",\n",
    "      y,\" is a lazy person\")"
   ]
  },
  {
   "cell_type": "code",
   "execution_count": 5,
   "id": "680d4e22",
   "metadata": {},
   "outputs": [
    {
     "name": "stdout",
     "output_type": "stream",
     "text": [
      "put your name:ali\n",
      "welcome ali\n"
     ]
    }
   ],
   "source": [
    "ent = input(\"put your name:\")\n",
    "if ent == 'ali':\n",
    "    print(\"welcome ali\")\n",
    "else :\n",
    "    print (\"sorry user not found\")"
   ]
  },
  {
   "cell_type": "code",
   "execution_count": 7,
   "id": "ce9a6884",
   "metadata": {},
   "outputs": [
    {
     "name": "stdout",
     "output_type": "stream",
     "text": [
      "new york\n"
     ]
    }
   ],
   "source": [
    "s1='new york'\n",
    "s2='bostan'\n",
    "# here new york is greater than bostan bcx of its first high letter\n",
    "if s1>s2:\n",
    "    print(s1)\n",
    "else:\n",
    "    print(s2)"
   ]
  },
  {
   "cell_type": "code",
   "execution_count": null,
   "id": "90f16df9",
   "metadata": {},
   "outputs": [],
   "source": []
  },
  {
   "cell_type": "markdown",
   "id": "e3421440",
   "metadata": {},
   "source": [
    "# IF-ELIF-ELSE Examples"
   ]
  },
  {
   "cell_type": "code",
   "execution_count": null,
   "id": "288d24ec",
   "metadata": {},
   "outputs": [],
   "source": [
    "hourwork = int(input(\"how many hour did you work?\"))\n",
    "payrate = float(input(\"what the hourly pay rate?\"))\n",
    "if hourwork > 40:\n",
    "    print(\"your total calculated pay is:\",hourwork*payrate)\n",
    "else:\n",
    "    print(\"your total pay is: \",hourwork*payrate)"
   ]
  },
  {
   "cell_type": "code",
   "execution_count": 11,
   "id": "45c270f1",
   "metadata": {},
   "outputs": [
    {
     "name": "stdout",
     "output_type": "stream",
     "text": [
      "Enter your score: 80\n",
      "Congrats your grade is B.\n"
     ]
    }
   ],
   "source": [
    "#IF ELSE NESTED BLOCKS\n",
    "\n",
    "score = int(input(\"Enter your score: \"))\n",
    "\n",
    "if score >= 90 :\n",
    "    print('Congrats your grade is A.')\n",
    "else :\n",
    "    if score >= 80 :\n",
    "          print('Congrats your grade is B.')\n",
    "    else:\n",
    "        if score >= 70 :\n",
    "              print('Your grade is C.')\n",
    "        else:\n",
    "          if score >= 60 :\n",
    "                print('Your grade is D.')\n",
    "          else:\n",
    "                print(\"Your grade is F.\")"
   ]
  },
  {
   "cell_type": "code",
   "execution_count": 9,
   "id": "bf62119f",
   "metadata": {},
   "outputs": [
    {
     "name": "stdout",
     "output_type": "stream",
     "text": [
      "Enter your salary: 25000\n",
      "Enter years you worked: 2\n",
      "\n",
      "You dont fulfil loan requirements.\n"
     ]
    }
   ],
   "source": [
    "#EXAMPLE 2 OF IF ELSE NESTED BLOCKS:\n",
    "\n",
    "minsalary= 30000.0\n",
    "minyear= 2\n",
    "totalsalary=float(input(\"Enter your salary: \"))\n",
    "yearworked=int(input(\"Enter years you worked: \"))\n",
    "\n",
    "if totalsalary > minsalary:\n",
    "    if yearworked > minyear:\n",
    "        print(\"\\nYou qualified for loan.\")\n",
    "    else:\n",
    "        print(\"\\nYou have work more year to get loan.\")\n",
    "else:\n",
    "    print(\"\\nYou dont fulfil loan requirements.\")"
   ]
  },
  {
   "cell_type": "code",
   "execution_count": 7,
   "id": "486f9543",
   "metadata": {},
   "outputs": [
    {
     "name": "stdout",
     "output_type": "stream",
     "text": [
      "Enter number from 1 to 5: 4\n",
      "Four\n"
     ]
    }
   ],
   "source": [
    "#EASY METHOD OF IF-ELIF-ELSE INSTEAD IF-ELSE NESTED BLOCKS\n",
    "\n",
    "number=int(input(\"Enter number from 1 to 5: \"))\n",
    "if   number == 1:\n",
    "    print(\"One\")\n",
    "elif number == 2:\n",
    "    print(\"Two\")\n",
    "elif number == 3:\n",
    "    print(\"Three\")\n",
    "elif number == 4:\n",
    "    print(\"Four\")\n",
    "else:\n",
    "    print(\"Five\")"
   ]
  },
  {
   "cell_type": "markdown",
   "id": "fb93ee25",
   "metadata": {},
   "source": [
    "# FOR LOOP Example"
   ]
  },
  {
   "cell_type": "code",
   "execution_count": 4,
   "id": "6a634c82",
   "metadata": {},
   "outputs": [
    {
     "name": "stdout",
     "output_type": "stream",
     "text": [
      "will display no from 1 to 5\n",
      "1\n",
      "2\n",
      "3\n",
      "4\n",
      "5\n"
     ]
    }
   ],
   "source": [
    "#FOR LOOP\n",
    "\n",
    "print(\"Will display number from 1 to 5\")\n",
    "for num in[1,2,3,4,5]:\n",
    "     print(num)"
   ]
  },
  {
   "cell_type": "code",
   "execution_count": null,
   "id": "2119bcf3",
   "metadata": {},
   "outputs": [],
   "source": []
  },
  {
   "cell_type": "code",
   "execution_count": null,
   "id": "c8cf3204",
   "metadata": {},
   "outputs": [],
   "source": []
  },
  {
   "cell_type": "code",
   "execution_count": null,
   "id": "3977a348",
   "metadata": {},
   "outputs": [],
   "source": []
  },
  {
   "cell_type": "markdown",
   "id": "ae7b12c2",
   "metadata": {},
   "source": [
    "# WHILE LOOP Example"
   ]
  },
  {
   "cell_type": "code",
   "execution_count": 3,
   "id": "76278612",
   "metadata": {},
   "outputs": [
    {
     "name": "stdout",
     "output_type": "stream",
     "text": [
      "Enter the temperature: 105\n",
      "Turn down the thermostat.\n",
      "Wait for 5 minutes.\n",
      "Check temperature again.\n",
      "\n",
      "Enter the new temperature: 101\n",
      "\n",
      "The Temp is acceptable.\n",
      "Check it again after 15 min.\n"
     ]
    }
   ],
   "source": [
    "#WHILE LOOP PRACTICE\n",
    "\n",
    "maxtemp=102.5\n",
    "temp=float(input(\"Enter the temperature: \"))\n",
    "while temp> maxtemp:\n",
    "    print(\"Turn down the thermostat.\")\n",
    "    print(\"Wait for 5 minutes.\")\n",
    "    print(\"Check temperature again.\\n\")\n",
    "    temp = float(input(\"Enter the new temperature: \"))\n",
    "print(\"\\nThe Temp is acceptable.\")\n",
    "print(\"Check it again after 15 min.\")"
   ]
  },
  {
   "cell_type": "code",
   "execution_count": null,
   "id": "187f4a2a",
   "metadata": {},
   "outputs": [],
   "source": []
  }
 ],
 "metadata": {
  "kernelspec": {
   "display_name": "Python 3 (ipykernel)",
   "language": "python",
   "name": "python3"
  },
  "language_info": {
   "codemirror_mode": {
    "name": "ipython",
    "version": 3
   },
   "file_extension": ".py",
   "mimetype": "text/x-python",
   "name": "python",
   "nbconvert_exporter": "python",
   "pygments_lexer": "ipython3",
   "version": "3.11.5"
  }
 },
 "nbformat": 4,
 "nbformat_minor": 5
}
