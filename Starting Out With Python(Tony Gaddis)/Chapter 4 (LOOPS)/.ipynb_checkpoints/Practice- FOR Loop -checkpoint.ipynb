{
 "cells": [
  {
   "cell_type": "markdown",
   "id": "8013b9cb",
   "metadata": {},
   "source": [
    "# Validation problem exist"
   ]
  },
  {
   "cell_type": "code",
   "execution_count": 4,
   "id": "442c7cf5",
   "metadata": {},
   "outputs": [
    {
     "name": "stdout",
     "output_type": "stream",
     "text": [
      "Will display number from 1 to 5\n",
      "1 2 3 4 5 "
     ]
    }
   ],
   "source": [
    "#FOR LOOP\n",
    "\n",
    "print(\"Will display number from 1 to 5\")\n",
    "for num in[1,2,3,4,5]:\n",
    "     print(num, end=' ')  #BY USING END='' WE CAN GET OUTPUT IN ONE LINE instead of new lines"
   ]
  },
  {
   "cell_type": "code",
   "execution_count": 10,
   "id": "465d5605",
   "metadata": {},
   "outputs": [
    {
     "name": "stdout",
     "output_type": "stream",
     "text": [
      "1\n",
      "2\n",
      "3\n",
      "4\n",
      "5\n",
      "6\n",
      "7\n",
      "8\n",
      "9\n",
      "10\n"
     ]
    }
   ],
   "source": [
    "for num in range(1,10,1):\n",
    "    print(num)   #WE CAN ALSO ADD STEP VALUE HERE LIKE THIS(NUM+1)"
   ]
  },
  {
   "cell_type": "code",
   "execution_count": null,
   "id": "c2fb868a",
   "metadata": {},
   "outputs": [],
   "source": []
  },
  {
   "cell_type": "markdown",
   "id": "a7ab1980",
   "metadata": {},
   "source": [
    "# Table through for loop"
   ]
  },
  {
   "cell_type": "code",
   "execution_count": 6,
   "id": "2ceb9cab",
   "metadata": {},
   "outputs": [
    {
     "name": "stdout",
     "output_type": "stream",
     "text": [
      "which number table do you want:-9\n",
      "from where should i start: 5\n",
      "how high should i go: 10\n",
      "5 x -9 = -45\n",
      "6 x -9 = -54\n",
      "7 x -9 = -63\n",
      "8 x -9 = -72\n",
      "9 x -9 = -81\n",
      "10 x -9 = -90\n"
     ]
    }
   ],
   "source": [
    "table=int(input(\"which number table do you want:\"))\n",
    "start=int(input(\"from where should i start: \"))\n",
    "end=int(input(\"how high should i go: \"))\n",
    "\n",
    "for number in range(start,end+1,1):\n",
    "    table1=number*table\n",
    "    print(number,\"x\",table,\"=\",table1)\n",
    "    "
   ]
  },
  {
   "cell_type": "markdown",
   "id": "bda196a7",
   "metadata": {},
   "source": [
    "# Use of IF & BREAK (Function)"
   ]
  },
  {
   "cell_type": "code",
   "execution_count": 27,
   "id": "f19da144",
   "metadata": {},
   "outputs": [
    {
     "name": "stdout",
     "output_type": "stream",
     "text": [
      "which number table do you want:3\n",
      "from where should i start: 1\n",
      "how high should i go: 15\n",
      "3 x 1 = 3\n",
      "3 x 2 = 6\n",
      "3 x 3 = 9\n",
      "3 x 4 = 12\n",
      "3 x 5 = 15\n",
      "3 x 6 = 18\n",
      "3 x 7 = 21\n",
      "3 x 8 = 24\n",
      "3 x 9 = 27\n",
      "3 x 10 = 30\n",
      "3 x 11 = 33\n",
      "3 x 12 = 36\n",
      "3 x 13 = 39\n",
      "3 x 14 = 42\n",
      "3 x 15 = 45\n"
     ]
    }
   ],
   "source": [
    "table=int(input(\"which number table do you want:\"))\n",
    "start=int(input(\"from where should i start: \"))\n",
    "end=int(input(\"how high should i go: \"))\n",
    "\n",
    "for number in range(start,end+1,1):\n",
    "    table1=number*table\n",
    "    print(table,\"x\",number,\"=\",table1)\n",
    "    if number==end:\n",
    "        break      #WE USE BREAK TO TERMINATE THE LOOP AT THAT VALUE\n",
    "                    #CAN ALSO USE IN BETWEEN BLOCK OF WHILE CODE\n",
    "else:\n",
    "    print(\"invalid number\")"
   ]
  },
  {
   "cell_type": "markdown",
   "id": "5fdc1456",
   "metadata": {},
   "source": [
    "# USE of IF & CONTINUE (Function)"
   ]
  },
  {
   "cell_type": "code",
   "execution_count": 22,
   "id": "f2e8e099",
   "metadata": {},
   "outputs": [
    {
     "name": "stdout",
     "output_type": "stream",
     "text": [
      "which number table do you want:3\n",
      "from where should i start: 1\n",
      "how high should i go: 18\n",
      "1 x 3 = 3\n",
      "2 x 3 = 6\n",
      "3 x 3 = 9\n",
      "4 x 3 = 12\n",
      "5 x 3 = 15\n",
      "6 x 3 = 18\n",
      "7 x 3 = 21\n",
      "8 x 3 = 24\n",
      "9 x 3 = 27\n",
      "11 x 3 = 33\n",
      "12 x 3 = 36\n",
      "13 x 3 = 39\n",
      "14 x 3 = 42\n",
      "15 x 3 = 45\n",
      "16 x 3 = 48\n",
      "17 x 3 = 51\n",
      "18 x 3 = 54\n"
     ]
    }
   ],
   "source": [
    "table=int(input(\"which number table do you want:\"))\n",
    "start=int(input(\"from where should i start: \"))\n",
    "end=int(input(\"how high should i go: \"))\n",
    "\n",
    "for number in range(start,end+1,1):\n",
    "    if number==10:\n",
    "        continue      #WE USE CONTINUE TO SKIP ITERATION AT THAT VALUE (10th iteration)\n",
    "    table1=number*table\n",
    "    print(number,\"x\",table,\"=\",table1)\n",
    "    if number>end:\n",
    "        break\n",
    "\n",
    "    "
   ]
  },
  {
   "cell_type": "code",
   "execution_count": null,
   "id": "dc825cd2",
   "metadata": {},
   "outputs": [],
   "source": [
    "limit = int(input(\"Enter limit of repetition:\"))\n",
    "s = input(\"Enter symbol:\")\n",
    "for i in range(limit):\n",
    "    if i == 0:\n",
    "        print(s,s)\n",
    "    else:\n",
    "        z = \" \"\n",
    "        print(s,\" \",s)"
   ]
  },
  {
   "cell_type": "markdown",
   "id": "c300da72",
   "metadata": {},
   "source": [
    "# VALIDATED PROGRAM OF FOR LOOP"
   ]
  },
  {
   "cell_type": "code",
   "execution_count": null,
   "id": "739abede",
   "metadata": {},
   "outputs": [],
   "source": []
  },
  {
   "cell_type": "code",
   "execution_count": 25,
   "id": "58898c89",
   "metadata": {},
   "outputs": [
    {
     "name": "stdout",
     "output_type": "stream",
     "text": [
      "Enter number:6\n",
      "Enter symbol*\n",
      "******\n",
      "*****\n",
      "****\n",
      "***\n",
      "**\n",
      "*\n",
      "enter correct number\n"
     ]
    }
   ],
   "source": [
    "x = int(input(\"Enter number:\"))\n",
    "s = input(\"Enter symbol\")\n",
    "for i in range(x):\n",
    "    z = x-i\n",
    "    print(z*s)\n",
    "else:\n",
    "    print(\"enter correct number\")"
   ]
  },
  {
   "cell_type": "markdown",
   "id": "d58913eb",
   "metadata": {},
   "source": [
    "# My Version of calculator"
   ]
  },
  {
   "cell_type": "code",
   "execution_count": null,
   "id": "ba9b97c2",
   "metadata": {},
   "outputs": [
    {
     "name": "stdout",
     "output_type": "stream",
     "text": [
      "How many time you want to do it: \n",
      "8\n",
      "Enter a number: \n",
      "5\n",
      "Enter the 2nd number: \n",
      "3\n",
      "What do you want to do: \n",
      "1.FOR SUM PRESS +\n",
      "2.FOR SUBTRACTION PRESS -\n",
      "3.For multiplication press *\n",
      "4.For divition press/ \n",
      "/\n",
      "1.6666666666666667\n",
      "Enter a number: \n",
      "15\n",
      "Enter the 2nd number: \n",
      "10\n",
      "What do you want to do: \n",
      "1.FOR SUM PRESS +\n",
      "2.FOR SUBTRACTION PRESS -\n",
      "3.For multiplication press *\n",
      "4.For divition press/ \n",
      "+\n",
      "25.0\n"
     ]
    }
   ],
   "source": [
    "MAX=int(input(\"How many time you want to do it: \\n\"))\n",
    "total=0.0\n",
    "for counter in range(MAX):\n",
    "    number=int(input(\"Enter a number: \\n\"))\n",
    "    number1=int(input(\"Enter the 2nd number: \\n\"))\n",
    "    operation=input(\"What do you want to do: \\n1.FOR SUM PRESS +\\n2.FOR SUBTRACTION PRESS -\\n3.For multiplication press *\\n4.For divition press/ \\n\")\n",
    "    if operation=='+':\n",
    "        total1=total+(number+number1)\n",
    "        print(total1)\n",
    "    else:\n",
    "        if operation=='-':\n",
    "            total1=total+(number-number1)\n",
    "            print(total1)\n",
    "        else:\n",
    "            if operation=='*':\n",
    "                total1=total+(number*number1)\n",
    "                print(total1)  \n",
    "            else:\n",
    "                if operation=='/':\n",
    "                    total1=total+(number/number1)\n",
    "                    print(total1)\n",
    "        \n",
    "    \n",
    "    "
   ]
  },
  {
   "cell_type": "code",
   "execution_count": null,
   "id": "faf7f02a",
   "metadata": {},
   "outputs": [],
   "source": []
  }
 ],
 "metadata": {
  "kernelspec": {
   "display_name": "Python 3 (ipykernel)",
   "language": "python",
   "name": "python3"
  },
  "language_info": {
   "codemirror_mode": {
    "name": "ipython",
    "version": 3
   },
   "file_extension": ".py",
   "mimetype": "text/x-python",
   "name": "python",
   "nbconvert_exporter": "python",
   "pygments_lexer": "ipython3",
   "version": "3.11.5"
  }
 },
 "nbformat": 4,
 "nbformat_minor": 5
}
