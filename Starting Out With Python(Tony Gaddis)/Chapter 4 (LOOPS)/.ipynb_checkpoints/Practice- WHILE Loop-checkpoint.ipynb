{
 "cells": [
  {
   "cell_type": "markdown",
   "id": "d59f7065",
   "metadata": {},
   "source": [
    "# VALIDATION ERROR STILL EXIST IN ALL"
   ]
  },
  {
   "cell_type": "code",
   "execution_count": 8,
   "id": "0679fbea",
   "metadata": {},
   "outputs": [
    {
     "name": "stdout",
     "output_type": "stream",
     "text": [
      "How many u want it.5\n",
      "1 hello world\n",
      "2 hello world\n",
      "3 hello world\n",
      "4 hello world\n",
      "5 hello world\n"
     ]
    }
   ],
   "source": [
    "times=int(input(\"How many u want it.\"))\n",
    "message=\"hello world\"\n",
    "count=1\n",
    "while count<=times:\n",
    "    print(count,message)    #by entering count here, we will get numbering before message according to step value\n",
    "    count+=1\n",
    "    if count>times:\n",
    "        break\n",
    "else:\n",
    "    print(\"Enter the correct number.\")   "
   ]
  },
  {
   "cell_type": "markdown",
   "id": "3d892d37",
   "metadata": {},
   "source": [
    "# BREAK USE IN WHILE LOOP"
   ]
  },
  {
   "cell_type": "code",
   "execution_count": 6,
   "id": "29683463",
   "metadata": {},
   "outputs": [
    {
     "name": "stdout",
     "output_type": "stream",
     "text": [
      "0\n",
      "1\n",
      "2\n",
      "3\n",
      "4\n",
      "5\n",
      "6\n",
      "7\n",
      "8\n",
      "9\n",
      "10\n",
      "11\n",
      "12\n",
      "13\n",
      "14\n",
      "15\n",
      "16\n",
      "17\n",
      "18\n",
      "19\n"
     ]
    }
   ],
   "source": [
    "i=0\n",
    "while True:               #TRUE CAN BE USED FOR INFINITE LOOP HERE\n",
    "    print(i)\n",
    "    i+=1\n",
    "    if i%20==0 or i==20:\n",
    "        break                #WILL BREAK INFINITE LOOP AT 20TH ITERATION\n",
    "        "
   ]
  },
  {
   "cell_type": "markdown",
   "id": "9e4e064f",
   "metadata": {},
   "source": [
    "# Why continue is not working below"
   ]
  },
  {
   "cell_type": "code",
   "execution_count": null,
   "id": "2c17b4c0",
   "metadata": {},
   "outputs": [
    {
     "name": "stdout",
     "output_type": "stream",
     "text": [
      "0\n",
      "1\n",
      "2\n",
      "3\n",
      "4\n",
      "5\n",
      "6\n",
      "7\n",
      "8\n",
      "9\n",
      "10\n"
     ]
    }
   ],
   "source": [
    "i=0\n",
    "while i<=20:      #TRUE CAN BE USED FOR INFINITE LOOP HERE\n",
    "    if i==11:        #WILL SKIP ITERATION AT 10TH ITERATION\n",
    "        continue\n",
    "    print(i)\n",
    "    i+=1\n",
    "    "
   ]
  },
  {
   "cell_type": "code",
   "execution_count": null,
   "id": "619c414e",
   "metadata": {},
   "outputs": [],
   "source": []
  },
  {
   "cell_type": "code",
   "execution_count": null,
   "id": "665d647b",
   "metadata": {},
   "outputs": [],
   "source": []
  },
  {
   "cell_type": "markdown",
   "id": "0f1b5e1a",
   "metadata": {},
   "source": [
    "# VALIDATED"
   ]
  },
  {
   "cell_type": "code",
   "execution_count": 7,
   "id": "b1729db5",
   "metadata": {},
   "outputs": [
    {
     "name": "stdout",
     "output_type": "stream",
     "text": [
      "Enter the number: 5\n",
      "How high you wanna go: 15\n",
      "Enter count:20\n",
      "Enter the correct limit\n"
     ]
    }
   ],
   "source": [
    "def main():                                          #that is called function\n",
    "    num=int(input(\"Enter the number: \"))       # here we manually entering value to NUM VAR \n",
    "    limit=int(input(\"How high you wanna go: \"))   # we can also give it fix value like 5 \n",
    "    count=int(input(\"Enter count:\"))                                       #should also add some var with value 1\n",
    "    while count<=limit:          #count should be lower than limit or it should be vice versa\n",
    "        print(num,\"x\",count,\"=\",num*count)\n",
    "        count += 1   #its called step/jump value if its 2 value will change by 2\n",
    "        if count>limit:\n",
    "            break\n",
    "    else:\n",
    "        print(\"Enter the correct limit\")\n",
    "main()"
   ]
  },
  {
   "cell_type": "markdown",
   "id": "94baedaf",
   "metadata": {},
   "source": [
    "# "
   ]
  },
  {
   "cell_type": "code",
   "execution_count": null,
   "id": "26452965",
   "metadata": {},
   "outputs": [],
   "source": [
    "#WHILE LOOP PRACTICE (BOOK EXAMPLE)\n",
    "\n",
    "maxtemp=102.5\n",
    "temp=float(input(\"Enter the temperature: \"))\n",
    "while temp> maxtemp:\n",
    "    print(\"Turn down the thermostat.\")\n",
    "    print(\"Wait for 5 minutes.\")\n",
    "    print(\"Check temperature again.\\n\")\n",
    "    temp = float(input(\"Enter the new temperature: \"))\n",
    "print(\"\\nThe Temp is acceptable.\")   #the statement are outside the loop \n",
    "print(\"Check it again after 15 min.\")"
   ]
  },
  {
   "cell_type": "code",
   "execution_count": null,
   "id": "f4fdc97b",
   "metadata": {},
   "outputs": [],
   "source": []
  },
  {
   "cell_type": "code",
   "execution_count": null,
   "id": "e89ed1a9",
   "metadata": {},
   "outputs": [],
   "source": []
  }
 ],
 "metadata": {
  "kernelspec": {
   "display_name": "Python 3 (ipykernel)",
   "language": "python",
   "name": "python3"
  },
  "language_info": {
   "codemirror_mode": {
    "name": "ipython",
    "version": 3
   },
   "file_extension": ".py",
   "mimetype": "text/x-python",
   "name": "python",
   "nbconvert_exporter": "python",
   "pygments_lexer": "ipython3",
   "version": "3.11.5"
  }
 },
 "nbformat": 4,
 "nbformat_minor": 5
}
