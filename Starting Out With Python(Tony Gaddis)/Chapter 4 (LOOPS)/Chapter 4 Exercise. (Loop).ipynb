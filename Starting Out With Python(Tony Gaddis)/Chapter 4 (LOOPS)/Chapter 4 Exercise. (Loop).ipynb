{
 "cells": [
  {
   "cell_type": "markdown",
   "id": "bd65efd9",
   "metadata": {},
   "source": [
    "# ALGORITHM WORKBENCH"
   ]
  },
  {
   "cell_type": "code",
   "execution_count": 2,
   "id": "4b2c9981",
   "metadata": {},
   "outputs": [
    {
     "name": "stdout",
     "output_type": "stream",
     "text": [
      "Enter a number: 45\n",
      "450.0\n"
     ]
    }
   ],
   "source": [
    "# 1.\n",
    "\n",
    "total=0\n",
    "while True:\n",
    "    num=float(input(\"Enter a number: \"))\n",
    "    product=num*10\n",
    "    total+=product\n",
    "    print(total)\n",
    "    if total>100:\n",
    "        break\n"
   ]
  },
  {
   "cell_type": "code",
   "execution_count": null,
   "id": "d3210439",
   "metadata": {},
   "outputs": [
    {
     "name": "stdout",
     "output_type": "stream",
     "text": [
      "Enter 1st number: 5\n",
      "Enter 2nd number: 6\n",
      "The sum is :  11.0\n",
      "Do u want to repeat~ Press Y or N:y\n",
      "Enter 1st number: 7\n",
      "Enter 2nd number: 8\n",
      "The sum is :  15.0\n"
     ]
    }
   ],
   "source": [
    "#. 2\n",
    "\n",
    "repeat=\"Y\"\n",
    "while repeat==\"y\" or repeat==\"Y\":\n",
    "#     num1=float(input(\"Enter 1st number: \"))\n",
    "#     num2=float(input(\"Enter 2nd number: \"))\n",
    "#     print(num1+num2)\n",
    "    print(\"The sum is : \",float(input(\"Enter 1st number: \"))+float(input(\"Enter 2nd number: \")))\n",
    "    repeat=input(\"Do u want to repeat~ Press Y or N:\")\n",
    "    if repeat==\"Y\" or repeat==\"y\":\n",
    "        None\n",
    "    else:\n",
    "        print(\"Enter correct command\")\n",
    "        \n",
    "        \n",
    "    "
   ]
  },
  {
   "cell_type": "code",
   "execution_count": 5,
   "id": "80d4f4fd",
   "metadata": {},
   "outputs": [
    {
     "name": "stdout",
     "output_type": "stream",
     "text": [
      "1\n",
      "3\n",
      "5\n",
      "7\n",
      "9\n",
      "11\n",
      "13\n",
      "15\n",
      "17\n",
      "19\n",
      "21\n",
      "23\n",
      "25\n",
      "27\n",
      "29\n",
      "31\n",
      "33\n",
      "35\n",
      "37\n",
      "39\n",
      "41\n",
      "43\n",
      "45\n",
      "47\n",
      "49\n",
      "51\n",
      "53\n",
      "55\n",
      "57\n",
      "59\n",
      "61\n",
      "63\n",
      "65\n",
      "67\n",
      "69\n",
      "71\n",
      "73\n",
      "75\n",
      "77\n",
      "79\n",
      "81\n",
      "83\n",
      "85\n",
      "87\n",
      "89\n",
      "91\n",
      "93\n",
      "95\n",
      "97\n",
      "99\n"
     ]
    }
   ],
   "source": [
    "#. 3\n",
    "\n",
    "for i in range(100+1):\n",
    "    if i%2!=0:\n",
    "        print(i)"
   ]
  },
  {
   "cell_type": "code",
   "execution_count": 1,
   "id": "e1165f94",
   "metadata": {},
   "outputs": [
    {
     "name": "stdout",
     "output_type": "stream",
     "text": [
      "Enter word: ert\n",
      "Enter word: tip\n",
      "Enter word: dfgj\n",
      "erttipdfgj\n"
     ]
    }
   ],
   "source": [
    "#.4\n",
    "text=\"\"\n",
    "while True:\n",
    "    text+=input(\"Enter word: \")\n",
    "    if len(text)>=10:\n",
    "        print(text)\n",
    "        break\n",
    "    else:\n",
    "        None"
   ]
  },
  {
   "cell_type": "code",
   "execution_count": 2,
   "id": "9fb59a8f",
   "metadata": {},
   "outputs": [
    {
     "ename": "IndentationError",
     "evalue": "expected an indented block after 'for' statement on line 2 (2776028837.py, line 4)",
     "output_type": "error",
     "traceback": [
      "\u001b[0;36m  Cell \u001b[0;32mIn[2], line 4\u001b[0;36m\u001b[0m\n\u001b[0;31m    for y in range(30,0,-1):\u001b[0m\n\u001b[0m    ^\u001b[0m\n\u001b[0;31mIndentationError\u001b[0m\u001b[0;31m:\u001b[0m expected an indented block after 'for' statement on line 2\n"
     ]
    }
   ],
   "source": [
    "#.5\n",
    "for x in range(1,30+1):\n",
    "#     print(x)\n",
    "for y in range(30,0,-1):\n",
    "#     print(y)\n",
    "#     print(f\"{x/y:2f}\")\n",
    "# print(x/y)"
   ]
  },
  {
   "cell_type": "code",
   "execution_count": 12,
   "id": "3b5780e2",
   "metadata": {},
   "outputs": [
    {
     "name": "stdout",
     "output_type": "stream",
     "text": [
      "The sum of the series is: 66.87184625396864\n"
     ]
    }
   ],
   "source": [
    "#BARD\n",
    "total = 0\n",
    "for i in range(1, 31):\n",
    "  total += i / (31 - i + 1)\n",
    "\n",
    "print(f\"The sum of the series is: {total}\")\n"
   ]
  },
  {
   "cell_type": "code",
   "execution_count": 14,
   "id": "e5317b2d",
   "metadata": {},
   "outputs": [
    {
     "name": "stdout",
     "output_type": "stream",
     "text": [
      "The total of the series is 93.84460105853213\n"
     ]
    }
   ],
   "source": [
    "#BLACKBOX\n",
    "# initialize the counter and total variables\n",
    "counter = 1\n",
    "total = 0\n",
    "\n",
    "# while loop continues until the counter is greater than 30\n",
    "while counter <= 30:\n",
    "    total += counter / (30 - counter + 1)\n",
    "    counter += 1\n",
    "\n",
    "print(\"The total of the series is\", total)"
   ]
  },
  {
   "cell_type": "code",
   "execution_count": 24,
   "id": "cb887dbb",
   "metadata": {},
   "outputs": [
    {
     "name": "stdout",
     "output_type": "stream",
     "text": [
      "1 / 30 + 2 / 29 + 3 / 28 + 4 / 27 + 5 / 26 + 6 / 25 + 7 / 24 + 8 / 23 + 9 / 22 + 10 / 21 + 11 / 20 + 12 / 19 + 13 / 18 + 14 / 17 + 15 / 16 + 16 / 15 + 17 / 14 + 18 / 13 + 19 / 12 + 20 / 11 + 21 / 10 + 22 / 9 + 23 / 8 + 24 / 7 + 25 / 6 + 26 / 5 + 27 / 4 + 28 / 3 + 29 / 2 + 30 / 1 + \n",
      "The Total Sum Of Series Is: 93.84460105853213\n"
     ]
    }
   ],
   "source": [
    "#.5 CHECK IT ANSWER  (MINE)\n",
    "x=1\n",
    "y=30\n",
    "count=1\n",
    "sum0=0\n",
    "while count<=30:\n",
    "    z=x/y\n",
    "#     print(f\"{z:2f}\")\n",
    "    x0=str(x)\n",
    "    y0=str(y)\n",
    "    print(x0,\"/\",y0,\"+ \",end='')\n",
    "    \n",
    "    sum0+=z\n",
    "    x+=1\n",
    "    y-=1\n",
    "    count+=1\n",
    "print()\n",
    "print(f\"The Total Sum Of Series Is: {sum0}\")"
   ]
  },
  {
   "cell_type": "code",
   "execution_count": 3,
   "id": "60348485",
   "metadata": {},
   "outputs": [
    {
     "name": "stdout",
     "output_type": "stream",
     "text": [
      "1 x 1 = 1\n",
      "1 x 2 = 2\n",
      "1 x 3 = 3\n",
      "1 x 4 = 4\n",
      "1 x 5 = 5\n",
      "1 x 6 = 6\n",
      "1 x 7 = 7\n",
      "1 x 8 = 8\n",
      "1 x 9 = 9\n",
      "1 x 10 = 10\n",
      "2 x 1 = 2\n",
      "2 x 2 = 4\n",
      "2 x 3 = 6\n",
      "2 x 4 = 8\n",
      "2 x 5 = 10\n",
      "2 x 6 = 12\n",
      "2 x 7 = 14\n",
      "2 x 8 = 16\n",
      "2 x 9 = 18\n",
      "2 x 10 = 20\n",
      "3 x 1 = 3\n",
      "3 x 2 = 6\n",
      "3 x 3 = 9\n",
      "3 x 4 = 12\n",
      "3 x 5 = 15\n",
      "3 x 6 = 18\n",
      "3 x 7 = 21\n",
      "3 x 8 = 24\n",
      "3 x 9 = 27\n",
      "3 x 10 = 30\n",
      "4 x 1 = 4\n",
      "4 x 2 = 8\n",
      "4 x 3 = 12\n",
      "4 x 4 = 16\n",
      "4 x 5 = 20\n",
      "4 x 6 = 24\n",
      "4 x 7 = 28\n",
      "4 x 8 = 32\n",
      "4 x 9 = 36\n",
      "4 x 10 = 40\n",
      "5 x 1 = 5\n",
      "5 x 2 = 10\n",
      "5 x 3 = 15\n",
      "5 x 4 = 20\n",
      "5 x 5 = 25\n",
      "5 x 6 = 30\n",
      "5 x 7 = 35\n",
      "5 x 8 = 40\n",
      "5 x 9 = 45\n",
      "5 x 10 = 50\n",
      "6 x 1 = 6\n",
      "6 x 2 = 12\n",
      "6 x 3 = 18\n",
      "6 x 4 = 24\n",
      "6 x 5 = 30\n",
      "6 x 6 = 36\n",
      "6 x 7 = 42\n",
      "6 x 8 = 48\n",
      "6 x 9 = 54\n",
      "6 x 10 = 60\n",
      "7 x 1 = 7\n",
      "7 x 2 = 14\n",
      "7 x 3 = 21\n",
      "7 x 4 = 28\n",
      "7 x 5 = 35\n",
      "7 x 6 = 42\n",
      "7 x 7 = 49\n",
      "7 x 8 = 56\n",
      "7 x 9 = 63\n",
      "7 x 10 = 70\n",
      "8 x 1 = 8\n",
      "8 x 2 = 16\n",
      "8 x 3 = 24\n",
      "8 x 4 = 32\n",
      "8 x 5 = 40\n",
      "8 x 6 = 48\n",
      "8 x 7 = 56\n",
      "8 x 8 = 64\n",
      "8 x 9 = 72\n",
      "8 x 10 = 80\n",
      "9 x 1 = 9\n",
      "9 x 2 = 18\n",
      "9 x 3 = 27\n",
      "9 x 4 = 36\n",
      "9 x 5 = 45\n",
      "9 x 6 = 54\n",
      "9 x 7 = 63\n",
      "9 x 8 = 72\n",
      "9 x 9 = 81\n",
      "9 x 10 = 90\n",
      "10 x 1 = 10\n",
      "10 x 2 = 20\n",
      "10 x 3 = 30\n",
      "10 x 4 = 40\n",
      "10 x 5 = 50\n",
      "10 x 6 = 60\n",
      "10 x 7 = 70\n",
      "10 x 8 = 80\n",
      "10 x 9 = 90\n",
      "10 x 10 = 100\n"
     ]
    }
   ],
   "source": [
    "#.7for \n",
    "x=1\n",
    "y=10\n",
    "for i in range(x,y+1):\n",
    "    for j in range(x,y+1):\n",
    "        print(f\"{i} x {j} = {i*j}\")"
   ]
  },
  {
   "cell_type": "code",
   "execution_count": 1,
   "id": "339afcb1",
   "metadata": {},
   "outputs": [
    {
     "name": "stdout",
     "output_type": "stream",
     "text": [
      "\n",
      "Enter Positive Non-Zero Number: 0\n",
      "\n",
      "Enter Correct Number Again.\n",
      "\n",
      "Enter Positive Non-Zero Number: -5\n",
      "\n",
      "Enter Correct Number Again.\n",
      "\n",
      "Enter Positive Non-Zero Number: 56\n",
      "56\n"
     ]
    }
   ],
   "source": [
    "#.8\n",
    "while True:\n",
    "    x=int(input(\"\\nEnter Positive Non-Zero Number: \"))\n",
    "    if x<=0:\n",
    "        print(\"\\nEnter Correct Number Again.\")\n",
    "        continue\n",
    "    else:\n",
    "        print(x)\n",
    "        break"
   ]
  },
  {
   "cell_type": "code",
   "execution_count": 4,
   "id": "72dd824c",
   "metadata": {},
   "outputs": [
    {
     "name": "stdout",
     "output_type": "stream",
     "text": [
      "\n",
      "Enter Number From 1-100: 450\n",
      "\n",
      "Enter Correct Number Again.\n",
      "\n",
      "Enter Number From 1-100: -9\n",
      "\n",
      "Enter Correct Number Again.\n",
      "\n",
      "Enter Number From 1-100: 0\n",
      "\n",
      "Enter Correct Number Again.\n",
      "\n",
      "Enter Number From 1-100: 56\n",
      "56\n"
     ]
    }
   ],
   "source": [
    "#.9\n",
    "while True:\n",
    "    x=int(input(\"\\nEnter Number From 1-100: \"))\n",
    "    if x<1 or x>100:\n",
    "        print(\"\\nEnter Correct Number Again.\")\n",
    "        continue\n",
    "    else:\n",
    "        print(x)\n",
    "        break"
   ]
  },
  {
   "cell_type": "markdown",
   "id": "60ee39c4",
   "metadata": {},
   "source": [
    "# "
   ]
  },
  {
   "cell_type": "markdown",
   "id": "7df24296",
   "metadata": {},
   "source": [
    "# PROGRAMMING EXERCISE"
   ]
  },
  {
   "cell_type": "code",
   "execution_count": 1,
   "id": "916baa64",
   "metadata": {},
   "outputs": [
    {
     "name": "stdout",
     "output_type": "stream",
     "text": [
      "Enter bug collected on day- 1 : \n",
      "5\n",
      "Enter bug collected on day- 2 : \n",
      "2\n",
      "Enter bug collected on day- 3 : \n",
      "4\n",
      "Enter bug collected on day- 4 : \n",
      "6\n",
      "Enter bug collected on day- 5 : \n",
      "8\n",
      "Total bugs:  25\n"
     ]
    }
   ],
   "source": [
    "#1.BUG COLLECTOR   (WHILE)\n",
    "count=1\n",
    "total=0\n",
    "while count<=5:\n",
    "    print(\"Enter bug collected on day-\",count,\": \")\n",
    "    bugs=int(input())\n",
    "    total+=bugs\n",
    "    count+=1\n",
    "    \n",
    "\n",
    "print(\"Total bugs: \",total)\n"
   ]
  },
  {
   "cell_type": "code",
   "execution_count": 5,
   "id": "40c4c1ba",
   "metadata": {},
   "outputs": [
    {
     "name": "stdout",
     "output_type": "stream",
     "text": [
      "Enter the bugs collected at days 1\n",
      "5\n",
      "Enter the bugs collected at days 2\n",
      "5\n",
      "Enter the bugs collected at days 3\n",
      "5\n",
      "Enter the bugs collected at days 4\n",
      "5\n",
      "Enter the bugs collected at days 5\n",
      "5\n",
      "Total bugs collected are  25\n"
     ]
    }
   ],
   "source": [
    "#1.BUG COLLECTOR   (FOR)\n",
    "\n",
    "days=5\n",
    "total=0\n",
    "for i in range(1,days+1):\n",
    "    print(\"Enter the bugs collected at days\",i)\n",
    "    bug=int(input())\n",
    "    total+=bug\n",
    "print(\"Total bugs collected are \",total)"
   ]
  },
  {
   "cell_type": "code",
   "execution_count": 3,
   "id": "2691c68e",
   "metadata": {},
   "outputs": [
    {
     "name": "stdout",
     "output_type": "stream",
     "text": [
      "42.0\n",
      "63.0\n",
      "84.0\n",
      "105.0\n",
      "126.0\n"
     ]
    }
   ],
   "source": [
    "#2.CALORIE BURNED  (FOR)\n",
    "calorie=4.2\n",
    "for x in range(10,30+1,5):\n",
    "    z=x*4.2\n",
    "    print(z)"
   ]
  },
  {
   "cell_type": "code",
   "execution_count": 7,
   "id": "c26f3ac5",
   "metadata": {},
   "outputs": [
    {
     "name": "stdout",
     "output_type": "stream",
     "text": [
      "Minute\tCalorie Burned\n",
      "------------------------\n",
      "10 \t   42.0\n",
      "15 \t   63.0\n",
      "20 \t   84.0\n",
      "25 \t   105.0\n",
      "30 \t   126.0\n"
     ]
    }
   ],
   "source": [
    "#2.CALORIE BURNED    (WHILE)\n",
    "count=10\n",
    "print(\"Minute\\tCalorie Burned\")\n",
    "print(\"------------------------\")\n",
    "while count<=30:\n",
    "    calorie=4.2\n",
    "    calorietotal=4.2*count\n",
    "    print(count,\"\\t  \",calorietotal)\n",
    "    count+=5\n",
    "    \n",
    "    "
   ]
  },
  {
   "cell_type": "markdown",
   "id": "f76dd595",
   "metadata": {},
   "source": [
    "# YAR GUL METHOD"
   ]
  },
  {
   "cell_type": "code",
   "execution_count": 2,
   "id": "dfa375af",
   "metadata": {},
   "outputs": [
    {
     "name": "stdout",
     "output_type": "stream",
     "text": [
      "Enter no of lap3\n",
      "Enter the time for 1 lap\n",
      "2\n",
      "Enter the time for 2 lap\n",
      "4\n",
      "Enter the time for 3 lap\n",
      "0\n",
      "6\n",
      "2.0\n",
      "Fastest lap 0\n",
      "Slowest lap 4\n"
     ]
    }
   ],
   "source": [
    "#3.LAP TIMES    (WHILE)\n",
    "total=0\n",
    "slowest=0\n",
    "fastest=0\n",
    "count=1\n",
    "lap=int(input(\"Enter no of lap\"))\n",
    "while count<=lap:\n",
    "    print(\"Enter the time for\",count,\"lap\")\n",
    "    time=int(input())\n",
    "    total+=time\n",
    "    if time>slowest:\n",
    "        slowest=time\n",
    "    if fastest==0:\n",
    "        fastest=time\n",
    "    else:\n",
    "        if time<fastest:\n",
    "            fastest=time\n",
    "            \n",
    "    count+=1\n",
    "  \n",
    "        \n",
    "        \n",
    "avg=total/lap\n",
    "print(total)\n",
    "print(avg)\n",
    "\n",
    "print(\"Fastest lap\",fastest)\n",
    "print(\"Slowest lap\",slowest)\n"
   ]
  },
  {
   "cell_type": "markdown",
   "id": "3bd565ba",
   "metadata": {},
   "source": [
    "# SIR METHOD  (DRY RUN IT)"
   ]
  },
  {
   "cell_type": "code",
   "execution_count": 1,
   "id": "f7d281e0",
   "metadata": {},
   "outputs": [
    {
     "name": "stdout",
     "output_type": "stream",
     "text": [
      "Enter the number of total laps5\n",
      "Enter time for  1\n",
      "10\n",
      "Enter time for  2\n",
      "20\n",
      "Enter time for  3\n",
      "30\n",
      "Enter time for  4\n",
      "40\n",
      "Enter time for  5\n",
      "50\n",
      "average:  50.0\n",
      "Fastest lap:  10\n",
      "Slowest lap:  50\n"
     ]
    }
   ],
   "source": [
    "#3. LAP TIME  (WHILE)\n",
    "slowest=fastest=total=0\n",
    "count=1\n",
    "lap=int(input(\"Enter the number of total laps\"))\n",
    "while count<=lap:\n",
    "    print(\"Enter time for \",count)\n",
    "    time=int(input())\n",
    "    if count==1:\n",
    "        fastest=time\n",
    "        slowest=time\n",
    "    if fastest>time:\n",
    "        fastest=time\n",
    "    if slowest<time:\n",
    "        slowest=time\n",
    "    count+=1\n",
    "    total+=time\n",
    "    \n",
    "avg=total/3\n",
    "print(\"average: \",avg)\n",
    "print(\"Fastest lap: \",fastest)\n",
    "print(\"Slowest lap: \",slowest)"
   ]
  },
  {
   "cell_type": "code",
   "execution_count": 2,
   "id": "bb3c9a99",
   "metadata": {},
   "outputs": [
    {
     "name": "stdout",
     "output_type": "stream",
     "text": [
      "enter no of laps4\n",
      "Enter time for  1\n",
      "10\n",
      "Enter time for  2\n",
      "20\n",
      "Enter time for  3\n",
      "30\n",
      "Enter time for  4\n",
      "30\n",
      "average:  30.0\n",
      "Fastest lap:  10\n",
      "Slowest lap:  30\n"
     ]
    }
   ],
   "source": [
    "#3. LAP TIME  (FOR)\n",
    "\n",
    "slowest=fastest=total=0\n",
    "lap=int(input(\"enter no of laps\"))\n",
    "for i in range(1,lap+1):\n",
    "    print(\"Enter time for \",i)\n",
    "    time=int(input())\n",
    "    if i==1:\n",
    "        fastest=time\n",
    "        slowest=time\n",
    "    if fastest>time:\n",
    "        fastest=time\n",
    "    if slowest<time:\n",
    "        slowest=time\n",
    "    total+=time\n",
    "    \n",
    "avg=total/3\n",
    "print(\"average: \",avg)\n",
    "print(\"Fastest lap: \",fastest)\n",
    "print(\"Slowest lap: \",slowest)\n",
    "    "
   ]
  },
  {
   "cell_type": "code",
   "execution_count": 3,
   "id": "69a33967",
   "metadata": {},
   "outputs": [
    {
     "name": "stdout",
     "output_type": "stream",
     "text": [
      "enter the speed in mph50\n",
      "how much hour it travelled4\n",
      "\n",
      "Hour\tDistance Travelled\n",
      "-------------------------\n",
      "1 \t 50\n",
      "2 \t 100\n",
      "3 \t 150\n",
      "4 \t 200\n"
     ]
    }
   ],
   "source": [
    "#4.DISTANCE TRAVELLED   (FOR)\n",
    "\n",
    "\n",
    "time=int(input(\"For how much hours it travelled: \"))\n",
    "speed=int(input(\"Enter the speed in mph: \"))\n",
    "# distance=speed*time\n",
    "print(\"\\nHour\\tDistance Travelled\")\n",
    "print(\"-------------------------\")\n",
    "for x in range(1,time+1,1):    \n",
    "    print(x,\"\\t\",x*speed)\n",
    "    "
   ]
  },
  {
   "cell_type": "code",
   "execution_count": 4,
   "id": "03745870",
   "metadata": {},
   "outputs": [
    {
     "name": "stdout",
     "output_type": "stream",
     "text": [
      "how much hour it travelled4\n",
      "enter the speed in mph50\n",
      "\n",
      "Hour\tDistance Travelled\n",
      "-------------------------\n",
      "1 \t  50\n",
      "2 \t  100\n",
      "3 \t  150\n",
      "4 \t  200\n"
     ]
    }
   ],
   "source": [
    "#4.DISTANCE TRAVELLED  (WHILE)\n",
    "\n",
    "time=int(input(\"For how much hour it travelled\"))\n",
    "speed=int(input(\"Enter the speed in mph\"))\n",
    "count=1\n",
    "print(\"\\nHour\\tDistance Travelled\")\n",
    "print(\"-------------------------\")\n",
    "while count<=time:\n",
    "    distance=speed*count\n",
    "    print(count,\"\\t \",distance)\n",
    "    count+=1"
   ]
  },
  {
   "cell_type": "code",
   "execution_count": 19,
   "id": "c6cd48cc",
   "metadata": {},
   "outputs": [],
   "source": [
    "#5.AVERAGE RAINFALL (WHILE)\n",
    "\n",
    "count=1\n",
    "#Q1=Q2=Q3=Q4=0\n",
    "#Q1,Q2,Q3,Q4=0,0,0,0\n",
    "total1=0\n",
    "total2=0\n",
    "total3=0\n",
    "total4=0\n",
    "while count<=12:\n",
    "    print(\"Enter\",count,\"months rainfall\")\n",
    "    rainfall=float(input())\n",
    "    if count<=3:\n",
    "        total1+=rainfall\n",
    "    elif count<=6:\n",
    "        total2+=rainfall\n",
    "    elif count<=9:\n",
    "        total3+=rainfall\n",
    "    else:\n",
    "        total4+=rainfall\n",
    "    \n",
    "    count+=1\n",
    "    \n",
    "    \n",
    "avg1=total1/3\n",
    "avg2=total2/3\n",
    "avg3=total3/3\n",
    "avg4=total4/3\n",
    "    \n",
    "print(\"1st quarter rainfall average: \",avg1)\n",
    "print(\"2nd quarter rainfall average: \",avg2)\n",
    "print(\"3rd quarter rainfall average: \",avg3)\n",
    "print(\"4th quarter rainfall average: \",avg4)\n",
    "\n",
    "print(\"--------------------------------------\")\n",
    "\n",
    "       \n",
    "if avg1<avg2 and avg1<avg3 and avg1<avg4:\n",
    "     print(\"1st quarter is lowest.\")\n",
    "elif avg2<avg1 and avg2<avg3 and avg2<avg4:\n",
    "     print(\"2nd quarter is lowest.\")\n",
    "elif avg3<avg1 and avg3<avg2 and avg3<avg4:\n",
    "     print(\"3rd quarter is lowest.\")\n",
    "elif avg4<avg1 and avg4<avg2 and avg4<avg3:\n",
    "     print(\"4th quarter is lowest.\")\n",
    "        \n",
    "if avg1>avg2 and avg1>avg3 and avg1>avg4 :\n",
    "     print(\"1st quarter is greatest.\")\n",
    "elif avg2>avg1 and avg2>avg3 and avg2>avg4:\n",
    "     print(\"2nd quarter is greatest.\")\n",
    "elif avg3>avg1 and avg3>avg2 and avg3>avg4:\n",
    "     print(\"3rd quarter is greatest.\")\n",
    "elif avg4>avg1 and avg4>avg2 and avg4>avg3:\n",
    "     print(\"4th quarter is greatest.\")\n",
    "\n",
    "#THROUGH FUNCTON\n",
    "\n",
    "# def islesser (a,b,c,d):\n",
    "#     if a < b and a < c and a<d:\n",
    "#         print(\"first quarter is lowest\")\n",
    "#     elif b < a and b < c and b<d:\n",
    "#         print(\"2nd quarter is lowest\")\n",
    "#     elif c < a and c < b and c<d:\n",
    "#         print(\"3rd quarter is lowest\")\n",
    "#     elif d < b and d < c and d<a:\n",
    "#         print(\"forth quarter is lowest\")\n",
    "    \n",
    "# def isgreater (a,b,c,d):\n",
    "#     if a > b and a>c and a>d:\n",
    "#         print(\"first quarter is greatest\")\n",
    "#     elif b > a and b > c and b>d:  \n",
    "#         print(\"second quarter is greatest\")\n",
    "#     elif c > a and c > b and c>d:\n",
    "#         print(\"3rd quarter is greatest\")\n",
    "#     elif d > b and d > c and d>a:\n",
    "#         print(\"forth quarter is greatest\")\n",
    "\n",
    "\n",
    "# a=avg1\n",
    "# b=avg2\n",
    "# c=avg3\n",
    "# d=avg4\n",
    "\n",
    "# islesser(a,b,c,d)\n",
    "# isgreater(a,b,c,d)\n",
    "\n",
    "\n",
    "# a=40\n",
    "# b=30\n",
    "# c=100\n",
    "# d=5\n",
    "# islesser(a,b,c,d)\n",
    "# isgreater(a,b,c,d)\n"
   ]
  },
  {
   "cell_type": "code",
   "execution_count": 5,
   "id": "10ff1cd5",
   "metadata": {},
   "outputs": [
    {
     "name": "stdout",
     "output_type": "stream",
     "text": [
      "Enter 1 months rainfall\n",
      "20\n",
      "Enter 2 months rainfall\n",
      "20\n",
      "Enter 3 months rainfall\n",
      "20\n",
      "Enter 4 months rainfall\n",
      "30\n",
      "Enter 5 months rainfall\n",
      "30\n",
      "Enter 6 months rainfall\n",
      "30\n",
      "Enter 7 months rainfall\n",
      "10\n",
      "Enter 8 months rainfall\n",
      "10\n",
      "Enter 9 months rainfall\n",
      "10\n",
      "Enter 10 months rainfall\n",
      "50\n",
      "Enter 11 months rainfall\n",
      "50\n",
      "Enter 12 months rainfall\n",
      "50\n",
      "1st quarter rainfall average:  20.0\n",
      "2nd quarter rainfall average:  30.0\n",
      "3rd quarter rainfall average:  10.0\n",
      "4th quarter rainfall average:  50.0\n",
      "--------------------------------------\n",
      "3rd quarter is lowest.\n",
      "4th quarter is greatest.\n"
     ]
    }
   ],
   "source": [
    "#5.AVERAGE RAINFALL  (FOR)\n",
    "\n",
    "#Q1=Q2=Q3=Q4=0\n",
    "#Q1,Q2,Q3,Q4=0,0,0,0\n",
    "total1=total2=total3=total4=0\n",
    "for x in range(1,12+1):\n",
    "    print(\"Enter\",x,\"months rainfall\")\n",
    "    rainfall=float(input())\n",
    "    if x<=3:\n",
    "        total1+=rainfall\n",
    "    elif x<=6:\n",
    "        total2+=rainfall\n",
    "    elif x<=9:\n",
    "        total3+=rainfall\n",
    "    else:\n",
    "        total4+=rainfall\n",
    "    \n",
    "\n",
    "avg1=total1/3\n",
    "avg2=total2/3\n",
    "avg3=total3/3\n",
    "avg4=total4/3\n",
    "    \n",
    "print(\"1st quarter rainfall average: \",avg1)\n",
    "print(\"2nd quarter rainfall average: \",avg2)\n",
    "print(\"3rd quarter rainfall average: \",avg3)\n",
    "print(\"4th quarter rainfall average: \",avg4)\n",
    "\n",
    "print(\"--------------------------------------\")\n",
    "\n",
    "       \n",
    "if avg1<avg2 and avg1<avg3 and avg1<avg4:\n",
    "     print(\"1st quarter is lowest.\")\n",
    "elif avg2<avg1 and avg2<avg3 and avg2<avg4:\n",
    "     print(\"2nd quarter is lowest.\")\n",
    "elif avg3<avg1 and avg3<avg2 and avg3<avg4:\n",
    "     print(\"3rd quarter is lowest.\")\n",
    "elif avg4<avg1 and avg4<avg2 and avg4<avg3:\n",
    "     print(\"4th quarter is lowest.\")\n",
    "        \n",
    "if avg1>avg2 and avg1>avg3 and avg1>avg4 :\n",
    "     print(\"1st quarter is greatest.\")\n",
    "elif avg2>avg1 and avg2>avg3 and avg2>avg4:\n",
    "     print(\"2nd quarter is greatest.\")\n",
    "elif avg3>avg1 and avg3>avg2 and avg3>avg4:\n",
    "     print(\"3rd quarter is greatest.\")\n",
    "elif avg4>avg1 and avg4>avg2 and avg4>avg3:\n",
    "     print(\"4th quarter is greatest.\")"
   ]
  },
  {
   "cell_type": "code",
   "execution_count": 20,
   "id": "b804f23e",
   "metadata": {},
   "outputs": [
    {
     "name": "stdout",
     "output_type": "stream",
     "text": [
      "Miles\t KM\n",
      "------------\n",
      "10 \t 16.09\n",
      "20 \t 32.18\n",
      "30 \t 48.27\n",
      "40 \t 64.36\n",
      "50 \t 80.45\n",
      "60 \t 96.54\n",
      "70 \t 112.63\n",
      "80 \t 128.72\n"
     ]
    }
   ],
   "source": [
    "#6. MILES TO KM TABLE  (FOR)\n",
    "\n",
    "print(\"Miles\\t KM\")\n",
    "print(\"------------\")\n",
    "total=0\n",
    "for x in range(10,80+1,10):\n",
    "    mile=1.609*10\n",
    "    total+=mile\n",
    "    print(x,\"\\t\",format(total,'.2f')) #TOOK .2F FOR RONDING OF TO 2 DIGITS\n",
    "    \n",
    "\n"
   ]
  },
  {
   "cell_type": "code",
   "execution_count": 23,
   "id": "ea82e83f",
   "metadata": {},
   "outputs": [
    {
     "name": "stdout",
     "output_type": "stream",
     "text": [
      "Miles\t KM\n",
      "------------\n",
      "10 \t 16.09\n",
      "20 \t 32.18\n",
      "30 \t 48.27\n",
      "40 \t 64.36\n",
      "50 \t 80.45\n",
      "60 \t 96.54\n",
      "70 \t 112.63\n",
      "80 \t 128.72\n"
     ]
    }
   ],
   "source": [
    "#6. MILES TO KM TABLE  (WHILE)\n",
    "\n",
    "count=10\n",
    "print(\"Miles\\t KM\")\n",
    "print(\"------------\")\n",
    "while count<=80:\n",
    "    mile=1.609*count\n",
    "    print(count,\"\\t\",format(mile,'.2f'))\n",
    "    count+=10"
   ]
  },
  {
   "cell_type": "markdown",
   "id": "80c40520",
   "metadata": {},
   "source": [
    "# DRY RUN IT "
   ]
  },
  {
   "cell_type": "code",
   "execution_count": 9,
   "id": "5175738f",
   "metadata": {},
   "outputs": [
    {
     "name": "stdout",
     "output_type": "stream",
     "text": [
      "enter no of days5\n",
      "Pay for day 1 is: 1\n",
      "Pay for day 2 is: 2\n",
      "Pay for day 3 is: 4\n",
      "Pay for day 4 is: 8\n",
      "Pay for day 5 is: 16\n",
      "31\n",
      "Total Dollar 0.31\n"
     ]
    }
   ],
   "source": [
    "#7.PENNIES FOR PAY (WHILE)  (YARGUL)  \n",
    "\n",
    "count=1\n",
    "day=int(input(\"enter no of days\"))\n",
    "total=0\n",
    "while count<=day:\n",
    "    if count==1:\n",
    "        total+=1\n",
    "        print(\"Pay for day\",count,\"is:\",total)\n",
    "    else:\n",
    "        total*=2\n",
    "        print(\"Pay for day\",count,\"is:\",total)\n",
    "    count+=1\n",
    "total+=total-1\n",
    "print(total)\n",
    "dollar=total/100\n",
    "print(\"Total Dollar\",dollar)"
   ]
  },
  {
   "cell_type": "code",
   "execution_count": null,
   "id": "bb3287de",
   "metadata": {},
   "outputs": [],
   "source": []
  },
  {
   "cell_type": "code",
   "execution_count": 8,
   "id": "8b5d1063",
   "metadata": {},
   "outputs": [
    {
     "name": "stdout",
     "output_type": "stream",
     "text": [
      "Enter the no of days: 5\n",
      "Days\tAmount\n",
      "-------------\n",
      "Pay for day 1 is: 1\n",
      "Pay for day 2 is: 2\n",
      "Pay for day 3 is: 4\n",
      "Pay for day 4 is: 8\n",
      "Pay for day 5 is: 16\n",
      "31\n",
      "Total Dollar 0.31\n"
     ]
    }
   ],
   "source": [
    "#7.PENNIES FOR PAY     (FOR)\n",
    "\n",
    "days=int(input(\"Enter the no of days: \"))\n",
    "total=0\n",
    "print(\"Days\\tAmount\")\n",
    "print(\"-------------\")\n",
    "for x in range(1,days+1,1):\n",
    "    if x==1:\n",
    "        total+=1\n",
    "        print(\"Pay for day\",x,\"is:\",total)\n",
    "    else:\n",
    "        total*=2\n",
    "        print(\"Pay for day\",x,\"is:\",total)\n",
    "#     pay=x*x\n",
    "#     dollar=pay/100\n",
    "#     print(x,\"\\t\",dollar)\n",
    "total+=total-1\n",
    "print(total)\n",
    "dollar=total/100\n",
    "print(\"Total Dollar\",dollar)"
   ]
  },
  {
   "cell_type": "markdown",
   "id": "46e41d91",
   "metadata": {},
   "source": [
    "# CHECK IT"
   ]
  },
  {
   "cell_type": "code",
   "execution_count": 10,
   "id": "c4f0b119",
   "metadata": {},
   "outputs": [
    {
     "name": "stdout",
     "output_type": "stream",
     "text": [
      "Enter a word or press space to end: dgfhj\n",
      "Enter a word or press space to end: fsdre\n",
      "Enter a word or press space to end: asdf\n",
      "Enter a word or press space to end:  \n",
      "The total len of the word entered is 14.\n",
      "the average length of the words entered is 4.\n"
     ]
    }
   ],
   "source": [
    "#8.Average word length\n",
    "\n",
    "count='a'\n",
    "total=0\n",
    "iteration=0\n",
    "# word=input(\"enter a word\")\n",
    "while count!=' ':\n",
    "    word=input(\"Enter a word or press space to end: \")\n",
    "    if word==' ':\n",
    "        break\n",
    "    wordlen=len(word)\n",
    "    total+=wordlen\n",
    "    iteration+=1\n",
    "    \n",
    "    \n",
    " \n",
    "    \n",
    "print(f\"The total len of the word entered is {total}.\")\n",
    "avg=round(total/iteration)\n",
    "# avg=total//iteration\n",
    "print(f\"the average length of the words entered is {avg}.\")\n",
    "\n",
    "    \n",
    "    "
   ]
  },
  {
   "cell_type": "code",
   "execution_count": null,
   "id": "ca7b48ca",
   "metadata": {},
   "outputs": [],
   "source": []
  },
  {
   "cell_type": "code",
   "execution_count": 1,
   "id": "f03c1a36",
   "metadata": {},
   "outputs": [
    {
     "name": "stdout",
     "output_type": "stream",
     "text": [
      "Enter a word or press Enter to end: abc\n",
      "Enter a word or press Enter to end: def\n",
      "Enter a word or press Enter to end: ghi\n",
      "Enter a word or press Enter to end: jkl\n",
      "Enter a word or press Enter to end: mno\n",
      "Enter a word or press Enter to end: \n",
      "The average length of the words entered is 3.\n"
     ]
    }
   ],
   "source": [
    "#8.Average word length  (BLACKBOX)\n",
    "\n",
    "def calculate_average_length():\n",
    "    total_length = 0\n",
    "    word_count = 0\n",
    "\n",
    "    while True:\n",
    "        word = input(\"Enter a word or press Enter to end: \")\n",
    "        if word == \"\":\n",
    "            break\n",
    "        total_length += len(word)\n",
    "        word_count += 1\n",
    "\n",
    "    if word_count == 0:\n",
    "        return 0\n",
    "    else:\n",
    "        return round(total_length / word_count)\n",
    "\n",
    "average_length = calculate_average_length()\n",
    "print(f\"The average length of the words entered is {average_length}.\")"
   ]
  },
  {
   "cell_type": "code",
   "execution_count": null,
   "id": "e8e00556",
   "metadata": {},
   "outputs": [],
   "source": []
  },
  {
   "cell_type": "code",
   "execution_count": 10,
   "id": "f5eaf372",
   "metadata": {},
   "outputs": [
    {
     "name": "stdout",
     "output_type": "stream",
     "text": [
      "1 \t 1.6\n",
      "2 \t 3.2\n",
      "3 \t 4.8\n",
      "4 \t 6.4\n",
      "5 \t 8.0\n",
      "6 \t 9.6\n",
      "7 \t 11.2\n",
      "8 \t 12.8\n",
      "9 \t 14.4\n",
      "10 \t 16.0\n",
      "11 \t 17.6\n",
      "12 \t 19.2\n",
      "13 \t 20.8\n",
      "14 \t 22.4\n",
      "15 \t 24.0\n",
      "16 \t 25.6\n",
      "17 \t 27.2\n",
      "18 \t 28.8\n",
      "19 \t 30.4\n",
      "20 \t 32.0\n",
      "21 \t 33.6\n",
      "22 \t 35.2\n",
      "23 \t 36.8\n",
      "24 \t 38.4\n",
      "25 \t 40.0\n"
     ]
    }
   ],
   "source": [
    "#9.OCEAN LEVELS   (FOR)\n",
    "\n",
    "year=25\n",
    "for x in range(1,year+1):\n",
    "    level=x*1.6\n",
    "    print(x,\"\\t\",format(level,'.1f'))\n",
    "    "
   ]
  },
  {
   "cell_type": "code",
   "execution_count": 10,
   "id": "9fceddbb",
   "metadata": {},
   "outputs": [
    {
     "name": "stdout",
     "output_type": "stream",
     "text": [
      "1 \t 1.6\n",
      "2 \t 3.2\n",
      "3 \t 4.8\n",
      "4 \t 6.4\n",
      "5 \t 8.0\n",
      "6 \t 9.6\n",
      "7 \t 11.2\n",
      "8 \t 12.8\n",
      "9 \t 14.4\n",
      "10 \t 16.0\n",
      "11 \t 17.6\n",
      "12 \t 19.2\n",
      "13 \t 20.8\n",
      "14 \t 22.4\n",
      "15 \t 24.0\n",
      "16 \t 25.6\n",
      "17 \t 27.2\n",
      "18 \t 28.8\n",
      "19 \t 30.4\n",
      "20 \t 32.0\n",
      "21 \t 33.6\n",
      "22 \t 35.2\n",
      "23 \t 36.8\n",
      "24 \t 38.4\n",
      "25 \t 40.0\n"
     ]
    }
   ],
   "source": [
    "#9.OCEAN LEVELS     (WHILE)\n",
    "\n",
    "count=0\n",
    "time=25\n",
    "total=0\n",
    "while count<time:\n",
    "    level=1.6\n",
    "    total+=level\n",
    "    count+=1\n",
    "    print(count,'\\t',format(total,'.1f'))\n"
   ]
  },
  {
   "cell_type": "code",
   "execution_count": 9,
   "id": "7b23d815",
   "metadata": {},
   "outputs": [
    {
     "name": "stdout",
     "output_type": "stream",
     "text": [
      "Year\t   Fees\n",
      "-----------------\n",
      "1 \t 16480.0\n",
      "2 \t 16960.0\n",
      "3 \t 17440.0\n",
      "4 \t 17920.0\n",
      "5 \t 18400.0\n"
     ]
    }
   ],
   "source": [
    "#10.TUITION INCREASES   (FOR)\n",
    "\n",
    "total=0\n",
    "print(\"Year\\t   Fees\")\n",
    "print(\"-----------------\")\n",
    "for x in range(1,5+1,1):\n",
    "    fee=16000*0.03*x\n",
    "    fee1=16000+fee\n",
    "#     total+=fee1\n",
    "    \n",
    "    print(x,\"\\t\",fee1)\n",
    "\n",
    "    "
   ]
  },
  {
   "cell_type": "code",
   "execution_count": 15,
   "id": "4fc72ec2",
   "metadata": {},
   "outputs": [
    {
     "name": "stdout",
     "output_type": "stream",
     "text": [
      "Year\tFees\n",
      "------------i-------\n",
      "1 \t 16480.0\n",
      "2 \t 16960.0\n",
      "3 \t 17440.0\n",
      "4 \t 17920.0\n",
      "5 \t 18400.0\n"
     ]
    }
   ],
   "source": [
    "#10.TUITION INCREASES   (WHILE)\n",
    "\n",
    "count=1\n",
    "total=0\n",
    "semester=10\n",
    "year=5\n",
    "print(\"Year\\tFees\")\n",
    "print(\"------------i-------\")\n",
    "while count<=year:\n",
    "        fee=16000*0.03*count\n",
    "        fee1=16000+fee\n",
    "            \n",
    "        print(count,\"\\t\",fee1)\n",
    "        count+=1\n"
   ]
  },
  {
   "cell_type": "code",
   "execution_count": null,
   "id": "e0ec1ad0",
   "metadata": {},
   "outputs": [],
   "source": []
  },
  {
   "cell_type": "code",
   "execution_count": 1,
   "id": "08e454bd",
   "metadata": {},
   "outputs": [
    {
     "name": "stdout",
     "output_type": "stream",
     "text": [
      "Enter hour of sleep of days 1 :\n",
      "8\n",
      "Enter hour of sleep of days 2 :\n",
      "9\n",
      "Enter hour of sleep of days 3 :\n",
      "6\n",
      "Enter hour of sleep of days 4 :\n",
      "5\n",
      "Enter hour of sleep of days 5 :\n",
      "7\n",
      "Enter hour of sleep of days 6 :\n",
      "8\n",
      "Enter hour of sleep of days 7 :\n",
      "6\n",
      "\n",
      "Your desired sleep is: 56 hours\n",
      "\n",
      "Your actual sleep is: 49 hours\n",
      "\n",
      "Your sleep debt is: - 7 hours\n"
     ]
    }
   ],
   "source": [
    "#11.SLEEP DEBT \n",
    "\n",
    "total=0\n",
    "count=1\n",
    "while count<=7:\n",
    "    print(\"Enter hour of sleep of days\",count,\":\")\n",
    "    sleep=int(input())\n",
    "    total+=sleep\n",
    "    count+=1\n",
    "    \n",
    "desireSleep=8*7\n",
    "print(\"\\nYour desired sleep is:\",desireSleep,\"hours\")\n",
    "print(\"\\nYour actual sleep is:\",total,\"hours\")\n",
    "if total<desireSleep:\n",
    "    print(\"\\nYour sleep debt is: -\",desireSleep-total,\"hours\")\n",
    "else:\n",
    "    print(\"\\nJealousy\")\n",
    "    "
   ]
  },
  {
   "cell_type": "code",
   "execution_count": 8,
   "id": "6fd9fa72",
   "metadata": {},
   "outputs": [
    {
     "name": "stdout",
     "output_type": "stream",
     "text": [
      "Enter hour of sleep of days 1 :\n",
      "8\n",
      "Enter hour of sleep of days 2 :\n",
      "9\n",
      "Enter hour of sleep of days 3 :\n",
      "6\n",
      "Enter hour of sleep of days 4 :\n",
      "5\n",
      "Enter hour of sleep of days 5 :\n",
      "7\n",
      "Enter hour of sleep of days 6 :\n",
      "8\n",
      "Enter hour of sleep of days 7 :\n",
      "6\n",
      "\n",
      "Your desired sleep is: 56 hours\n",
      "\n",
      "Your actual sleep is: 49 hours\n",
      "\n",
      "Your sleep debt is: - 7 hours\n"
     ]
    }
   ],
   "source": [
    "#11.SLEEP DEBT    (FOR)\n",
    "\n",
    "total=0\n",
    "for x in range(1,7+1):\n",
    "    print(\"Enter hour of sleep of days\",x,\":\")\n",
    "    sleep=int(input())\n",
    "    total+=sleep\n",
    "    \n",
    "desireSleep=8*7\n",
    "print(\"\\nYour desired sleep is:\",desireSleep,\"hours\")\n",
    "print(\"\\nYour actual sleep is:\",total,\"hours\")\n",
    "if total<desireSleep:\n",
    "    print(\"\\nYour sleep debt is: -\",desireSleep-total,\"hours\")\n",
    "else:\n",
    "    print(\"\\nJealousy\")\n",
    "    "
   ]
  },
  {
   "cell_type": "code",
   "execution_count": null,
   "id": "914fbdaa",
   "metadata": {},
   "outputs": [],
   "source": []
  },
  {
   "cell_type": "code",
   "execution_count": 11,
   "id": "5186fcb3",
   "metadata": {},
   "outputs": [
    {
     "name": "stdout",
     "output_type": "stream",
     "text": [
      "enter the number7\n",
      "7 x 6 x 5 x 4 x 3 x 2 x 1 x \n",
      "= 5040\n"
     ]
    }
   ],
   "source": [
    "#12.FACTORIAL  (WHILE)\n",
    "total=1\n",
    "num=int(input(\"enter the number\"))\n",
    "while num>=1:\n",
    "    total*=num\n",
    "    print(num,\"x \",end='')\n",
    "    num-=1\n",
    "print(\"\\n=\",total)"
   ]
  },
  {
   "cell_type": "code",
   "execution_count": 25,
   "id": "8f03dac7",
   "metadata": {},
   "outputs": [
    {
     "name": "stdout",
     "output_type": "stream",
     "text": [
      "enter the number7\n",
      "1 x 2 x 3 x 4 x 5 x 6 x 7 x \n",
      "7! = 5040\n"
     ]
    }
   ],
   "source": [
    "#12.FACTORIAL   (FOR)\n",
    "total=1\n",
    "num=int(input(\"enter the number\"))\n",
    "for x in range(1,num+1):\n",
    "    total=total*x\n",
    "#     print(total)\n",
    "    print(x,end=' x ')\n",
    "print(\"\\n7! =\",total)"
   ]
  },
  {
   "cell_type": "code",
   "execution_count": 42,
   "id": "bb9ace93",
   "metadata": {},
   "outputs": [
    {
     "name": "stdout",
     "output_type": "stream",
     "text": [
      "Number of organisms: 2\n",
      "Enter growth average per day: 30\n",
      "Enter the number of days: 5\n",
      "1 \t 2\n",
      "2 \t 62.0\n",
      "3 \t 3784.0\n",
      "4 \t 344346.0\n",
      "5 \t 41665868.0\n"
     ]
    }
   ],
   "source": [
    "#13.POPULATION\n",
    "\n",
    "no=int(input(\"Number of organisms: \"))\n",
    "avg=float(input(\"Enter growth average per day: \"))\n",
    "day=int(input(\"Enter the number of days: \"))\n",
    "count=1\n",
    "total=0\n",
    "while count<=day:\n",
    "    if count==1:\n",
    "        pop=no\n",
    "        print(count,\"\\t\",pop)\n",
    "    elif count==2:       \n",
    "        pop1=((count-1)*avg*no)+no  \n",
    "        print(count,\"\\t\",pop1)\n",
    "        total+=pop1\n",
    "    else:\n",
    "        pop1=((count-1)*avg*total)+no\n",
    "        total+=pop1\n",
    "        print(count,\"\\t\",total)\n",
    "    count+=1\n",
    "        \n",
    "    \n",
    "\n",
    "\n"
   ]
  },
  {
   "cell_type": "code",
   "execution_count": 49,
   "id": "4b18c150",
   "metadata": {},
   "outputs": [
    {
     "name": "stdout",
     "output_type": "stream",
     "text": [
      "Number of organisms: 5\n",
      "Enter growth average per day: 40\n",
      "Enter the number of days: 5\n",
      "1 \t 5\n",
      "2 \t 7.00\n",
      "3 \t 9.80\n",
      "4 \t 13.72\n",
      "5 \t 19.21\n"
     ]
    }
   ],
   "source": [
    "#13.POPULATION\n",
    "\n",
    "no=int(input(\"Number of organisms: \"))\n",
    "avg=float(input(\"Enter growth average per day: \"))\n",
    "day=int(input(\"Enter the number of days: \"))\n",
    "count=1\n",
    "total=0\n",
    "while count<=day:\n",
    "    if count==1:\n",
    "        pop=no\n",
    "        print(count,\"\\t\",pop)\n",
    "    elif count>=2:       \n",
    "        pop1=(no*(avg/100)+no)\n",
    "        print(count,\"\\t\",format(pop1,'.2f'))\n",
    "        no=pop1\n",
    "    count+=1\n",
    "        \n",
    "    \n",
    "\n",
    "\n"
   ]
  },
  {
   "cell_type": "code",
   "execution_count": 31,
   "id": "56ae49ec",
   "metadata": {},
   "outputs": [
    {
     "name": "stdout",
     "output_type": "stream",
     "text": [
      "********\n",
      "*******\n",
      "******\n",
      "*****\n",
      "****\n",
      "***\n",
      "**\n",
      "*\n"
     ]
    }
   ],
   "source": [
    "#14.PATTERNS \n",
    "\n",
    "row=8\n",
    "col=8\n",
    "for i in range(row):\n",
    "    for x in range(col-i):\n",
    "        print('*',end='')\n",
    "    print()"
   ]
  },
  {
   "cell_type": "code",
   "execution_count": 3,
   "id": "04b711d9",
   "metadata": {},
   "outputs": [
    {
     "name": "stdout",
     "output_type": "stream",
     "text": [
      "*\n",
      "**\n",
      "***\n",
      "****\n",
      "*****\n",
      "******\n",
      "*******\n",
      "********\n"
     ]
    }
   ],
   "source": [
    "height=8\n",
    "for r in range(height):\n",
    "    for c in range(r+1):\n",
    "        print('*',end='')\n",
    "    print()"
   ]
  },
  {
   "cell_type": "code",
   "execution_count": 5,
   "id": "8985f544",
   "metadata": {},
   "outputs": [
    {
     "name": "stdout",
     "output_type": "stream",
     "text": [
      "##\n",
      "#  #\n",
      "#   #\n",
      "#    #\n",
      "#     #\n",
      "#      #\n",
      "#       #\n"
     ]
    }
   ],
   "source": [
    "#15.PATTERN \n",
    "\n",
    "\n",
    "for i in range(6):\n",
    "    if i==0:\n",
    "        print(\"##\")\n",
    "    z=\" \"\n",
    "    print('#',z*i,\"#\")\n"
   ]
  },
  {
   "cell_type": "code",
   "execution_count": null,
   "id": "38179ed9",
   "metadata": {},
   "outputs": [],
   "source": []
  }
 ],
 "metadata": {
  "kernelspec": {
   "display_name": "Python 3 (ipykernel)",
   "language": "python",
   "name": "python3"
  },
  "language_info": {
   "codemirror_mode": {
    "name": "ipython",
    "version": 3
   },
   "file_extension": ".py",
   "mimetype": "text/x-python",
   "name": "python",
   "nbconvert_exporter": "python",
   "pygments_lexer": "ipython3",
   "version": "3.11.5"
  }
 },
 "nbformat": 4,
 "nbformat_minor": 5
}
