{
 "cells": [
  {
   "cell_type": "code",
   "execution_count": null,
   "id": "8fcbab93",
   "metadata": {},
   "outputs": [],
   "source": [
    "x=eval(input())     #PLUS ALSO INSERT [ ] WITH PUTTING VALUES\n",
    "print(x)\n"
   ]
  },
  {
   "cell_type": "code",
   "execution_count": 1,
   "id": "d9ed432e",
   "metadata": {},
   "outputs": [
    {
     "name": "stdout",
     "output_type": "stream",
     "text": [
      "1\n",
      "50\n"
     ]
    }
   ],
   "source": [
    "smallest=0\n",
    "greatest=0\n",
    "value=0\n",
    "my_list = [5, 4, 1, 2, 50, 40, 30]\n",
    "for index,x in enumerate(my_list):\n",
    "    if index==1:\n",
    "        smallest=x\n",
    "        greatest=x\n",
    "    if x>greatest:\n",
    "        greatest=(x)\n",
    "    if x<smallest:\n",
    "        smallest=x\n",
    "print(smallest)\n",
    "print(greatest)\n",
    "        "
   ]
  },
  {
   "cell_type": "code",
   "execution_count": 1,
   "id": "672735fc",
   "metadata": {},
   "outputs": [
    {
     "name": "stdout",
     "output_type": "stream",
     "text": [
      "Enter the number of throws (positive integer): 3\n",
      "Sorted list of random numbers between 1 and 6: [2, 2, 5]\n"
     ]
    }
   ],
   "source": [
    "import random\n",
    "\n",
    "def roll(number_of_throws):\n",
    "    return sorted([random.randint(1, 6) for _ in range(number_of_throws)])\n",
    "\n",
    "def main():\n",
    "    while True:\n",
    "        try:\n",
    "            num_throws = int(input(\"Enter the number of throws (positive integer): \"))\n",
    "            if num_throws <= 0:\n",
    "                raise ValueError(\"Please enter a positive integer.\")\n",
    "            break\n",
    "        except ValueError as ve:\n",
    "            print(ve)\n",
    "    \n",
    "    result = roll(num_throws)\n",
    "    print(\"Sorted list of random numbers between 1 and 6:\", result)\n",
    "\n",
    "if __name__ == \"__main__\":\n",
    "    main()\n"
   ]
  },
  {
   "cell_type": "code",
   "execution_count": null,
   "id": "4c607df3",
   "metadata": {},
   "outputs": [],
   "source": []
  },
  {
   "cell_type": "code",
   "execution_count": null,
   "id": "ab5cea5b",
   "metadata": {},
   "outputs": [],
   "source": []
  },
  {
   "cell_type": "code",
   "execution_count": null,
   "id": "3f87a554",
   "metadata": {},
   "outputs": [],
   "source": []
  },
  {
   "cell_type": "code",
   "execution_count": null,
   "id": "89ad6724",
   "metadata": {},
   "outputs": [],
   "source": []
  },
  {
   "cell_type": "code",
   "execution_count": null,
   "id": "20bf3c38",
   "metadata": {},
   "outputs": [],
   "source": []
  },
  {
   "cell_type": "code",
   "execution_count": null,
   "id": "e00a08ca",
   "metadata": {},
   "outputs": [],
   "source": []
  },
  {
   "cell_type": "code",
   "execution_count": null,
   "id": "cc187daf",
   "metadata": {},
   "outputs": [],
   "source": []
  },
  {
   "cell_type": "code",
   "execution_count": null,
   "id": "2e34dd5b",
   "metadata": {},
   "outputs": [],
   "source": []
  },
  {
   "cell_type": "code",
   "execution_count": null,
   "id": "65131ac0",
   "metadata": {},
   "outputs": [],
   "source": []
  },
  {
   "cell_type": "code",
   "execution_count": null,
   "id": "9e84ccd6",
   "metadata": {},
   "outputs": [],
   "source": []
  },
  {
   "cell_type": "code",
   "execution_count": null,
   "id": "978040f1",
   "metadata": {},
   "outputs": [],
   "source": []
  },
  {
   "cell_type": "code",
   "execution_count": null,
   "id": "7afd6a85",
   "metadata": {},
   "outputs": [],
   "source": []
  }
 ],
 "metadata": {
  "kernelspec": {
   "display_name": "Python 3 (ipykernel)",
   "language": "python",
   "name": "python3"
  },
  "language_info": {
   "codemirror_mode": {
    "name": "ipython",
    "version": 3
   },
   "file_extension": ".py",
   "mimetype": "text/x-python",
   "name": "python",
   "nbconvert_exporter": "python",
   "pygments_lexer": "ipython3",
   "version": "3.11.5"
  }
 },
 "nbformat": 4,
 "nbformat_minor": 5
}
