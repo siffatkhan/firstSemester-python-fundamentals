{
 "cells": [
  {
   "cell_type": "code",
   "execution_count": 1,
   "id": "86c369c4",
   "metadata": {},
   "outputs": [
    {
     "name": "stdout",
     "output_type": "stream",
     "text": [
      "This program tells you how to\n",
      "disassemble an ACME laundry dryer.\n",
      "There are 4 steps in the process.\n",
      "Press Enter to see Step 1.\n",
      "Step 1: Unplug the dryer and\n",
      "move it away from the wall.\n",
      "\n",
      "Press Enter to see Step 2.\n",
      "Step 2: Remove the six screws\n",
      "    from the back of the dryer.\n",
      "Press Enter to see Step 3.\n",
      "Step 3: Remove the back panelfrom the dryer.\n",
      "\n",
      "Press Enter to see Step 4.\n",
      "Step 4: Pull the top of the\n",
      "dryer straight up.\n"
     ]
    }
   ],
   "source": [
    "def main():\n",
    "    startup_message()\n",
    "    input('Press Enter to see Step 1.')\n",
    "\n",
    "    step1()\n",
    "    input('Press Enter to see Step 2.')\n",
    "\n",
    "    step2()\n",
    "    input('Press Enter to see Step 3.')\n",
    "\n",
    "    step3()\n",
    "    input('Press Enter to see Step 4.')\n",
    "\n",
    "    step4()\n",
    "    \n",
    "    \n",
    "def startup_message():\n",
    "    print('This program tells you how to')\n",
    "    print('disassemble an ACME laundry dryer.')\n",
    "    print('There are 4 steps in the process.') \n",
    "\n",
    "def step1():\n",
    "    print('Step 1: Unplug the dryer and')\n",
    "    print('move it away from the wall.')\n",
    "    print()\n",
    "\n",
    "def step2():\n",
    "    print('''Step 2: Remove the six screws\n",
    "    from the back of the dryer.''')\n",
    "\n",
    "def step3():\n",
    "    print('Step 3: Remove the back panelfrom the dryer.') \n",
    "    print()\n",
    "    \n",
    "def step4():\n",
    "    print('Step 4: Pull the top of the') \n",
    "    print('dryer straight up.')\n",
    "    \n",
    "main()"
   ]
  },
  {
   "cell_type": "code",
   "execution_count": null,
   "id": "867537e9",
   "metadata": {},
   "outputs": [],
   "source": []
  },
  {
   "cell_type": "code",
   "execution_count": null,
   "id": "780b1af8",
   "metadata": {},
   "outputs": [],
   "source": []
  },
  {
   "cell_type": "code",
   "execution_count": null,
   "id": "6d5810af",
   "metadata": {},
   "outputs": [],
   "source": []
  },
  {
   "cell_type": "code",
   "execution_count": null,
   "id": "02759b6f",
   "metadata": {},
   "outputs": [],
   "source": []
  },
  {
   "cell_type": "code",
   "execution_count": null,
   "id": "3e6178e8",
   "metadata": {},
   "outputs": [],
   "source": []
  }
 ],
 "metadata": {
  "kernelspec": {
   "display_name": "Python 3 (ipykernel)",
   "language": "python",
   "name": "python3"
  },
  "language_info": {
   "codemirror_mode": {
    "name": "ipython",
    "version": 3
   },
   "file_extension": ".py",
   "mimetype": "text/x-python",
   "name": "python",
   "nbconvert_exporter": "python",
   "pygments_lexer": "ipython3",
   "version": "3.11.5"
  }
 },
 "nbformat": 4,
 "nbformat_minor": 5
}
