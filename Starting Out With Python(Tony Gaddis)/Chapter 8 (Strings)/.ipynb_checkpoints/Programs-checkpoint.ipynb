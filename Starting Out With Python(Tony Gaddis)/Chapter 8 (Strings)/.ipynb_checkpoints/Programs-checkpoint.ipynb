{
 "cells": [
  {
   "cell_type": "code",
   "execution_count": 8,
   "id": "b11d7a64",
   "metadata": {},
   "outputs": [
    {
     "name": "stdout",
     "output_type": "stream",
     "text": [
      "['Beginner', ' Average', ' Advanced', ' Expert']\n"
     ]
    }
   ],
   "source": [
    "levels = 'Beginner, Average, Advanced, Expert'\n",
    "print(levels.split(\",\",4))    #used splitfunction plus\n",
    "#            also gave argument above how many times should it split"
   ]
  },
  {
   "cell_type": "markdown",
   "id": "9e5485d4",
   "metadata": {},
   "source": [
    "# PROGRAMS"
   ]
  },
  {
   "cell_type": "code",
   "execution_count": 12,
   "id": "9ab8269e",
   "metadata": {},
   "outputs": [
    {
     "name": "stdout",
     "output_type": "stream",
     "text": [
      "enter first name: john\n",
      "enter last name: smith\n",
      "J.S.\n",
      "JohnSMITH\n",
      "jsmith\n"
     ]
    }
   ],
   "source": [
    "#.1\n",
    "\n",
    "fname=input(\"enter first name: \")\n",
    "lname=input(\"enter last name: \")\n",
    "initails=fname[0]+\".\"+lname[0]+\".\"\n",
    "addressBook=fname.capitalize()+lname.upper()\n",
    "username=fname[0]+lname\n",
    "print(initails.upper())\n",
    "print(addressBook)\n",
    "print(username.lower())"
   ]
  },
  {
   "cell_type": "code",
   "execution_count": 15,
   "id": "470c4e01",
   "metadata": {},
   "outputs": [
    {
     "name": "stdout",
     "output_type": "stream",
     "text": [
      "enter some digits: 12345\n",
      "15\n"
     ]
    }
   ],
   "source": [
    "#.2 SIR METHOD\n",
    "\n",
    "num=int(input(\"enter some digits: \"))\n",
    "total=0\n",
    "while num>=10:\n",
    "    r=num%10\n",
    "    total+=r\n",
    "    num=num//10\n",
    "total+=num\n",
    "print(total)\n",
    "    "
   ]
  },
  {
   "cell_type": "code",
   "execution_count": 16,
   "id": "b568fd07",
   "metadata": {},
   "outputs": [
    {
     "name": "stdout",
     "output_type": "stream",
     "text": [
      "enter some digits: 12345\n",
      "15\n"
     ]
    }
   ],
   "source": [
    "#.3 THROUGH STRING METHOD\n",
    "num=input(\"enter some digits: \")\n",
    "total=0\n",
    "for x in num:\n",
    "    total+=int(x)\n",
    "    \n",
    "print(total)"
   ]
  },
  {
   "cell_type": "code",
   "execution_count": 22,
   "id": "bfb1b03c",
   "metadata": {},
   "outputs": [
    {
     "name": "stdout",
     "output_type": "stream",
     "text": [
      "Enter a string: alisishajko\n",
      "Number of vowels: 5\n",
      "Number of consonants: 6\n"
     ]
    }
   ],
   "source": [
    "#.9   #loved this approah\n",
    "def count_vowels(text):\n",
    "    vowels = \"aeiouAEIOU\"\n",
    "    vowel_count = 0\n",
    "    for char in text:\n",
    "        if char in vowels:\n",
    "            vowel_count += 1\n",
    "    return vowel_count\n",
    "\n",
    "def count_consonants(text):\n",
    "    consonants = \"bcdfghjklmnpqrstvwxyzBCDFGHJKLMNPQRSTVWXYZ\"\n",
    "    consonant_count = 0\n",
    "    for char in text:\n",
    "        if char in consonants:\n",
    "            consonant_count += 1\n",
    "    return consonant_count\n",
    "\n",
    "def main():\n",
    "    user_input = input(\"Enter a string: \")\n",
    "    vowel_count = count_vowels(user_input)\n",
    "    consonant_count = count_consonants(user_input)\n",
    "    print(\"Number of vowels:\", vowel_count)\n",
    "    print(\"Number of consonants:\", consonant_count)\n",
    "\n",
    "main()\n"
   ]
  },
  {
   "cell_type": "code",
   "execution_count": 7,
   "id": "756f7bfe",
   "metadata": {},
   "outputs": [
    {
     "name": "stdout",
     "output_type": "stream",
     "text": [
      "enter some shitshitiiiooooo\n",
      "Most Frequent Character is: o\n"
     ]
    }
   ],
   "source": [
    "#.10 MOST FREQUENT CHARCTER ***\n",
    "\n",
    "text=input(\"enter some shit\")\n",
    "dicti={}\n",
    "for x in text:\n",
    "    if x in dicti:   \n",
    "        dicti[x]+=1\n",
    "    else:\n",
    "        dicti[x]=1\n",
    "        \n",
    "max_value=0\n",
    "char = None\n",
    "for key,value in dicti.items():\n",
    "    if value > max_value:\n",
    "        max_value = value\n",
    "        char = key\n",
    "            \n",
    "# print(max_value)\n",
    "print(f\"Most Frequent Character is: {char}\")\n",
    "\n",
    "\n",
    "\n",
    "\n",
    " #OTHER APPROACH \n",
    "    \n",
    "# dictionary2={}\n",
    "#     for x in list90:\n",
    "#         dictionary2[x]=dictionary2.get(x,0)+1\n",
    "#     for key,value in dictionary2.items():\n",
    "#         print(key,\" won \",value,\" times.\")"
   ]
  },
  {
   "cell_type": "code",
   "execution_count": 4,
   "id": "8776addc",
   "metadata": {},
   "outputs": [
    {
     "name": "stdout",
     "output_type": "stream",
     "text": [
      "Stop And Smell The Roses\n"
     ]
    }
   ],
   "source": [
    "#.11\n",
    "sentence=\"StopAndSmellTheRoses\"\n",
    "new=\"\"\n",
    "for x in sentence:\n",
    "    if x.isupper():\n",
    "        new+=\" \"\n",
    "        new+=x\n",
    "    else:\n",
    "        new+=x\n",
    "        \n",
    "print(new.lstrip())\n",
    "    "
   ]
  },
  {
   "cell_type": "code",
   "execution_count": 11,
   "id": "990a5b12",
   "metadata": {},
   "outputs": [
    {
     "name": "stdout",
     "output_type": "stream",
     "text": [
      "ORJNER GUR VQRF BS ZNEPU\n"
     ]
    }
   ],
   "source": [
    "#.15 Cipher\n",
    "\n",
    "sen=\"BEWARE THE IDES OF MARCH\"\n",
    "new=\"\"\n",
    "for x in sen:\n",
    "    z=ord(x)+13     #Ord function give us acii value of character\n",
    "    if x==\" \":\n",
    "        new+=x\n",
    "    elif z>90:\n",
    "        z1=z-90\n",
    "        new+=chr(64+z1)  #chr fn give us character on that value \n",
    "    else:    \n",
    "        new+=chr(z)\n",
    "    \n",
    "print(new)"
   ]
  },
  {
   "cell_type": "code",
   "execution_count": null,
   "id": "b802fd10",
   "metadata": {},
   "outputs": [],
   "source": []
  }
 ],
 "metadata": {
  "kernelspec": {
   "display_name": "Python 3 (ipykernel)",
   "language": "python",
   "name": "python3"
  },
  "language_info": {
   "codemirror_mode": {
    "name": "ipython",
    "version": 3
   },
   "file_extension": ".py",
   "mimetype": "text/x-python",
   "name": "python",
   "nbconvert_exporter": "python",
   "pygments_lexer": "ipython3",
   "version": "3.11.5"
  }
 },
 "nbformat": 4,
 "nbformat_minor": 5
}
