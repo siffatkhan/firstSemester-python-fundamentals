{
 "cells": [
  {
   "cell_type": "markdown",
   "id": "3167f8b3",
   "metadata": {},
   "source": [
    "# CHAPTER 2 EXERCISE QS (BOOK)"
   ]
  },
  {
   "cell_type": "markdown",
   "id": "78279271",
   "metadata": {},
   "source": [
    "# Algorithm Exercises"
   ]
  },
  {
   "cell_type": "code",
   "execution_count": 1,
   "id": "1b4d3fd3",
   "metadata": {},
   "outputs": [
    {
     "name": "stdout",
     "output_type": "stream",
     "text": [
      "-5.452229299363058\n"
     ]
    }
   ],
   "source": [
    "#:1\n",
    "a = 2\n",
    "b = a\n",
    "a = b*4\n",
    "b = a/3.14\n",
    "a = b-8\n",
    "print(a)"
   ]
  },
  {
   "cell_type": "code",
   "execution_count": 2,
   "id": "67a84364",
   "metadata": {},
   "outputs": [
    {
     "name": "stdout",
     "output_type": "stream",
     "text": [
      "x+y 12\n",
      "z*3 4\n",
      "y/x 2.0\n",
      "y-z 6\n",
      "w//z 2\n"
     ]
    }
   ],
   "source": [
    "#:2\n",
    "x=4\n",
    "w=5\n",
    "y=8\n",
    "z=2\n",
    "print(\"x+y\",x+y)\n",
    "print(\"z*3\",z*2)\n",
    "print(\"y/x\",y/x)\n",
    "print(\"y-z\",y-z)\n",
    "print(\"w//z\",w//z)"
   ]
  },
  {
   "cell_type": "code",
   "execution_count": 3,
   "id": "89f774c0",
   "metadata": {},
   "outputs": [
    {
     "name": "stdout",
     "output_type": "stream",
     "text": [
      "150\n"
     ]
    }
   ],
   "source": [
    "#:3\n",
    "x= print(10*15)"
   ]
  },
  {
   "cell_type": "code",
   "execution_count": 4,
   "id": "34180495",
   "metadata": {},
   "outputs": [
    {
     "name": "stdout",
     "output_type": "stream",
     "text": [
      "3.15\n"
     ]
    }
   ],
   "source": [
    "#:4\n",
    "sale= 3.14657\n",
    "print(format(sale,'.2f'))"
   ]
  },
  {
   "cell_type": "code",
   "execution_count": 5,
   "id": "0fbf45f0",
   "metadata": {},
   "outputs": [
    {
     "name": "stdout",
     "output_type": "stream",
     "text": [
      "1,234,567.78\n"
     ]
    }
   ],
   "source": [
    "#:5\n",
    "x=1234567.78\n",
    "print(format(x,','))"
   ]
  },
  {
   "cell_type": "markdown",
   "id": "53619147",
   "metadata": {},
   "source": [
    "# PROGRAMMING EXERCISE OF CHAPTER 2"
   ]
  },
  {
   "cell_type": "code",
   "execution_count": 7,
   "id": "f5625ac9",
   "metadata": {},
   "outputs": [
    {
     "name": "stdout",
     "output_type": "stream",
     "text": [
      "Enter projected sales: 50\n",
      "Total profit:  11.5\n"
     ]
    }
   ],
   "source": [
    "#1.SALES PRIDICTION\n",
    "\n",
    "totalsales=float(input(\"Enter projected sales: \"))\n",
    "print(\"Total profit: \",0.23*totalsales)"
   ]
  },
  {
   "cell_type": "code",
   "execution_count": 8,
   "id": "779636c3",
   "metadata": {},
   "outputs": [
    {
     "name": "stdout",
     "output_type": "stream",
     "text": [
      "Enter mass in Pounds: 140\n",
      "Mass in KG:  63.56\n"
     ]
    }
   ],
   "source": [
    "#2.POUND TO KG\n",
    "\n",
    "pound=int(input(\"Enter mass in Pounds: \"))\n",
    "print(\"Mass in KG: \",pound*0.454)"
   ]
  },
  {
   "cell_type": "code",
   "execution_count": 12,
   "id": "7696f742",
   "metadata": {},
   "outputs": [
    {
     "name": "stdout",
     "output_type": "stream",
     "text": [
      "Enter time in hours: 2\n",
      "Enter time in hours: 3\n",
      "Enter time in hours: 4\n",
      "\n",
      "The distance car will travel in 2 hours is: 140\n",
      "The distance car will travel in 3 hours is: 210\n",
      "The distance car will travel in 4 hours is: 280\n"
     ]
    }
   ],
   "source": [
    "#3.DISTANCE\n",
    "\n",
    "speed=70\n",
    "time=int(input(\"Enter time in hours: \"))\n",
    "time2=int(input(\"Enter time in hours: \"))\n",
    "time3=int(input(\"Enter time in hours: \"))\n",
    "print(\"\\nThe distance car will travel in\", time , \"hours is:\",speed*time)\n",
    "print(\"The distance car will travel in\", time2 ,\"hours is:\",speed*time2)\n",
    "print(\"The distance car will travel in\",time3,\"hours is:\",speed*time3)"
   ]
  },
  {
   "cell_type": "code",
   "execution_count": null,
   "id": "5d110905",
   "metadata": {},
   "outputs": [],
   "source": [
    "#6.PAYMENT INSTALLMENTS"
   ]
  },
  {
   "cell_type": "code",
   "execution_count": 16,
   "id": "d8d24fd7",
   "metadata": {},
   "outputs": [
    {
     "name": "stdout",
     "output_type": "stream",
     "text": [
      "Number of miles driven: 50\n",
      "Gas used: 10\n",
      "MPG:  5.00\n"
     ]
    }
   ],
   "source": [
    "#7.MPG\n",
    "\n",
    "mile=float(input(\"Number of miles driven: \"))\n",
    "gas= int(input(\"Gas used: \"))\n",
    "mpg=mile/gas\n",
    "print(\"MPG: \",format(mpg,',.2f'))"
   ]
  },
  {
   "cell_type": "code",
   "execution_count": 19,
   "id": "aac7055e",
   "metadata": {},
   "outputs": [
    {
     "name": "stdout",
     "output_type": "stream",
     "text": [
      "Enter the charge for food: 50\n",
      "Amount:  0.63\n"
     ]
    }
   ],
   "source": [
    "#8.TIP,TAX\n",
    "\n",
    "charge=int(input(\"Enter the charge for food: \"))\n",
    "amount=charge*.18*.07\n",
    "print(\"Amount: \",format(amount,',.2f'))"
   ]
  },
  {
   "cell_type": "code",
   "execution_count": 20,
   "id": "efa7025b",
   "metadata": {},
   "outputs": [
    {
     "name": "stdout",
     "output_type": "stream",
     "text": [
      "Enter the radius of circle: 35\n",
      "Area: 3848.3375\n",
      "Circumference: 219.905\n"
     ]
    }
   ],
   "source": [
    "#9. CIRCLE MEASUREMENTS\n",
    "\n",
    "radius=float(input(\"Enter the radius of circle: \"))\n",
    "print(\"Area:\",3.1415*radius**2)\n",
    "print(\"Circumference:\",2*3.1415*radius)"
   ]
  },
  {
   "cell_type": "code",
   "execution_count": 22,
   "id": "c3b654df",
   "metadata": {},
   "outputs": [
    {
     "name": "stdout",
     "output_type": "stream",
     "text": [
      "Enter the radius of circle: 35\n",
      "Area: 3848.4510006474966\n",
      "Circumference: 219.9114857512855\n"
     ]
    }
   ],
   "source": [
    "#9. HERE USED IMPORT FUNCTION AND PI\n",
    "\n",
    "import math\n",
    "radius=float(input(\"Enter the radius of circle: \"))\n",
    "print(\"Area:\",math.pi*radius **2)\n",
    "print(\"Circumference:\",2*math.pi*radius)\n"
   ]
  },
  {
   "cell_type": "code",
   "execution_count": 25,
   "id": "1799c59c",
   "metadata": {},
   "outputs": [
    {
     "name": "stdout",
     "output_type": "stream",
     "text": [
      "How many cookie does she want: 96\n",
      "\n",
      "Sugar required :  3.0\n",
      "Butter required:  2.0\n",
      "Flour required :  5.5\n"
     ]
    }
   ],
   "source": [
    "#10. COOKIE INGREDIANTS ADJUSTER\n",
    "\n",
    "cookie=float(input(\"How many cookie does she want: \"))\n",
    "print(\"\\nSugar required : \",1.5/48*cookie)\n",
    "print(\"Butter required: \",1/48*cookie)\n",
    "print(\"Flour required : \",2.75/48*cookie)"
   ]
  },
  {
   "cell_type": "code",
   "execution_count": 27,
   "id": "86ff42c1",
   "metadata": {},
   "outputs": [
    {
     "name": "stdout",
     "output_type": "stream",
     "text": [
      "Enter the number of total student: 50\n",
      "\n",
      "Enter the number of male: 25\n",
      "Enter the number of female: 25\n",
      "\n",
      "Male percentage: 50.0\n",
      "FeMale percentage: 50.0\n"
     ]
    }
   ],
   "source": [
    "#11. MALE & FEMALE %\n",
    "\n",
    "total=int(input(\"Enter the number of total student: \"))\n",
    "male=int(input(\"\\nEnter the number of male: \"))\n",
    "female=int(input(\"Enter the number of female: \"))\n",
    "print(\"\\nMale percentage:\",male/total*100)\n",
    "print(\"Female percentage:\",female/total*100)"
   ]
  },
  {
   "cell_type": "code",
   "execution_count": null,
   "id": "711df7a4",
   "metadata": {},
   "outputs": [],
   "source": [
    "#12. STOCK TRANSACTION\n",
    "EASY ONE"
   ]
  },
  {
   "cell_type": "code",
   "execution_count": null,
   "id": "4543d3d5",
   "metadata": {},
   "outputs": [],
   "source": [
    "#13. PLANTING GRAPEVINES\n",
    "EASY ONE"
   ]
  },
  {
   "cell_type": "code",
   "execution_count": null,
   "id": "9af4555f",
   "metadata": {},
   "outputs": [],
   "source": [
    "#14. COMPOUND INTEREST\n",
    "EASY ONE"
   ]
  },
  {
   "cell_type": "code",
   "execution_count": null,
   "id": "bdbe4a9f",
   "metadata": {},
   "outputs": [],
   "source": []
  },
  {
   "cell_type": "code",
   "execution_count": null,
   "id": "09027a3e",
   "metadata": {},
   "outputs": [],
   "source": []
  }
 ],
 "metadata": {
  "kernelspec": {
   "display_name": "Python 3 (ipykernel)",
   "language": "python",
   "name": "python3"
  },
  "language_info": {
   "codemirror_mode": {
    "name": "ipython",
    "version": 3
   },
   "file_extension": ".py",
   "mimetype": "text/x-python",
   "name": "python",
   "nbconvert_exporter": "python",
   "pygments_lexer": "ipython3",
   "version": "3.11.5"
  }
 },
 "nbformat": 4,
 "nbformat_minor": 5
}
