{
 "cells": [
  {
   "cell_type": "code",
   "execution_count": 1,
   "id": "7d5add89",
   "metadata": {},
   "outputs": [
    {
     "name": "stdout",
     "output_type": "stream",
     "text": [
      "{'name': 'aslam', 'age': 19, 'city': 'laki'}\n",
      "{'name': 'saad', 'age': 20, 'city': 'bannu'}\n",
      "{'name': 'ali', 'age': 33, 'city': None}\n"
     ]
    }
   ],
   "source": [
    "students=[\n",
    "    {\"name\":\"aslam\",\"age\":19,\"city\":\"laki\"},\n",
    "    {\"name\":\"saad\",\"age\":20,\"city\":\"bannu\"},\n",
    "    {\"name\":\"ali\",\"age\":33,\"city\":None}\n",
    "]\n",
    "for i in students:\n",
    "    print(i)"
   ]
  },
  {
   "cell_type": "code",
   "execution_count": 7,
   "id": "c5eab9e6",
   "metadata": {},
   "outputs": [
    {
     "name": "stdout",
     "output_type": "stream",
     "text": [
      "aslam 19 laki\n",
      "saad 20 bannu\n",
      "ali 33 None\n"
     ]
    }
   ],
   "source": [
    "students=[\n",
    "    {\"name\":\"aslam\",\"age\":19,\"city\":\"laki\"},\n",
    "    {\"name\":\"saad\",\"age\":20,\"city\":\"bannu\"},\n",
    "    {\"name\":\"ali\",\"age\":33,\"city\":None}\n",
    "]\n",
    "for i in students:\n",
    "    print(i[\"name\"],i[\"age\"],i[\"city\"])\n",
    "#     print()\n",
    "#     print(i[\"city\"])"
   ]
  },
  {
   "cell_type": "code",
   "execution_count": 16,
   "id": "5769dc1d",
   "metadata": {},
   "outputs": [
    {
     "name": "stdout",
     "output_type": "stream",
     "text": [
      "enter a word:suv\n",
      "uvs\n",
      "defuvsfed\n"
     ]
    }
   ],
   "source": [
    "#ENCRYPTION\n",
    "\n",
    "word=input(\"enter a word:\")\n",
    "if len(word)>3:\n",
    "    raise ValueError(\"error\")\n",
    "else:\n",
    "    if len(word)==2:\n",
    "        word0=word[::-1]\n",
    "        print(word0)\n",
    "    \n",
    "    elif True:\n",
    "        word1=word[1:]\n",
    "        word2=word1+word[0]\n",
    "#         print(word1)\n",
    "#         print(word2)\n",
    "        word3=\"def\"+word2+\"fed\"\n",
    "        print(word3)"
   ]
  },
  {
   "cell_type": "code",
   "execution_count": 19,
   "id": "e2c184ab",
   "metadata": {},
   "outputs": [
    {
     "name": "stdout",
     "output_type": "stream",
     "text": [
      "enter a word:suv\n",
      "\n",
      "\n"
     ]
    }
   ],
   "source": [
    "#DECRYPTION\n",
    "\n",
    "word=input(\"enter a word:\")\n",
    "# if len(word)>3:\n",
    "#     raise ValueError(\"error\")\n",
    "# else:\n",
    "if len(word)==2:\n",
    "    word0=word[::-1]\n",
    "    print(word0)    \n",
    "elif True:\n",
    "    word1=word[3:6]\n",
    "    print(word1)\n",
    "    word2=word1[2:]\n",
    "    print(word2)"
   ]
  },
  {
   "cell_type": "code",
   "execution_count": 28,
   "id": "0e9c1a1d",
   "metadata": {},
   "outputs": [
    {
     "name": "stdout",
     "output_type": "stream",
     "text": [
      "ii\n"
     ]
    }
   ],
   "source": [
    "a=200\n",
    "b=200\n",
    "print(\"yes\") if a>b else print(\"ii\") if a==b else print(\"b\")\n",
    "#------------------| ------------------------ |--------------"
   ]
  },
  {
   "cell_type": "code",
   "execution_count": 32,
   "id": "41cadf20",
   "metadata": {},
   "outputs": [
    {
     "name": "stdout",
     "output_type": "stream",
     "text": [
      "11\n"
     ]
    }
   ],
   "source": [
    "a=200\n",
    "b=200\n",
    "c=9 if a>b else 11#c=11 if a==b\n",
    "print(c)"
   ]
  },
  {
   "cell_type": "code",
   "execution_count": 40,
   "id": "44405754",
   "metadata": {},
   "outputs": [
    {
     "name": "stdout",
     "output_type": "stream",
     "text": [
      "3.0 \n",
      " 21.991148575128552\n"
     ]
    }
   ],
   "source": [
    "import random\n",
    "# import math\n",
    "from math import sqrt as s, pi as p\n",
    "\n",
    "a=s(9)              #HERE WE USED SQRT AS A BECAUSE WE SPECIFY IT ABOVE\n",
    "b=p*7\n",
    "print(a,\"\\n\",b)\n",
    "import time\n",
    "\n",
    "# print(dir(random))      SHOW ALL FUNCTIONS IN LIBRARY\n",
    "# print(dir(math))\n",
    "# print(dir(time))"
   ]
  },
  {
   "cell_type": "code",
   "execution_count": 14,
   "id": "595bfe0f",
   "metadata": {},
   "outputs": [
    {
     "name": "stdout",
     "output_type": "stream",
     "text": [
      "57\n",
      "65\n"
     ]
    }
   ],
   "source": [
    "print(ord(\"9\"))  #tell us about ascii code\n",
    "print(ord(\"A\"))"
   ]
  },
  {
   "cell_type": "code",
   "execution_count": 15,
   "id": "a8de14b6",
   "metadata": {},
   "outputs": [
    {
     "name": "stdout",
     "output_type": "stream",
     "text": [
      "A\n"
     ]
    }
   ],
   "source": [
    "print(chr(65))   #give us chacter of specific ascii code"
   ]
  },
  {
   "cell_type": "code",
   "execution_count": null,
   "id": "92b84a85",
   "metadata": {},
   "outputs": [],
   "source": []
  }
 ],
 "metadata": {
  "kernelspec": {
   "display_name": "Python 3 (ipykernel)",
   "language": "python",
   "name": "python3"
  },
  "language_info": {
   "codemirror_mode": {
    "name": "ipython",
    "version": 3
   },
   "file_extension": ".py",
   "mimetype": "text/x-python",
   "name": "python",
   "nbconvert_exporter": "python",
   "pygments_lexer": "ipython3",
   "version": "3.11.5"
  }
 },
 "nbformat": 4,
 "nbformat_minor": 5
}
