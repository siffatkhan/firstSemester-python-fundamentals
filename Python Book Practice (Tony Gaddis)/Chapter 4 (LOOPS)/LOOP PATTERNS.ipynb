{
 "cells": [
  {
   "cell_type": "code",
   "execution_count": 8,
   "id": "f8e913b0",
   "metadata": {},
   "outputs": [
    {
     "name": "stdout",
     "output_type": "stream",
     "text": [
      "# # # # # # # \n",
      "# # # # # # # \n",
      "# # # # # # # \n",
      "# # # # # # # \n",
      "# # # # # # # \n"
     ]
    }
   ],
   "source": [
    "# PATTERN 1      ( FOR DIFFERENT NUMBR OF ROWS & COLUMNS )\n",
    "\n",
    "for x in range(1,6):\n",
    "    for y in range(1,8):\n",
    "        print(\"#\",end=\" \")\n",
    "    print()\n",
    "    "
   ]
  },
  {
   "cell_type": "code",
   "execution_count": 10,
   "id": "64258c96",
   "metadata": {},
   "outputs": [
    {
     "name": "stdout",
     "output_type": "stream",
     "text": [
      "# # # # # # \n",
      "# # # # # # \n",
      "# # # # # # \n",
      "# # # # # # \n",
      "# # # # # # \n"
     ]
    }
   ],
   "source": [
    "# PATTERN 1      ( FOR SAME NUMBR OF ROWS & COLUMNS )\n",
    "\n",
    "for x in range(1,6):\n",
    "    print(\"# \"*6)"
   ]
  },
  {
   "cell_type": "code",
   "execution_count": 15,
   "id": "01c9b4f3",
   "metadata": {},
   "outputs": [
    {
     "name": "stdout",
     "output_type": "stream",
     "text": [
      "Enter the number of rows: 6\n",
      "1 1 1 1 1 1 \n",
      "2 2 2 2 2 2 \n",
      "3 3 3 3 3 3 \n",
      "4 4 4 4 4 4 \n",
      "5 5 5 5 5 5 \n",
      "6 6 6 6 6 6 \n"
     ]
    }
   ],
   "source": [
    "# PATTERN 2\n",
    "\n",
    "n=int(input(\"Enter the number of rows: \"))\n",
    "for i in range(1,n+1):\n",
    "    for j in range(1,n+1):\n",
    "        print(i,end=\" \")\n",
    "    print()"
   ]
  },
  {
   "cell_type": "code",
   "execution_count": 14,
   "id": "5b508f3a",
   "metadata": {},
   "outputs": [
    {
     "name": "stdout",
     "output_type": "stream",
     "text": [
      "Enter the number of rows: 6\n",
      "1 2 3 4 5 6 \n",
      "1 2 3 4 5 6 \n",
      "1 2 3 4 5 6 \n",
      "1 2 3 4 5 6 \n",
      "1 2 3 4 5 6 \n",
      "1 2 3 4 5 6 \n"
     ]
    }
   ],
   "source": [
    "# PATTERN 3\n",
    "\n",
    "n=int(input(\"Enter the number of rows: \"))\n",
    "for i in range(1,n+1):\n",
    "    for j in range(1,n+1):\n",
    "        print(j,end=\" \")\n",
    "    print()"
   ]
  },
  {
   "cell_type": "code",
   "execution_count": 13,
   "id": "92b55adf",
   "metadata": {},
   "outputs": [
    {
     "name": "stdout",
     "output_type": "stream",
     "text": [
      "Enter the number of rows: 6\n",
      "A A A A A A \n",
      "B B B B B B \n",
      "C C C C C C \n",
      "D D D D D D \n",
      "E E E E E E \n",
      "F F F F F F \n"
     ]
    }
   ],
   "source": [
    "# PATTERN 4\n",
    "\n",
    "n=int(input(\"Enter the number of rows: \"))\n",
    "for i in range(1,n+1):\n",
    "    for j in range(1,n+1):\n",
    "        print(chr(64+i),end=\" \")\n",
    "    print()"
   ]
  },
  {
   "cell_type": "code",
   "execution_count": 12,
   "id": "d1eb9490",
   "metadata": {},
   "outputs": [
    {
     "name": "stdout",
     "output_type": "stream",
     "text": [
      "Enter the number of rows: 6\n",
      "A B C D E F \n",
      "A B C D E F \n",
      "A B C D E F \n",
      "A B C D E F \n",
      "A B C D E F \n",
      "A B C D E F \n"
     ]
    }
   ],
   "source": [
    "# PATTERN 5\n",
    "\n",
    "n=int(input(\"Enter the number of rows: \"))\n",
    "for i in range(1,n+1):\n",
    "    for j in range(1,n+1):\n",
    "        print(chr(64+j),end=\" \")\n",
    "    print()"
   ]
  },
  {
   "cell_type": "code",
   "execution_count": 17,
   "id": "08ee0689",
   "metadata": {},
   "outputs": [
    {
     "name": "stdout",
     "output_type": "stream",
     "text": [
      "Enter the last number: 8\n",
      "8 8 8 8 8 8 8 8 \n",
      "7 7 7 7 7 7 7 7 \n",
      "6 6 6 6 6 6 6 6 \n",
      "5 5 5 5 5 5 5 5 \n",
      "4 4 4 4 4 4 4 4 \n",
      "3 3 3 3 3 3 3 3 \n",
      "2 2 2 2 2 2 2 2 \n",
      "1 1 1 1 1 1 1 1 \n"
     ]
    }
   ],
   "source": [
    "# PATTERN 6\n",
    "\n",
    "n=int(input(\"Enter the last number: \"))\n",
    "for x in range(n,0,-1):\n",
    "    for y in range(n,0,-1):\n",
    "        print(x,end=\" \")\n",
    "    print()"
   ]
  },
  {
   "cell_type": "code",
   "execution_count": 18,
   "id": "3d216533",
   "metadata": {},
   "outputs": [
    {
     "name": "stdout",
     "output_type": "stream",
     "text": [
      "Enter the number of rows: 8\n",
      "8 8 8 8 8 8 8 8 \n",
      "7 7 7 7 7 7 7 7 \n",
      "6 6 6 6 6 6 6 6 \n",
      "5 5 5 5 5 5 5 5 \n",
      "4 4 4 4 4 4 4 4 \n",
      "3 3 3 3 3 3 3 3 \n",
      "2 2 2 2 2 2 2 2 \n",
      "1 1 1 1 1 1 1 1 \n"
     ]
    }
   ],
   "source": [
    "# PATTERN 6.1      ( ANOTHER METHOD )\n",
    "\n",
    "n=int(input(\"Enter the number of rows: \")) \n",
    "for i in range(1,n+1): \n",
    "    for j in range(1,n+1): \n",
    "        print(n+1-i,end=\" \")\n",
    "    print()"
   ]
  },
  {
   "cell_type": "code",
   "execution_count": 19,
   "id": "f30eceab",
   "metadata": {},
   "outputs": [
    {
     "name": "stdout",
     "output_type": "stream",
     "text": [
      "Enter the last number: 7\n",
      "7 6 5 4 3 2 1 \n",
      "7 6 5 4 3 2 1 \n",
      "7 6 5 4 3 2 1 \n",
      "7 6 5 4 3 2 1 \n",
      "7 6 5 4 3 2 1 \n",
      "7 6 5 4 3 2 1 \n",
      "7 6 5 4 3 2 1 \n"
     ]
    }
   ],
   "source": [
    "# PATTERN 6.2\n",
    "\n",
    "n=int(input(\"Enter the last number: \"))\n",
    "for x in range(n,0,-1):\n",
    "    for y in range(n,0,-1):\n",
    "        print(y,end=\" \")\n",
    "    print()"
   ]
  },
  {
   "cell_type": "code",
   "execution_count": 27,
   "id": "9d4b2719",
   "metadata": {},
   "outputs": [
    {
     "name": "stdout",
     "output_type": "stream",
     "text": [
      "Enter the last number: 8\n",
      "H H H H H H H H \n",
      "G G G G G G G G \n",
      "F F F F F F F F \n",
      "E E E E E E E E \n",
      "D D D D D D D D \n",
      "C C C C C C C C \n",
      "B B B B B B B B \n",
      "A A A A A A A A \n"
     ]
    }
   ],
   "source": [
    "# PATTERN 7.1\n",
    "\n",
    "n=int(input(\"Enter the last number: \"))\n",
    "for x in range(n,0,-1):\n",
    "    for y in range(n,0,-1):\n",
    "        print(chr(64+x),end=\" \")\n",
    "    print()"
   ]
  },
  {
   "cell_type": "code",
   "execution_count": 29,
   "id": "82c69e6c",
   "metadata": {},
   "outputs": [
    {
     "name": "stdout",
     "output_type": "stream",
     "text": [
      "Enter the number of rows: 6\n",
      "F F F F F F \n",
      "E E E E E E \n",
      "D D D D D D \n",
      "C C C C C C \n",
      "B B B B B B \n",
      "A A A A A A \n"
     ]
    }
   ],
   "source": [
    "# PATTERN 7.2   ANOTHER METHOD(SIR)\n",
    "\n",
    "n=int(input(\"Enter the number of rows: \"))\n",
    "for i in range(1,n+1):\n",
    "    for j in range(1,n+1):\n",
    "        print(chr(65+n-i),end=\" \")\n",
    "    print()"
   ]
  },
  {
   "cell_type": "code",
   "execution_count": 30,
   "id": "9d2b6382",
   "metadata": {},
   "outputs": [
    {
     "name": "stdout",
     "output_type": "stream",
     "text": [
      "Enter the number of rows: 7\n",
      "G F E D C B A \n",
      "G F E D C B A \n",
      "G F E D C B A \n",
      "G F E D C B A \n",
      "G F E D C B A \n",
      "G F E D C B A \n",
      "G F E D C B A \n"
     ]
    }
   ],
   "source": [
    "# PATTERN 8\n",
    "\n",
    "n=int(input(\"Enter the number of rows: \"))\n",
    "for i in range(1,n+1):\n",
    "    for j in range(1,n+1):\n",
    "        print(chr(65+n-j),end=\" \")\n",
    "    print()"
   ]
  },
  {
   "cell_type": "code",
   "execution_count": 34,
   "id": "9c338c37",
   "metadata": {},
   "outputs": [
    {
     "name": "stdout",
     "output_type": "stream",
     "text": [
      "Enter the number of rows: 7\n",
      "* \n",
      "* * \n",
      "* * * \n",
      "* * * * \n",
      "* * * * * \n",
      "* * * * * * \n",
      "* * * * * * * \n"
     ]
    }
   ],
   "source": [
    "# PATTERN 9\n",
    "\n",
    "n=int(input(\"Enter the number of rows: \"))\n",
    "for i in range(1,n+1):\n",
    "    for j in range(1,i+1):          #IMP THING IS i+1 ADDITION IN RANGE\n",
    "        print(\"*\",end=\" \")\n",
    "    print()"
   ]
  },
  {
   "cell_type": "code",
   "execution_count": 35,
   "id": "a53ee722",
   "metadata": {},
   "outputs": [
    {
     "name": "stdout",
     "output_type": "stream",
     "text": [
      "Enter the number of rows:6\n",
      "* \n",
      "* * \n",
      "* * * \n",
      "* * * * \n",
      "* * * * * \n",
      "* * * * * * \n"
     ]
    }
   ],
   "source": [
    "# PATTERN 9.  ANOTHER METHOD\n",
    "\n",
    "n=int(input(\"Enter the number of rows:\"))\n",
    "for i in range(1,n+1):\n",
    "    print(\"* \"*i)"
   ]
  },
  {
   "cell_type": "code",
   "execution_count": 2,
   "id": "cab11f46",
   "metadata": {},
   "outputs": [
    {
     "name": "stdout",
     "output_type": "stream",
     "text": [
      "Enter the number of rows: 6\n",
      "1 \n",
      "2 2 \n",
      "3 3 3 \n",
      "4 4 4 4 \n",
      "5 5 5 5 5 \n",
      "6 6 6 6 6 6 \n"
     ]
    }
   ],
   "source": [
    "#PATTERN 11\n",
    "n=int(input(\"Enter the number of rows: \"))\n",
    "for i in range(1,n+1):\n",
    "    for j in range(1,i+1):          #IMP THING IS i+1 ADDITION IN RANGE\n",
    "        print(i,end=\" \")\n",
    "    print()"
   ]
  },
  {
   "cell_type": "code",
   "execution_count": 1,
   "id": "c0b35912",
   "metadata": {},
   "outputs": [
    {
     "name": "stdout",
     "output_type": "stream",
     "text": [
      "Enter the number of rows: 6\n",
      "1 \n",
      "1 2 \n",
      "1 2 3 \n",
      "1 2 3 4 \n",
      "1 2 3 4 5 \n",
      "1 2 3 4 5 6 \n"
     ]
    }
   ],
   "source": [
    "#PATTERN 11  \n",
    "\n",
    "n=int(input(\"Enter the number of rows: \"))\n",
    "for i in range(1,n+1):\n",
    "    for j in range(1,i+1):          #IMP THING IS i+1 ADDITION IN RANGE\n",
    "        print(j,end=\" \")\n",
    "    print()"
   ]
  },
  {
   "cell_type": "code",
   "execution_count": 4,
   "id": "da3cbc27",
   "metadata": {},
   "outputs": [
    {
     "name": "stdout",
     "output_type": "stream",
     "text": [
      "enter rows length: 6\n",
      "A\n",
      "BB\n",
      "CCC\n",
      "DDDD\n",
      "EEEEE\n",
      "FFFFFF\n"
     ]
    }
   ],
   "source": [
    "#PATTERN 12\n",
    "\n",
    "n=int(input(\"enter rows length: \"))\n",
    "for x in range(1,n+1):\n",
    "    for y in range(1,x+1):\n",
    "        print(chr(64+x),end=\"\")\n",
    "    print()"
   ]
  },
  {
   "cell_type": "code",
   "execution_count": 5,
   "id": "e85384ae",
   "metadata": {},
   "outputs": [
    {
     "name": "stdout",
     "output_type": "stream",
     "text": [
      "enter rows length: 6\n",
      "A\n",
      "AB\n",
      "ABC\n",
      "ABCD\n",
      "ABCDE\n",
      "ABCDEF\n"
     ]
    }
   ],
   "source": [
    "#PATTERN 13\n",
    "\n",
    "n=int(input(\"enter rows length: \"))\n",
    "for x in range(1,n+1):\n",
    "    for y in range(1,x+1):\n",
    "        print(chr(64+y),end=\"\")\n",
    "    print()"
   ]
  },
  {
   "cell_type": "code",
   "execution_count": 9,
   "id": "e4696001",
   "metadata": {},
   "outputs": [
    {
     "name": "stdout",
     "output_type": "stream",
     "text": [
      "enter rows: 6\n",
      "*****\n",
      "****\n",
      "***\n",
      "**\n",
      "*\n",
      "\n"
     ]
    }
   ],
   "source": [
    "#PATTERN 14\n",
    "\n",
    "n=int(input(\"enter rows: \"))\n",
    "for x in range(1,n+1):\n",
    "    print(\"*\"*(n-x))"
   ]
  },
  {
   "cell_type": "code",
   "execution_count": 12,
   "id": "878368a5",
   "metadata": {},
   "outputs": [
    {
     "name": "stdout",
     "output_type": "stream",
     "text": [
      "Enter the number of rows: 6\n",
      "******\n",
      "*****\n",
      "****\n",
      "***\n",
      "**\n",
      "*\n"
     ]
    }
   ],
   "source": [
    "#PATTERN 14       ANOTHER METHOD\n",
    "\n",
    "n=int(input(\"Enter the number of rows: \"))\n",
    "for i in range(1,n+1):\n",
    "    for j in range(1,n+2-i):\n",
    "        print(\"*\",end=\"\")\n",
    "    print()"
   ]
  },
  {
   "cell_type": "code",
   "execution_count": 18,
   "id": "8e411c5d",
   "metadata": {},
   "outputs": [
    {
     "name": "stdout",
     "output_type": "stream",
     "text": [
      "enter rows: 7\n",
      "1111111\n",
      "222222\n",
      "33333\n",
      "4444\n",
      "555\n",
      "66\n",
      "7\n"
     ]
    }
   ],
   "source": [
    "#PATTERN 15\n",
    "\n",
    "n=int(input(\"enter rows: \"))\n",
    "for i in range(1,n+1):\n",
    "    for j in range(1,n+2-i):\n",
    "        print(i,end=\"\")\n",
    "    print()"
   ]
  },
  {
   "cell_type": "code",
   "execution_count": 19,
   "id": "9355370c",
   "metadata": {},
   "outputs": [
    {
     "name": "stdout",
     "output_type": "stream",
     "text": [
      "enter rows: 7\n",
      "1234567\n",
      "123456\n",
      "12345\n",
      "1234\n",
      "123\n",
      "12\n",
      "1\n"
     ]
    }
   ],
   "source": [
    "#PATTERN 16\n",
    "\n",
    "n=int(input(\"enter rows: \"))\n",
    "for i in range(1,n+1):\n",
    "    for j in range(1,n+2-i):\n",
    "        print(j,end=\"\")\n",
    "    print()"
   ]
  },
  {
   "cell_type": "code",
   "execution_count": 20,
   "id": "2f161705",
   "metadata": {},
   "outputs": [
    {
     "name": "stdout",
     "output_type": "stream",
     "text": [
      "enter rows length: 7\n",
      "AAAAAAA\n",
      "BBBBBB\n",
      "CCCCC\n",
      "DDDD\n",
      "EEE\n",
      "FF\n",
      "G\n"
     ]
    }
   ],
   "source": [
    "#PATTERN 17\n",
    "\n",
    "n=int(input(\"enter rows length: \"))\n",
    "for i in range(1,n+1):\n",
    "    for j in range(1,n+2-i):\n",
    "        print(chr(64+i),end=\"\")\n",
    "    print()"
   ]
  },
  {
   "cell_type": "code",
   "execution_count": 21,
   "id": "357e0319",
   "metadata": {},
   "outputs": [
    {
     "name": "stdout",
     "output_type": "stream",
     "text": [
      "enter rows length: 7\n",
      "ABCDEFG\n",
      "ABCDEF\n",
      "ABCDE\n",
      "ABCD\n",
      "ABC\n",
      "AB\n",
      "A\n"
     ]
    }
   ],
   "source": [
    "#PATTERN 18\n",
    "\n",
    "n=int(input(\"enter rows length: \"))\n",
    "for i in range(1,n+1):\n",
    "    for j in range(1,n+2-i):\n",
    "        print(chr(64+j),end=\"\")\n",
    "    print()"
   ]
  },
  {
   "cell_type": "code",
   "execution_count": 25,
   "id": "3529b9e1",
   "metadata": {},
   "outputs": [
    {
     "name": "stdout",
     "output_type": "stream",
     "text": [
      "enter rows length: 7\n",
      "7777777\n",
      "666666\n",
      "55555\n",
      "4444\n",
      "333\n",
      "22\n",
      "1\n"
     ]
    }
   ],
   "source": [
    "#PATTERN 19\n",
    "\n",
    "n=int(input(\"enter rows length: \"))\n",
    "for x in range(1,n+1):\n",
    "    for y in range(1,n+2-x):\n",
    "        print(n+1-x,end=\"\")\n",
    "    print()"
   ]
  },
  {
   "cell_type": "code",
   "execution_count": 27,
   "id": "31d199e0",
   "metadata": {},
   "outputs": [
    {
     "name": "stdout",
     "output_type": "stream",
     "text": [
      "enter rows length: 7\n",
      "7654321\n",
      "765432\n",
      "76543\n",
      "7654\n",
      "765\n",
      "76\n",
      "7\n"
     ]
    }
   ],
   "source": [
    "#PATTERN 20\n",
    "\n",
    "n=int(input(\"enter rows length: \"))\n",
    "for x in range(1,n+1):\n",
    "    for y in range(1,n+2-x):\n",
    "        print(n+1-y,end=\"\")\n",
    "    print()"
   ]
  },
  {
   "cell_type": "code",
   "execution_count": 30,
   "id": "147f6850",
   "metadata": {},
   "outputs": [
    {
     "name": "stdout",
     "output_type": "stream",
     "text": [
      "enter rows length: 8\n",
      "HHHHHHHH\n",
      "GGGGGGG\n",
      "FFFFFF\n",
      "EEEEE\n",
      "DDDD\n",
      "CCC\n",
      "BB\n",
      "A\n"
     ]
    }
   ],
   "source": [
    "#PATTERN 21\n",
    "\n",
    "n=int(input(\"enter rows length: \"))\n",
    "for x in range(1,n+1):\n",
    "    for y in range(1,n+2-x):\n",
    "        print(chr(65+n-x),end=\"\")\n",
    "    print()"
   ]
  },
  {
   "cell_type": "code",
   "execution_count": 31,
   "id": "a35c832c",
   "metadata": {},
   "outputs": [
    {
     "name": "stdout",
     "output_type": "stream",
     "text": [
      "enter rows length: 8\n",
      "HGFEDCBA\n",
      "HGFEDCB\n",
      "HGFEDC\n",
      "HGFED\n",
      "HGFE\n",
      "HGF\n",
      "HG\n",
      "H\n"
     ]
    }
   ],
   "source": [
    "#PATTERN 22\n",
    "\n",
    "n=int(input(\"enter rows length: \"))\n",
    "for x in range(1,n+1):\n",
    "    for y in range(1,n+2-x):\n",
    "        print(chr(65+n-y),end=\"\")\n",
    "    print()"
   ]
  },
  {
   "cell_type": "code",
   "execution_count": 2,
   "id": "83cc02e1",
   "metadata": {},
   "outputs": [
    {
     "name": "stdout",
     "output_type": "stream",
     "text": [
      "Enter the number of rows: 5\n",
      "     * \n",
      "    ** \n",
      "   *** \n",
      "  **** \n",
      " ***** \n"
     ]
    }
   ],
   "source": [
    "#PATTERN 23.a\n",
    "\n",
    "n=int(input(\"Enter the number of rows: \"))\n",
    "for i in range(1,n+1):\n",
    "    print(\" \"*(n-i),\"*\"*i,end=\" \")\n",
    "    print()"
   ]
  },
  {
   "cell_type": "code",
   "execution_count": 8,
   "id": "bc7d6a85",
   "metadata": {},
   "outputs": [
    {
     "name": "stdout",
     "output_type": "stream",
     "text": [
      "Enter the number of rows: 5\n",
      "      * \n",
      "      ** \n",
      "      *** \n",
      "      **** \n",
      "      ***** \n"
     ]
    }
   ],
   "source": [
    "#PATTERN 23.b\n",
    "\n",
    "n=int(input(\"Enter the number of rows: \"))\n",
    "for i in range(1,n+1):\n",
    "    print(\" \"*(n),\"*\"*i,end=\" \")\n",
    "    print()"
   ]
  },
  {
   "cell_type": "code",
   "execution_count": 11,
   "id": "b9407452",
   "metadata": {},
   "outputs": [
    {
     "name": "stdout",
     "output_type": "stream",
     "text": [
      "Enter the number of rows: 5\n",
      "     *  \n",
      "    * *  \n",
      "   * * *  \n",
      "  * * * *  \n",
      " * * * * *  \n"
     ]
    }
   ],
   "source": [
    "#PATTERN 24\n",
    "\n",
    "n=int(input(\"Enter the number of rows: \"))\n",
    "for i in range(1,n+1):\n",
    "    print(\" \"*(n-i),\"* \"*i,end=\" \")\n",
    "    print()"
   ]
  },
  {
   "cell_type": "code",
   "execution_count": 12,
   "id": "8b2db471",
   "metadata": {},
   "outputs": [
    {
     "name": "stdout",
     "output_type": "stream",
     "text": [
      "Enter the number of rows: 5\n",
      "    * \n",
      "   * * \n",
      "  * * * \n",
      " * * * * \n",
      "* * * * * \n"
     ]
    }
   ],
   "source": [
    "#PATTERN 24\n",
    "\n",
    "n=int(input(\"Enter the number of rows: \"))\n",
    "for i in range(1,n+1):\n",
    "    print(\" \"*(n-i),end=\"\")\n",
    "    for j in range(1,i+1):\n",
    "        print(\"*\",end=\" \")\n",
    "    print()"
   ]
  },
  {
   "cell_type": "code",
   "execution_count": 18,
   "id": "d8e4cdeb",
   "metadata": {},
   "outputs": [
    {
     "name": "stdout",
     "output_type": "stream",
     "text": [
      "Enter the number of rows: 5\n",
      "     1 \n",
      "    2 2 \n",
      "   3 3 3 \n",
      "  4 4 4 4 \n",
      " 5 5 5 5 5 \n"
     ]
    }
   ],
   "source": [
    "#PATTERN 25\n",
    "\n",
    "n=int(input(\"Enter the number of rows: \"))\n",
    "for i in range(1,n+1):\n",
    "    print(\" \"*(n-i),(str(i)+\" \")*i)\n",
    "#     print()"
   ]
  },
  {
   "cell_type": "code",
   "execution_count": 19,
   "id": "62e25672",
   "metadata": {},
   "outputs": [
    {
     "name": "stdout",
     "output_type": "stream",
     "text": [
      "Enter the number of rows: 5\n",
      "     1\n",
      "\n",
      "    22\n",
      "\n",
      "   333\n",
      "\n",
      "  4444\n",
      "\n",
      " 55555\n",
      "\n"
     ]
    }
   ],
   "source": [
    "n = int(input(\"Enter the number of rows: \"))\n",
    "for i in range(1,n+1):\n",
    "    print(' '*(n-i),((str(i))*i))\n",
    "    print()"
   ]
  },
  {
   "cell_type": "code",
   "execution_count": 25,
   "id": "a2c23e6b",
   "metadata": {},
   "outputs": [
    {
     "name": "stdout",
     "output_type": "stream",
     "text": [
      "enter row length: 5\n",
      "    1 \n",
      "   1 2 \n",
      "  1 2 3 \n",
      " 1 2 3 4 \n",
      "1 2 3 4 5 \n"
     ]
    }
   ],
   "source": [
    "#PATTERN 26\n",
    "\n",
    "n=int(input(\"enter row length: \"))\n",
    "for x in range(1,n+1):\n",
    "    print(\" \"*(n-x),end=\"\")\n",
    "    for y in range(1,x+1):\n",
    "        print(y,end=\" \")\n",
    "    print()"
   ]
  },
  {
   "cell_type": "code",
   "execution_count": 29,
   "id": "288c5405",
   "metadata": {},
   "outputs": [
    {
     "name": "stdout",
     "output_type": "stream",
     "text": [
      "enter row length: 6\n",
      "      A \n",
      "     B B \n",
      "    C C C \n",
      "   D D D D \n",
      "  E E E E E \n",
      " F F F F F F \n"
     ]
    }
   ],
   "source": [
    "#PATTERN 27\n",
    "\n",
    "n=int(input(\"enter row length: \"))\n",
    "for x in range(1,n+1):\n",
    "    print(\" \"*(n-x),(chr(64+x)+\" \")*x)\n",
    "#     print()"
   ]
  },
  {
   "cell_type": "code",
   "execution_count": 33,
   "id": "8e4c495f",
   "metadata": {},
   "outputs": [
    {
     "name": "stdout",
     "output_type": "stream",
     "text": [
      "enter row length: 5\n",
      "    A \n",
      "   A B \n",
      "  A B C \n",
      " A B C D \n",
      "A B C D E \n"
     ]
    }
   ],
   "source": [
    "#PATTERN 28\n",
    "\n",
    "n=int(input(\"enter row length: \"))\n",
    "for x in range(1,n+1):\n",
    "    print(\" \"*(n-x),end=\"\")\n",
    "    for y in range(1,x+1):\n",
    "        print(chr(64+y),end=\" \")\n",
    "    print()"
   ]
  },
  {
   "cell_type": "code",
   "execution_count": 1,
   "id": "10af7591",
   "metadata": {},
   "outputs": [
    {
     "name": "stdout",
     "output_type": "stream",
     "text": [
      "Enter the number of rows: 5\n",
      " 11111\n",
      "  2222\n",
      "   333\n",
      "    44\n",
      "     5\n"
     ]
    }
   ],
   "source": [
    "#PATTERN 30\n",
    "\n",
    "n=int(input(\"Enter the number of rows: \"))\n",
    "for i in range(1,n+1):\n",
    "    print(\" \"*(i-1),str(i)*(n+1-i))"
   ]
  },
  {
   "cell_type": "code",
   "execution_count": 2,
   "id": "d72c92e7",
   "metadata": {},
   "outputs": [
    {
     "name": "stdout",
     "output_type": "stream",
     "text": [
      "Enter the number of rows: 4\n",
      " 4444\n",
      "  333\n",
      "   22\n",
      "    1\n"
     ]
    }
   ],
   "source": [
    "#PATTERN 30.b\n",
    "\n",
    "n=int(input(\"Enter the number of rows: \"))\n",
    "for i in range(1,n+1):\n",
    "    print(\" \"*(i-1),str(n+1-i)*(n+1-i))"
   ]
  },
  {
   "cell_type": "code",
   "execution_count": null,
   "id": "f5a8bfb8",
   "metadata": {},
   "outputs": [],
   "source": [
    "#PATTERN 31\n",
    "n=int(input(\"Enter the number of rows: \"))\n",
    "for i in range(1,n+1):\n",
    "    print(\" \"*(i-1),end=' ')\n",
    "    for j in range(1,n+2-i):\n",
    "        print(j,end=\"\")\n",
    "    print()"
   ]
  },
  {
   "cell_type": "code",
   "execution_count": 3,
   "id": "70a20ce2",
   "metadata": {},
   "outputs": [
    {
     "name": "stdout",
     "output_type": "stream",
     "text": [
      "Enter the number of rows: 5\n",
      " 5 5 5 5 5 \n",
      "  4 4 4 4 \n",
      "   3 3 3 \n",
      "    2 2 \n",
      "     1 \n"
     ]
    }
   ],
   "source": [
    "#PATTERN 30.c\n",
    "\n",
    "n=int(input(\"Enter the number of rows: \"))\n",
    "for i in range(1,n+1):\n",
    "    print(\" \"*(i-1),(str(n+1-i)+\" \")*(n+1-i))"
   ]
  },
  {
   "cell_type": "code",
   "execution_count": 4,
   "id": "d61cfc2e",
   "metadata": {},
   "outputs": [
    {
     "name": "stdout",
     "output_type": "stream",
     "text": [
      "Enter the number of rows: 5\n",
      "1 2 3 4 5 \n",
      " 1 2 3 4 \n",
      "  1 2 3 \n",
      "   1 2 \n",
      "    1 \n"
     ]
    }
   ],
   "source": [
    "#PATTERN 31\n",
    "n=int(input(\"Enter the number of rows: \"))\n",
    "for i in range(1,n+1):\n",
    "    print(\" \"*(i-1),end=\"\")\n",
    "    for j in range(1,n+2-i):\n",
    "        print(j,end=\" \")\n",
    "    print()"
   ]
  },
  {
   "cell_type": "code",
   "execution_count": 6,
   "id": "9093ff5c",
   "metadata": {},
   "outputs": [
    {
     "name": "stdout",
     "output_type": "stream",
     "text": [
      "Enter the number of rows: 5\n",
      " E E E E E \n",
      "  D D D D \n",
      "   C C C \n",
      "    B B \n",
      "     A \n"
     ]
    }
   ],
   "source": [
    "#PATTERN 32\n",
    "n=int(input(\"Enter the number of rows: \"))\n",
    "for i in range(1,n+1):\n",
    "    print(\" \"*(i-1),(str(chr(65+n-i))+\" \")*(n+1-i))"
   ]
  },
  {
   "cell_type": "code",
   "execution_count": 7,
   "id": "4a713035",
   "metadata": {},
   "outputs": [
    {
     "name": "stdout",
     "output_type": "stream",
     "text": [
      "Enter the number of rows: 6\n",
      " FFFFFF\n",
      "  EEEEE\n",
      "   DDDD\n",
      "    CCC\n",
      "     BB\n",
      "      A\n"
     ]
    }
   ],
   "source": [
    "#PATTERN 32\n",
    "n=int(input(\"Enter the number of rows: \"))\n",
    "for i in range(1,n+1):\n",
    "    print(\" \"*(i-1),(str(chr(65+n-i)))*(n+1-i))"
   ]
  },
  {
   "cell_type": "code",
   "execution_count": 8,
   "id": "87a9ac32",
   "metadata": {},
   "outputs": [
    {
     "name": "stdout",
     "output_type": "stream",
     "text": [
      "Enter the number of rows: 5\n",
      "A B C D E \n",
      " A B C D \n",
      "  A B C \n",
      "   A B \n",
      "    A \n"
     ]
    }
   ],
   "source": [
    "#PATTERN 33\n",
    "\n",
    "n=int(input(\"Enter the number of rows: \"))\n",
    "for i in range(1,n+1):\n",
    "    print(\" \"*(i-1),end=\"\")\n",
    "    for j in range(65,66+n-i):\n",
    "        print(chr(j),end=\" \")\n",
    "    print()"
   ]
  },
  {
   "cell_type": "code",
   "execution_count": null,
   "id": "7ae61c29",
   "metadata": {},
   "outputs": [],
   "source": [
    "#PATTERN 33\n",
    "\n",
    "n=int(input(\"Enter the number of rows: \"))\n",
    "for i in range(1,n+1):\n",
    "    print(\" \"*(i-1),end=\"\")\n",
    "    for j in range(65,66+n-i):\n",
    "        print(chr(j),end=\"\")\n",
    "    print()"
   ]
  },
  {
   "cell_type": "code",
   "execution_count": 10,
   "id": "7da30b98",
   "metadata": {},
   "outputs": [
    {
     "name": "stdout",
     "output_type": "stream",
     "text": [
      "Enter the number of rows: 5\n",
      "     1\n",
      "    222\n",
      "   33333\n",
      "  4444444\n",
      " 555555555\n"
     ]
    }
   ],
   "source": [
    "#PATTERN 35\n",
    "n=int(input(\"Enter the number of rows: \"))\n",
    "for i in range(1,n+1):\n",
    "    print(\" \"*(n-i),(str(i))*(2*i-1))"
   ]
  },
  {
   "cell_type": "code",
   "execution_count": null,
   "id": "028abaf4",
   "metadata": {},
   "outputs": [],
   "source": []
  },
  {
   "cell_type": "code",
   "execution_count": 9,
   "id": "84f40ac6",
   "metadata": {},
   "outputs": [
    {
     "name": "stdout",
     "output_type": "stream",
     "text": [
      "Enter the number of rows: 6\n",
      "      A\n",
      "     BBB\n",
      "    CCCCC\n",
      "   DDDDDDD\n",
      "  EEEEEEEEE\n",
      " FFFFFFFFFFF\n"
     ]
    }
   ],
   "source": [
    "#PATTERN 36\n",
    "n=int(input(\"Enter the number of rows: \"))\n",
    "for i in range(1,n+1):\n",
    "    print(\" \"*(n-i),(str(chr(64+i)))*(2*i-1))"
   ]
  },
  {
   "cell_type": "code",
   "execution_count": 11,
   "id": "fce895de",
   "metadata": {},
   "outputs": [
    {
     "name": "stdout",
     "output_type": "stream",
     "text": [
      "Enter the number of rows: 5\n",
      "     A\n",
      "    CCC\n",
      "   EEEEE\n",
      "  GGGGGGG\n",
      " IIIIIIIII\n"
     ]
    }
   ],
   "source": [
    "#PATTERN 37\n",
    "n=int(input(\"Enter the number of rows: \"))\n",
    "for i in range(1,n+1):\n",
    "    print(\" \"*(n-i),(str(chr(64+2*i-1)))*(2*i-1))"
   ]
  },
  {
   "cell_type": "code",
   "execution_count": 12,
   "id": "13cd3b10",
   "metadata": {},
   "outputs": [
    {
     "name": "stdout",
     "output_type": "stream",
     "text": [
      "Enter the number of rows: 5\n",
      "     B\n",
      "    EEE\n",
      "   HHHHH\n",
      "  KKKKKKK\n",
      " NNNNNNNNN\n"
     ]
    }
   ],
   "source": [
    "#PATTERN 37\n",
    "n=int(input(\"Enter the number of rows: \"))\n",
    "for i in range(1,n+1):\n",
    "    print(\" \"*(n-i),(str(chr(64+3*i-1)))*(2*i-1))"
   ]
  },
  {
   "cell_type": "code",
   "execution_count": 13,
   "id": "d0258cc7",
   "metadata": {},
   "outputs": [
    {
     "name": "stdout",
     "output_type": "stream",
     "text": [
      "Enter the number of rows: 5\n",
      "    1\n",
      "   123\n",
      "  12345\n",
      " 1234567\n",
      "123456789\n"
     ]
    }
   ],
   "source": [
    "#PATTERN 38\n",
    "n=int(input(\"Enter the number of rows: \"))\n",
    "for i in range(1,n+1):\n",
    "    print(\" \"*(n-i),end=\"\")\n",
    "    for j in range(1,2*i):\n",
    "        print(j,end=\"\")\n",
    "    print()"
   ]
  },
  {
   "cell_type": "code",
   "execution_count": 14,
   "id": "ea1a30c5",
   "metadata": {},
   "outputs": [
    {
     "name": "stdout",
     "output_type": "stream",
     "text": [
      "Enter the number of rows: 5\n",
      "    1\n",
      "   321\n",
      "  54321\n",
      " 7654321\n",
      "987654321\n"
     ]
    }
   ],
   "source": [
    "#PATTERN 39.a\n",
    "n=int(input(\"Enter the number of rows: \"))\n",
    "for i in range(1,n+1):\n",
    "    print(\" \"*(n-i),end=\"\")\n",
    "    for j in range(2*i-1,0,-1):\n",
    "        print(j,end=\"\")\n",
    "    print()"
   ]
  },
  {
   "cell_type": "code",
   "execution_count": 15,
   "id": "5ab8be0d",
   "metadata": {},
   "outputs": [
    {
     "name": "stdout",
     "output_type": "stream",
     "text": [
      "Enter the number of rows: 5\n",
      "    2\n",
      "   432\n",
      "  65432\n",
      " 8765432\n",
      "1098765432\n"
     ]
    }
   ],
   "source": [
    "#PATTERN 39.b\n",
    "n=int(input(\"Enter the number of rows: \"))\n",
    "for i in range(1,n+1):\n",
    "    print(\" \"*(n-i),end=\"\")\n",
    "    for j in range(2*i,1,-1):\n",
    "        print(j,end=\"\")\n",
    "    print()"
   ]
  },
  {
   "cell_type": "code",
   "execution_count": 16,
   "id": "76ea8226",
   "metadata": {},
   "outputs": [
    {
     "name": "stdout",
     "output_type": "stream",
     "text": [
      "Enter the number of rows: 5\n",
      "    21\n",
      "   4321\n",
      "  654321\n",
      " 87654321\n",
      "10987654321\n"
     ]
    }
   ],
   "source": [
    "#PATTERN 39.c\n",
    "\n",
    "n=int(input(\"Enter the number of rows: \"))\n",
    "for i in range(1,n+1):\n",
    "    print(\" \"*(n-i),end=\"\")\n",
    "    for j in range(2*i,0,-1):\n",
    "        print(j,end=\"\")\n",
    "    print()"
   ]
  },
  {
   "cell_type": "code",
   "execution_count": null,
   "id": "8fbe7e83",
   "metadata": {},
   "outputs": [],
   "source": [
    "#PATTERN 40\n",
    "n=int(input(\"Enter the number of rows: \"))\n",
    "for i in range(1,n+1):\n",
    "    print(\" \"*(n-i),end=\"\")\n",
    "    for j in range(65,65+2*i-1):\n",
    "        print(chr(j),end=\"\")\n",
    "    print()"
   ]
  },
  {
   "cell_type": "code",
   "execution_count": null,
   "id": "200f9aa4",
   "metadata": {},
   "outputs": [],
   "source": [
    "#PATTERN 41\n",
    "n=int(input(\"Enter the number of rows: \"))\n",
    "for i in range(1,n+1):\n",
    "    print(\" \"*(n-i),end=\"\")\n",
    "    for j in range(65+2*i-2,64,-1):\n",
    "        print(chr(j),end=\"\")\n",
    "    print()"
   ]
  },
  {
   "cell_type": "code",
   "execution_count": 17,
   "id": "6979ff63",
   "metadata": {},
   "outputs": [
    {
     "name": "stdout",
     "output_type": "stream",
     "text": [
      "Enter the number of rows: 5\n",
      "    0\n",
      "   101\n",
      "  21012\n",
      " 3210123\n",
      "432101234\n"
     ]
    }
   ],
   "source": [
    "#PATTERN 42\n",
    "n=int(input(\"Enter the number of rows: \"))\n",
    "for i in range(1,n+1):\n",
    "    print(\" \"*(n-i),end=\"\")\n",
    "    for j in range(1,i):\n",
    "        print(i-j,end=\"\")\n",
    "    for k in range(0,i):\n",
    "        print(k,end=\"\")\n",
    "    print()"
   ]
  },
  {
   "cell_type": "code",
   "execution_count": 29,
   "id": "9e96fb1e",
   "metadata": {},
   "outputs": [
    {
     "name": "stdout",
     "output_type": "stream",
     "text": [
      "Enter the number of rows: 5\n",
      "    A\n",
      "   BAB\n",
      "  CBABC\n",
      " DCBABCD\n",
      "EDCBABCDE\n"
     ]
    }
   ],
   "source": [
    "#PATTERN 43\n",
    "n=int(input(\"Enter the number of rows: \"))\n",
    "for i in range(1,n+1):\n",
    "    print(\" \"*(n-i),end=\"\")\n",
    "    for j in range(1,i):\n",
    "        print(chr(i-j+65),end=\"\")\n",
    "    for k in range(0,i):\n",
    "        print(chr(k+65),end=\"\")\n",
    "    print()"
   ]
  },
  {
   "cell_type": "code",
   "execution_count": 28,
   "id": "6d6612a9",
   "metadata": {},
   "outputs": [
    {
     "name": "stdout",
     "output_type": "stream",
     "text": [
      "Enter the number of rows: 5\n",
      "    1\n",
      "   121\n",
      "  12321\n",
      " 1234321\n",
      "123454321\n"
     ]
    }
   ],
   "source": [
    "#PATTERN 44\n",
    "n=int(input(\"Enter the number of rows: \"))\n",
    "for i in range(1,n+1):\n",
    "    print(\" \"*(n-i),end=\"\")\n",
    "    for j in range(1,i+1):\n",
    "        print(j,end=\"\")\n",
    "    for k in range(i-1,0,-1):\n",
    "        print(k,end=\"\")\n",
    "    print()"
   ]
  },
  {
   "cell_type": "code",
   "execution_count": 27,
   "id": "f8cd0ee0",
   "metadata": {},
   "outputs": [
    {
     "name": "stdout",
     "output_type": "stream",
     "text": [
      "Enter the number of rows: 5\n",
      "    A\n",
      "   ABA\n",
      "  ABCAB\n",
      " ABCDABC\n",
      "ABCDEABCD\n"
     ]
    }
   ],
   "source": [
    "#PATTERN 45\n",
    "n=int(input(\"Enter the number of rows: \"))\n",
    "for i in range(1,n+1):\n",
    "    print(\" \"*(n-i),end=\"\")\n",
    "    for j in range(1,i+1):\n",
    "        print(chr(64+j),end=\"\")\n",
    "    for k in range(1,i):\n",
    "        print(chr(64+k),end=\"\")\n",
    "    print()"
   ]
  },
  {
   "cell_type": "code",
   "execution_count": 26,
   "id": "7ae39e55",
   "metadata": {},
   "outputs": [
    {
     "name": "stdout",
     "output_type": "stream",
     "text": [
      "Enter a number:5\n",
      "    5\n",
      "   54\n",
      "  543\n",
      " 5432\n",
      "54321\n"
     ]
    }
   ],
   "source": [
    "#PATTERN 46.A\n",
    "n=int(input(\"Enter a number:\"))\n",
    "for i in range(1,n+1):\n",
    "    print(\" \"*(n-i),end=\"\")\n",
    "    for j in range(1,i+1):\n",
    "        print(n+1-j,end=\"\")\n",
    "    print()"
   ]
  },
  {
   "cell_type": "code",
   "execution_count": 25,
   "id": "d620f353",
   "metadata": {},
   "outputs": [
    {
     "name": "stdout",
     "output_type": "stream",
     "text": [
      "Enter a number:5\n",
      "    5 \n",
      "   5 4 \n",
      "  5 4 3 \n",
      " 5 4 3 2 \n",
      "5 4 3 2 1 \n"
     ]
    }
   ],
   "source": [
    "#PATTERN 46.B\n",
    "n=int(input(\"Enter a number:\"))\n",
    "for i in range(1,n+1):\n",
    "    print(\" \"*(n-i),end=\"\")\n",
    "    for j in range(1,i+1):\n",
    "        print(n-j+1,end=\" \")\n",
    "    print()"
   ]
  },
  {
   "cell_type": "code",
   "execution_count": 22,
   "id": "9da5146e",
   "metadata": {},
   "outputs": [
    {
     "name": "stdout",
     "output_type": "stream",
     "text": [
      "Enter a number:5\n",
      "* * * * * * * * * \n",
      " * * * * * * * \n",
      "  * * * * * \n",
      "   * * * \n",
      "    * \n"
     ]
    }
   ],
   "source": [
    "#PATTERN 47.a\n",
    "num=int(input(\"Enter a number:\"))\n",
    "for i in range(1,num+1):\n",
    "    print(\" \"*(i-1),end=\"\")\n",
    "    for j in range(1,num+2-i):\n",
    "        print(\"*\",end=\" \")\n",
    "    for k in range(1,num+1-i):\n",
    "        print(\"*\",end=\" \")\n",
    "    print()"
   ]
  },
  {
   "cell_type": "code",
   "execution_count": 23,
   "id": "ea7a43ba",
   "metadata": {},
   "outputs": [
    {
     "name": "stdout",
     "output_type": "stream",
     "text": [
      "Enter a number:5\n",
      "*********\n",
      " *******\n",
      "  *****\n",
      "   ***\n",
      "    *\n"
     ]
    }
   ],
   "source": [
    "#PATTERN 47.b\n",
    "num=int(input(\"Enter a number:\"))\n",
    "for i in range(1,num+1):\n",
    "    print(\" \"*(i-1),end=\"\")\n",
    "    for j in range(1,num+2-i):\n",
    "        print(\"*\",end=\"\")\n",
    "    for k in range(1,num+1-i):\n",
    "        print(\"*\",end=\"\")\n",
    "    print()"
   ]
  },
  {
   "cell_type": "code",
   "execution_count": 24,
   "id": "367a317e",
   "metadata": {},
   "outputs": [
    {
     "name": "stdout",
     "output_type": "stream",
     "text": [
      "Enter a number:5\n",
      "* * * * * \n",
      " * * * * \n",
      "  * * * \n",
      "   * * \n",
      "    * \n"
     ]
    }
   ],
   "source": [
    "#PATTERN 47.c\n",
    "num=int(input(\"Enter a number:\"))\n",
    "for i in range(1,num+1):\n",
    "    print(\" \"*(i-1),end=\"\")\n",
    "    for j in range(1,num+2-i):\n",
    "        print(\"*\",end=\" \")\n",
    "    print()"
   ]
  },
  {
   "cell_type": "code",
   "execution_count": 21,
   "id": "47e9dc9b",
   "metadata": {},
   "outputs": [
    {
     "name": "stdout",
     "output_type": "stream",
     "text": [
      "Enter a number:5\n",
      "555555555\n",
      " 4444444\n",
      "  33333\n",
      "   222\n",
      "    1\n"
     ]
    }
   ],
   "source": [
    "#PATTERN 48.a\n",
    "num=int(input(\"Enter a number:\"))\n",
    "for i in range(1,num+1):\n",
    "    print(\" \"*(i-1),end=\"\")\n",
    "    for j in range(0,num+1-i):\n",
    "        print(num+1-i,end=\"\")\n",
    "    for k in range(1,num+1-i):\n",
    "        print(num+1-i,end=\"\")\n",
    "    print()"
   ]
  },
  {
   "cell_type": "code",
   "execution_count": 20,
   "id": "5f6329ae",
   "metadata": {},
   "outputs": [
    {
     "name": "stdout",
     "output_type": "stream",
     "text": [
      "Enter a number:5\n",
      "5555555555\n",
      " 44444444\n",
      "  333333\n",
      "   2222\n",
      "    11\n"
     ]
    }
   ],
   "source": [
    "#PATTERN 48.b\n",
    "num=int(input(\"Enter a number:\"))\n",
    "for i in range(1,num+1):\n",
    "    print(\" \"*(i-1),end=\"\")\n",
    "    for j in range(0,num+2-i):\n",
    "        print(num+1-i,end=\"\")\n",
    "    for k in range(1,num-i+1):\n",
    "        print(num+1-i,end=\"\")\n",
    "    print()\n"
   ]
  },
  {
   "cell_type": "code",
   "execution_count": 19,
   "id": "ff3fc373",
   "metadata": {},
   "outputs": [
    {
     "name": "stdout",
     "output_type": "stream",
     "text": [
      "Enter a number:5\n",
      "999999999\n",
      " 7777777\n",
      "  55555\n",
      "   333\n",
      "    1\n"
     ]
    }
   ],
   "source": [
    "#PATTERN 49\n",
    "\n",
    "num=int(input(\"Enter a number:\"))\n",
    "for i in range(1,num+1):\n",
    "    print(\" \"*(i-1),end=\"\")\n",
    "    for j in range(0,num+1-i):\n",
    "        print(2*num+1-2*i,end=\"\")\n",
    "    for k in range(1,num+1-i):\n",
    "        print(2*num+1-2*i,end=\"\")\n",
    "    print()"
   ]
  },
  {
   "cell_type": "code",
   "execution_count": null,
   "id": "3d5371bb",
   "metadata": {},
   "outputs": [],
   "source": []
  },
  {
   "cell_type": "code",
   "execution_count": 18,
   "id": "92c14ebd",
   "metadata": {},
   "outputs": [
    {
     "name": "stdout",
     "output_type": "stream",
     "text": [
      "Enter a number:5\n",
      "123456789\n",
      " 1234567\n",
      "  12345\n",
      "   123\n",
      "    1\n"
     ]
    }
   ],
   "source": [
    "#PATTERN 50\n",
    "num=int(input(\"Enter a number:\"))\n",
    "for i in range(1,num+1):\n",
    "    print(\" \"*(i-1),end=\"\")\n",
    "    for j in range(1,num+2-i):\n",
    "        print(j,end=\"\")\n",
    "    for k in range(2,num+2-i):\n",
    "        print(num+k-i,end=\"\")\n",
    "    print()"
   ]
  },
  {
   "cell_type": "code",
   "execution_count": null,
   "id": "38167459",
   "metadata": {},
   "outputs": [],
   "source": []
  }
 ],
 "metadata": {
  "kernelspec": {
   "display_name": "Python 3 (ipykernel)",
   "language": "python",
   "name": "python3"
  },
  "language_info": {
   "codemirror_mode": {
    "name": "ipython",
    "version": 3
   },
   "file_extension": ".py",
   "mimetype": "text/x-python",
   "name": "python",
   "nbconvert_exporter": "python",
   "pygments_lexer": "ipython3",
   "version": "3.11.5"
  }
 },
 "nbformat": 4,
 "nbformat_minor": 5
}
