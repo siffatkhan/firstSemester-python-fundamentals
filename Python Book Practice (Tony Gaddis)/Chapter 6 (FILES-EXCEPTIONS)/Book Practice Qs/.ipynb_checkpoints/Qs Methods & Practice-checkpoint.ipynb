{
 "cells": [
  {
   "cell_type": "code",
   "execution_count": 22,
   "id": "5b33df9e",
   "metadata": {},
   "outputs": [],
   "source": [
    "with open(\"file1.txt\",\"w\") as f:\n",
    "    f.write(\"hello world\\nits john wick\")\n",
    "    "
   ]
  },
  {
   "cell_type": "code",
   "execution_count": 27,
   "id": "f95aeef5",
   "metadata": {},
   "outputs": [],
   "source": [
    "#USING CREATE MODE Through X\n",
    "\n",
    "with open(\"file0.txt\",\"x\") as f:\n",
    "    None"
   ]
  },
  {
   "cell_type": "code",
   "execution_count": 36,
   "id": "2d002e20",
   "metadata": {},
   "outputs": [
    {
     "name": "stdout",
     "output_type": "stream",
     "text": [
      "\n",
      "its john wick\n"
     ]
    }
   ],
   "source": [
    "# USING SEEK FUNCTIONS\n",
    "\n",
    "with open(\"file1.txt\",\"r\") as f:\n",
    "    f.seek(11)            #Will read after 5 bytes means fifth characters\n",
    "    data=f.read()\n",
    "    print(data)\n",
    "    \n",
    "    #HERE IN OUTPUT IT HIDES CHARACTERS THAT HAS INDEX BELOW 12"
   ]
  },
  {
   "cell_type": "code",
   "execution_count": 1,
   "id": "5f4e5170",
   "metadata": {},
   "outputs": [],
   "source": [
    "# USING TELL() FUNCTION\n",
    "\n",
    "with open('file1.txt', 'r') as f:\n",
    "  # Read the first 10 bytes\n",
    "  data = f.read(10)\n",
    "\n",
    "  # Save the current position\n",
    "  current_position = f.tell()\n",
    "\n",
    "  # Seek to the saved position\n",
    "  f.seek(current_position)"
   ]
  },
  {
   "cell_type": "code",
   "execution_count": 39,
   "id": "c5346f80",
   "metadata": {},
   "outputs": [
    {
     "name": "stdout",
     "output_type": "stream",
     "text": [
      "Hello\n"
     ]
    }
   ],
   "source": [
    "\n",
    "# USING TRUNCATE() FUNCTION\n",
    "#WITH TRUNCATE WE CAN TRIM CHARACTERS AFTER OUR DESIRED CHARACTER NUMBER\n",
    "# WORK ONLY DURING WRITING\n",
    "\n",
    "with open('sample.txt', 'w') as f:\n",
    "  f.write('Hello World!')\n",
    "  f.truncate(5)\n",
    "\n",
    "with open('sample.txt', 'r') as f:\n",
    "  print(f.read())"
   ]
  },
  {
   "cell_type": "code",
   "execution_count": 24,
   "id": "0854b325",
   "metadata": {},
   "outputs": [
    {
     "name": "stdout",
     "output_type": "stream",
     "text": [
      "hello world\n",
      "its john wick\n",
      "\n"
     ]
    }
   ],
   "source": [
    "with open(\"file1.txt\",\"r\") as f:\n",
    "    print(f.read())   # OR USE BELOW METHOD\n",
    "    \n",
    "    f1=f.read()\n",
    "    print(f1)\n",
    "    "
   ]
  },
  {
   "cell_type": "code",
   "execution_count": 25,
   "id": "c173ec1e",
   "metadata": {},
   "outputs": [
    {
     "name": "stdout",
     "output_type": "stream",
     "text": [
      "hello world\n",
      "\n",
      "\n",
      "its john wick\n"
     ]
    }
   ],
   "source": [
    "with open(\"file1.txt\",\"r\") as f:\n",
    "    print(f.readline())\n",
    "    print()\n",
    "    print(f.readline())"
   ]
  },
  {
   "cell_type": "code",
   "execution_count": 16,
   "id": "8bd69593",
   "metadata": {},
   "outputs": [],
   "source": [
    "with open(\"file2.txt\",\"w\") as f:\n",
    "    f.write(\"khanji\")\n",
    "    f.write(\"aslam wali\")\n",
    "    f.write(\"\\n\")\n",
    "    f.write(\"\\n\")\n",
    "    f.write(\"he is the most talented student of our class\")\n",
    "    f.write(\"also he   know how to be down to earth\")\n",
    "    \n",
    "    \n",
    "    "
   ]
  },
  {
   "cell_type": "code",
   "execution_count": 18,
   "id": "9c7cd4a9",
   "metadata": {},
   "outputs": [
    {
     "name": "stdout",
     "output_type": "stream",
     "text": [
      "khanjiaslam wali\n",
      "\n",
      "\n",
      "\n",
      "he is the most talented student of our classalso he   know how to be down to earth\n"
     ]
    }
   ],
   "source": [
    "with open(\"file2.txt\",\"r\") as f :\n",
    "    print(f.readline())\n",
    "    print(f.readline())   #TRY TO PRINT THE EMPTY LINE IN FILE2\n",
    "    print(f.readline())"
   ]
  },
  {
   "cell_type": "code",
   "execution_count": 21,
   "id": "5bd307b2",
   "metadata": {},
   "outputs": [
    {
     "name": "stdout",
     "output_type": "stream",
     "text": [
      "Enter three friends names: \n",
      "Friend # 1: wali\n",
      "Friend # 2: khan\n",
      "Friend # 3: saad\n",
      "\n",
      "All these names are wroted in file\n"
     ]
    }
   ],
   "source": [
    "def main():\n",
    "    print(\"Enter three friends names: \")\n",
    "    name1=input(\"Friend # 1: \")\n",
    "    name2=input(\"Friend # 2: \")\n",
    "    name3=input(\"Friend # 3: \")\n",
    "    \n",
    "    with open(\"file3.txt\",\"w\") as f:\n",
    "        f.write(name1+\"\\n\")\n",
    "        f.write(name2+\"\\n\")\n",
    "        f.write(name3+\"\\n\")\n",
    "    print()\n",
    "    print(\"All these names are wroted in file\")\n",
    "        \n",
    "main()\n",
    "        \n",
    "        "
   ]
  },
  {
   "cell_type": "code",
   "execution_count": 27,
   "id": "429af76e",
   "metadata": {},
   "outputs": [
    {
     "name": "stdout",
     "output_type": "stream",
     "text": [
      "wali\n",
      "khan\n",
      "saad\n",
      "\n"
     ]
    }
   ],
   "source": [
    "with open(\"file3.txt\",\"r\") as f:\n",
    "    f1=f.read()\n",
    "    print(f1)\n",
    "    \n",
    "# HERE WE DONT SEE ANY BLANK LINE BETWEEN THE FILES OUTPUT LINES"
   ]
  },
  {
   "cell_type": "code",
   "execution_count": 28,
   "id": "1ea88796",
   "metadata": {},
   "outputs": [
    {
     "name": "stdout",
     "output_type": "stream",
     "text": [
      "wali\n",
      "\n",
      "khan\n",
      "\n",
      "saad\n",
      "\n"
     ]
    }
   ],
   "source": [
    "with open(\"file3.txt\",\"r\") as f:\n",
    "    print(f.readline())\n",
    "    print(f.readline())\n",
    "    print(f.readline())\n",
    "    \n",
    "# HERE IT SHOW A BLANK LINE BETWEEN THE LINE DUE TO \\N CHARACTER."
   ]
  },
  {
   "cell_type": "code",
   "execution_count": 35,
   "id": "ba38df82",
   "metadata": {},
   "outputs": [
    {
     "name": "stdout",
     "output_type": "stream",
     "text": [
      "wali\n",
      "\n",
      "khan\n",
      "\n",
      "saad\n",
      "\n",
      "=======================================\n",
      "CHECK THE DIFFERENCE AFTER STRIPING (N ESCAPE CHAR)\n",
      "\n",
      "wali\n",
      "khan\n",
      "saad\n"
     ]
    }
   ],
   "source": [
    "# HERE WE R REMOVING BLANK LINE THAT APPEAR DUE TO /N CHARACTER \n",
    "# ONLY WHEN READING FILE LINE BY LINE\n",
    "\n",
    "with open(\"file3.txt\",\"r\") as f:\n",
    "    \n",
    "    line1=f.readline()\n",
    "    line2=f.readline()\n",
    "    line3=f.readline()\n",
    "    \n",
    "    print(line1)\n",
    "    print(line2)\n",
    "    print(line3)\n",
    "    print(\"=======================================\")\n",
    "    print(\"CHECK THE DIFFERENCE AFTER STRIPING (N ESCAPE CHAR)\")\n",
    "    print()\n",
    "    \n",
    "    line1=line1.rstrip(\"\\n\")\n",
    "    line2=line2.rstrip(\"\\n\")\n",
    "    line3=line3.rstrip(\"\\n\")\n",
    "    \n",
    "    print(line1)\n",
    "    print(line2)\n",
    "    print(line3)\n",
    "\n",
    "\n",
    "       "
   ]
  },
  {
   "cell_type": "code",
   "execution_count": 40,
   "id": "8a6486af",
   "metadata": {},
   "outputs": [],
   "source": [
    "with open(\"file3.txt\",\"a\") as f:\n",
    "    f.write(\"\\n\\nAPPENDING New Value to it\\n\")\n",
    "    f.write(\"hello world\"+\"\\n\")\n",
    "    f.write(\"kudos...1\")\n",
    "    "
   ]
  },
  {
   "cell_type": "code",
   "execution_count": 59,
   "id": "e55182a7",
   "metadata": {},
   "outputs": [
    {
     "name": "stdout",
     "output_type": "stream",
     "text": [
      "enter your marks: 45\n",
      "enter your marks: 50\n",
      "enter your marks: 55\n"
     ]
    }
   ],
   "source": [
    "# WRITING NUMERIC VALUES TO FILE\n",
    "\n",
    "with open(\"file4.txt\",\"w\") as f:\n",
    "    \n",
    "    f.write(str(789)+\"\\n\")             # FIRST METHOD\n",
    "  \n",
    "    num1=int(input(\"enter your marks: \"))   # SECOND METHOD TAKING INPUT \n",
    "    num2=int(input(\"enter your marks: \"))\n",
    "    num3=int(input(\"enter your marks: \"))\n",
    "    \n",
    "    f.write(str(num1)+\"\\n\")\n",
    "    f.write(str(num2)+\"\\n\")\n",
    "    f.write(str(num3)+\"\\n\")\n",
    "    \n",
    "    \n",
    "    \n",
    "    \n",
    "    \n",
    "    "
   ]
  },
  {
   "cell_type": "code",
   "execution_count": 60,
   "id": "886b24f9",
   "metadata": {},
   "outputs": [
    {
     "name": "stdout",
     "output_type": "stream",
     "text": [
      "789\n",
      "45\n",
      "50\n",
      "55\n",
      "\n"
     ]
    }
   ],
   "source": [
    "# READING NUMERIC VALUES FROM FILES\n",
    "\n",
    "with open(\"file4.txt\",\"r\") as f:\n",
    "    f1=f.read()\n",
    "    print(f1)\n",
    "#     f2=int(f1)       #NOT POSSIBLE BECAUSE IT HAS \\N ATTACHED TO IT  \n",
    "#     print(f2+4)    #ERROR ITS NOT POSSIBLE TO ADD 4 TO WHOLE FILES\n",
    "  "
   ]
  },
  {
   "cell_type": "code",
   "execution_count": 63,
   "id": "faa4d1fb",
   "metadata": {},
   "outputs": [
    {
     "name": "stdout",
     "output_type": "stream",
     "text": [
      "789\n",
      "\n",
      "45\n",
      "\n",
      "50\n",
      "\n",
      "55\n",
      "\n"
     ]
    }
   ],
   "source": [
    "with open(\"file4.txt\",\"r\") as f:\n",
    "      \n",
    "    print(f.readline())\n",
    "    print(f.readline())\n",
    "    print(f.readline())\n",
    "    print(f.readline())\n",
    "    \n",
    "    \n",
    "    \n",
    "    \n",
    "    "
   ]
  },
  {
   "cell_type": "code",
   "execution_count": 9,
   "id": "196cfd2f",
   "metadata": {},
   "outputs": [
    {
     "name": "stdout",
     "output_type": "stream",
     "text": [
      "789\n",
      "\n",
      "798   [9 IS ADDED TO 789]\n",
      "yes it is\n",
      "\n",
      "51   [6 IS ADDED TO 45]\n",
      "50\n",
      "\n",
      "55\n",
      "\n"
     ]
    }
   ],
   "source": [
    "with open(\"file4.txt\",\"r\") as f:\n",
    "    x1=f.readline()\n",
    "#     print(type(x1))\n",
    "#     x1=x1.rstrip(\"\\n\")  #DONT NEED OF THIS ACTION BCX AUTOMATICALLY IT IGNORES \\N \n",
    "    x2=int(x1)\n",
    "    print(x2)\n",
    "#     print(type(x2))\n",
    "    print()\n",
    "    print(x2+9,\"  [9 IS ADDED TO 789]\")\n",
    "    x3=int(f.readline())          #BEST METHOD FOR CONVERSION\n",
    "    if x3==45:\n",
    "        print(\"yes it is\")\n",
    "        print()\n",
    "    else:\n",
    "        (\"no\")\n",
    "        print()\n",
    "    print(x3+6,\"  [6 IS ADDED TO 45]\")       \n",
    "#     print(type(x3))\n",
    "\n",
    "\n",
    "    print(f.readline())         #THESE VALUES ARE STILL STRING \n",
    "    print(f.readline())"
   ]
  },
  {
   "cell_type": "code",
   "execution_count": 18,
   "id": "cfd370a4",
   "metadata": {},
   "outputs": [
    {
     "name": "stdout",
     "output_type": "stream",
     "text": [
      "Enter total days of sales: 5\n",
      "Enter the sales for day #1: 45\n",
      "Enter the sales for day #2: 56\n",
      "Enter the sales for day #3: 67\n",
      "Enter the sales for day #4: 78\n",
      "Enter the sales for day #5: 89\n"
     ]
    }
   ],
   "source": [
    "# WRITING TROUGH LOOP \n",
    "\n",
    "with open(\"file5.txt\",\"w\") as f:\n",
    "    days=int(input(\"Enter total days of sales: \"))\n",
    "    \n",
    "    for x in range(1,days+1):\n",
    "        sales=float(input('Enter the sales for day #' +\n",
    "                        str(x) + ': '))     #CONCATENATE ALL THE STRINGS\n",
    "\n",
    "#         sales=int(input(f\"Enter {x} day sales: \"))\n",
    "        f.write(str(sales)+\"\\n\")\n",
    "        \n",
    "        \n",
    "    "
   ]
  },
  {
   "cell_type": "code",
   "execution_count": 2,
   "id": "024d0d06",
   "metadata": {},
   "outputs": [
    {
     "name": "stdout",
     "output_type": "stream",
     "text": [
      "45.00\n",
      "56.00\n",
      "67.00\n",
      "78.00\n",
      "89.00\n"
     ]
    }
   ],
   "source": [
    "# READING THROUGH WHILE LOOP\n",
    "\n",
    "with open(\"file5.txt\",\"r\") as f:\n",
    "    value=f.readline()   # FOR READING 1ST LINE SO CAN BE USED AS CONDITION\n",
    "    while value!=\"\":\n",
    "        amount=float(value)\n",
    "        print(format(amount,'.2f'))\n",
    "        value=f.readline()"
   ]
  },
  {
   "cell_type": "code",
   "execution_count": 30,
   "id": "5ed5dc5a",
   "metadata": {},
   "outputs": [
    {
     "name": "stdout",
     "output_type": "stream",
     "text": [
      "45.0\n",
      "\n",
      "56.0\n",
      "\n",
      "67.0\n",
      "\n",
      "78.0\n",
      "\n",
      "89.0\n",
      "\n"
     ]
    }
   ],
   "source": [
    "# READING THROUGH WHILE LOOP\n",
    "\n",
    "with open(\"file5.txt\",\"r\") as f:\n",
    "    while True:\n",
    "        value=f.readline()\n",
    "        if not value:\n",
    "            break\n",
    "#         else:\n",
    "        print(value)\n",
    "        \n"
   ]
  },
  {
   "cell_type": "code",
   "execution_count": 23,
   "id": "63a15c77",
   "metadata": {},
   "outputs": [
    {
     "name": "stdout",
     "output_type": "stream",
     "text": [
      "45.00\n",
      "56.00\n",
      "67.00\n",
      "78.00\n",
      "89.00\n",
      "\n",
      "Done\n"
     ]
    }
   ],
   "source": [
    "# READING THROUGH FOR LOOP \n",
    "\n",
    "with open(\"file5.txt\",\"r\") as f:     #CAN USE BOTH METHODS\n",
    "# f=open(\"file5.txt\",\"r\")\n",
    "    for x in f:\n",
    "        amount=float(x)\n",
    "        print(format(amount,'.2f'))\n",
    "        \n",
    "    print(\"\\nDone\")\n",
    "        \n",
    "        "
   ]
  },
  {
   "cell_type": "code",
   "execution_count": null,
   "id": "bd204b6e",
   "metadata": {},
   "outputs": [],
   "source": []
  }
 ],
 "metadata": {
  "kernelspec": {
   "display_name": "Python 3 (ipykernel)",
   "language": "python",
   "name": "python3"
  },
  "language_info": {
   "codemirror_mode": {
    "name": "ipython",
    "version": 3
   },
   "file_extension": ".py",
   "mimetype": "text/x-python",
   "name": "python",
   "nbconvert_exporter": "python",
   "pygments_lexer": "ipython3",
   "version": "3.11.5"
  }
 },
 "nbformat": 4,
 "nbformat_minor": 5
}
