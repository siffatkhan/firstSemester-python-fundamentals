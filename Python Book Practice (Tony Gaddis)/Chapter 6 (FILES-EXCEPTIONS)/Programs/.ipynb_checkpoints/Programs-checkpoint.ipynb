{
 "cells": [
  {
   "cell_type": "code",
   "execution_count": 1,
   "id": "0c1b9294",
   "metadata": {},
   "outputs": [
    {
     "name": "stdout",
     "output_type": "stream",
     "text": [
      "file name: file2.txt\n",
      "1 : Sunlight danced on the rippling stream.\n",
      "2 : Laughter echoed through the old oak grove.\n",
      "3 : Stars whispered secrets in the velvet night.\n",
      "4 : Petals unfurled, embracing the morning dew.\n",
      "5 : Shadows danced in the flickering candlelight.\n"
     ]
    }
   ],
   "source": [
    "#.2&3 COMPLETE\n",
    "file=input(\"file name: \")\n",
    "with open(file,\"r\") as f:\n",
    "    count=1\n",
    "    first=f.readline()\n",
    "    while first!=\"\":\n",
    "        first=first.rstrip(\"\\n\")\n",
    "        if count<6:\n",
    "            print(count,\":\",first)\n",
    "        first=f.readline()\n",
    "        count+=1\n",
    "       "
   ]
  },
  {
   "cell_type": "code",
   "execution_count": 35,
   "id": "bfe710b6",
   "metadata": {},
   "outputs": [
    {
     "name": "stdout",
     "output_type": "stream",
     "text": [
      "file name: score4.txt\n",
      "\n",
      "The Grace score highest:95\n",
      "Totals records: 10\n"
     ]
    }
   ],
   "source": [
    "#.4 COMPLETE\n",
    "file=input(\"file name: \")\n",
    "with open(file,\"r\") as f:\n",
    "    count=highest=0\n",
    "    first=f.readline()\n",
    "    while first!=\"\":\n",
    "        first=first.rstrip(\"\\n\")\n",
    "        split=first.split()\n",
    "        score=int(split[-1])\n",
    "        if count==1:\n",
    "            highest=score\n",
    "#             name=split[0]\n",
    "        elif score>highest:\n",
    "            highest=score\n",
    "            name=split[0]\n",
    "        first=f.readline()\n",
    "        count+=1\n",
    "        \n",
    "    print(f\"\\nThe {name} score highest:{highest}\")\n",
    "    print(f\"Totals records: {count}\")"
   ]
  },
  {
   "cell_type": "code",
   "execution_count": 52,
   "id": "30a3bf2a",
   "metadata": {},
   "outputs": [
    {
     "name": "stdout",
     "output_type": "stream",
     "text": [
      "The number of words in the file: 10\n",
      "The longest word in the file 'BigElephant' with a length of 11.\n",
      "The average length of the words in the file: 7.5\n"
     ]
    }
   ],
   "source": [
    "#.8  COMPLETE\n",
    "with open(\"file8.txt\",\"r\")as f:\n",
    "    highest=0\n",
    "    name=\"\"\n",
    "    total=0\n",
    "    for index,r in enumerate(f,start=1):\n",
    "        r=r.rstrip(\"\\n\")\n",
    "        length=len(r)\n",
    "        if index==1:\n",
    "            highest=length\n",
    "            name=r\n",
    "        elif length>highest:\n",
    "            highest=length\n",
    "            name=r\n",
    "        total+=length\n",
    "#     print(name)\n",
    "        \n",
    "    print(f\"The number of words in the file: {index}\")\n",
    "    print(f\"The longest word in the file '{name}' with a length of {highest}.\")\n",
    "    print(f\"The average length of the words in the file: {total/count}\")"
   ]
  },
  {
   "cell_type": "code",
   "execution_count": 54,
   "id": "7e5cd5d0",
   "metadata": {},
   "outputs": [
    {
     "name": "stdout",
     "output_type": "stream",
     "text": [
      "20.0\n"
     ]
    }
   ],
   "source": [
    "#for 6 question\n",
    "\n",
    "x=[10,20,30]\n",
    "total=0\n",
    "for i in x:\n",
    "    total+=i\n",
    "print(total/len(x))"
   ]
  },
  {
   "cell_type": "code",
   "execution_count": null,
   "id": "3672821b",
   "metadata": {},
   "outputs": [],
   "source": []
  }
 ],
 "metadata": {
  "kernelspec": {
   "display_name": "Python 3 (ipykernel)",
   "language": "python",
   "name": "python3"
  },
  "language_info": {
   "codemirror_mode": {
    "name": "ipython",
    "version": 3
   },
   "file_extension": ".py",
   "mimetype": "text/x-python",
   "name": "python",
   "nbconvert_exporter": "python",
   "pygments_lexer": "ipython3",
   "version": "3.11.5"
  }
 },
 "nbformat": 4,
 "nbformat_minor": 5
}
