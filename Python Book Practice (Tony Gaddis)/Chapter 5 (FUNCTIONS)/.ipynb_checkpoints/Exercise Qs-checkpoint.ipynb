{
 "cells": [
  {
   "cell_type": "markdown",
   "id": "8c9f8065",
   "metadata": {},
   "source": [
    "# ALGORITHMS"
   ]
  },
  {
   "cell_type": "code",
   "execution_count": 1,
   "id": "be84c5e4",
   "metadata": {},
   "outputs": [
    {
     "name": "stdout",
     "output_type": "stream",
     "text": [
      "1 3.4\n",
      "0 0\n",
      "1 3.4\n"
     ]
    }
   ],
   "source": [
    "#.4\n",
    "\n",
    "def main(): \n",
    "    x=1\n",
    "    y = 3.4\n",
    "    print(x, y) \n",
    "    change_us(x, y) \n",
    "    print(x, y)\n",
    "def change_us(a, b): \n",
    "    a=0\n",
    "    b=0             #THAT SHOW SCOPE OF VARIABLE MADE INSIDE \n",
    "    print(a, b)      #ONE FUNCTION CANNOT BE ACCESED IN ANOTHER ONE\n",
    "main()"
   ]
  },
  {
   "cell_type": "code",
   "execution_count": 1,
   "id": "1951e82c",
   "metadata": {},
   "outputs": [
    {
     "name": "stdout",
     "output_type": "stream",
     "text": [
      "18\n"
     ]
    }
   ],
   "source": [
    "#.6\n",
    "\n",
    "from random import randint as r\n",
    "def random():\n",
    "    rand=r(1,100)\n",
    "    print(rand)\n",
    "        \n",
    "random()"
   ]
  },
  {
   "cell_type": "code",
   "execution_count": 3,
   "id": "b9dd79d8",
   "metadata": {},
   "outputs": [
    {
     "name": "stdout",
     "output_type": "stream",
     "text": [
      "enter some number90\n",
      "45.0\n",
      "45.0\n"
     ]
    }
   ],
   "source": [
    "#.7\n",
    "\n",
    "def half(n):\n",
    "    return n/2\n",
    "\n",
    "number=float(input(\"enter some number\"))\n",
    "print(half(number))    #USE THIS SHORTCUT INSTEAD OF BELOW ONE\n",
    "# result=half(number)\n",
    "# print(result)"
   ]
  },
  {
   "cell_type": "code",
   "execution_count": 4,
   "id": "bbc4ff55",
   "metadata": {},
   "outputs": [
    {
     "name": "stdout",
     "output_type": "stream",
     "text": [
      "64\n"
     ]
    }
   ],
   "source": [
    "#.8\n",
    "\n",
    "def cube(num):\n",
    "    return num*num*num\n",
    "\n",
    "result=cube(4)\n",
    "print(result)"
   ]
  },
  {
   "cell_type": "code",
   "execution_count": 7,
   "id": "36c467c9",
   "metadata": {},
   "outputs": [
    {
     "name": "stdout",
     "output_type": "stream",
     "text": [
      "enter some number6\n",
      "60.0\n"
     ]
    }
   ],
   "source": [
    "#.9\n",
    "\n",
    "def times_ten(n):\n",
    "    return n*10\n",
    "\n",
    "num=float(input(\"enter some number\"))\n",
    "print(times_ten(num))\n"
   ]
  },
  {
   "cell_type": "code",
   "execution_count": 2,
   "id": "ffd3b265",
   "metadata": {},
   "outputs": [
    {
     "name": "stdout",
     "output_type": "stream",
     "text": [
      "True\n",
      "False\n"
     ]
    }
   ],
   "source": [
    "#.10\n",
    "\n",
    "def is_valid(n,m):\n",
    "    return len(n)<=m\n",
    "print(is_valid(\"yes\",7))\n",
    "print(is_valid(\"apple\",3))"
   ]
  },
  {
   "cell_type": "markdown",
   "id": "1f498974",
   "metadata": {},
   "source": [
    "# PROGRAMS"
   ]
  },
  {
   "cell_type": "code",
   "execution_count": 3,
   "id": "e835be28",
   "metadata": {},
   "outputs": [
    {
     "name": "stdout",
     "output_type": "stream",
     "text": [
      "Enter distance in kms: 90\n",
      "55.925999999999995\n"
     ]
    }
   ],
   "source": [
    "#.1\n",
    "\n",
    "distance=float(input(\"Enter distance in kms: \"))\n",
    "def main(d):\n",
    "    return d*0.6214\n",
    "print(main(distance))  "
   ]
  },
  {
   "cell_type": "code",
   "execution_count": 5,
   "id": "2ace0f0f",
   "metadata": {},
   "outputs": [
    {
     "name": "stdout",
     "output_type": "stream",
     "text": [
      "Enter a word: hi\n",
      "enter repeation number: 3\n",
      "hihihi"
     ]
    }
   ],
   "source": [
    "#.2\n",
    "word=input(\"Enter a word: \")\n",
    "integer=int(input(\"enter repeation number: \"))\n",
    "count=1\n",
    "def repeat(s,i):\n",
    "    print(s,end=\"\")\n",
    "    \n",
    "while integer>=count:\n",
    "    repeat(word,integer)\n",
    "    count+=1\n",
    "    "
   ]
  },
  {
   "cell_type": "code",
   "execution_count": 6,
   "id": "96de26c9",
   "metadata": {},
   "outputs": [
    {
     "name": "stdout",
     "output_type": "stream",
     "text": [
      "Addition Test\n",
      "\n",
      "Question 1\n",
      "9 + 7 = _____\n",
      "\n",
      "Question 2\n",
      "5 + 7 = _____\n",
      "\n",
      "Question 3\n",
      "2 + 5 = _____\n",
      "\n",
      "Question 4\n",
      "10 + 10 = _____\n",
      "\n",
      "Question 5\n",
      "7 + 6 = _____\n",
      "\n"
     ]
    }
   ],
   "source": [
    "#.11\n",
    "\n",
    "import random\n",
    "\n",
    "def generate_addition_test():\n",
    "    print(\"Addition Test\\n\")\n",
    "    for question_number in range(1, 6):\n",
    "        num1 = random.randint(1, 10)\n",
    "        num2 = random.randint(1, 10)\n",
    "        print(\"Question\", question_number)\n",
    "        print(num1, \"+\", num2, \"= _____\\n\")\n",
    "\n",
    "generate_addition_test()\n"
   ]
  },
  {
   "cell_type": "code",
   "execution_count": 7,
   "id": "43c65332",
   "metadata": {},
   "outputs": [
    {
     "name": "stdout",
     "output_type": "stream",
     "text": [
      "enter first number4\n",
      "enter second number7\n",
      "7.0\n"
     ]
    }
   ],
   "source": [
    "#.12\n",
    "\n",
    "a=float(input(\"enter first number\"))\n",
    "b=float(input(\"enter second number\"))\n",
    "def maxn(a,b):\n",
    "    if a>b:\n",
    "        print(a)\n",
    "    elif b>a:\n",
    "        print(b)\n",
    "maxn(a,b)"
   ]
  },
  {
   "cell_type": "code",
   "execution_count": 10,
   "id": "3392b28c",
   "metadata": {},
   "outputs": [
    {
     "name": "stdout",
     "output_type": "stream",
     "text": [
      "Time (s)  Distance (m)\n",
      "-----------------------\n",
      "   1       4.90\n",
      "   2       19.60\n",
      "   3       44.10\n",
      "   4       78.40\n",
      "   5       122.50\n",
      "   6       176.40\n",
      "   7       240.10\n",
      "   8       313.60\n",
      "   9       396.90\n",
      "  10       490.00\n"
     ]
    }
   ],
   "source": [
    "#.13\n",
    "\n",
    "def falling_distance(time):\n",
    "    g = 9.8  \n",
    "    distance = 0.5 * g * time**2\n",
    "\n",
    "    return distance\n",
    "\n",
    "def main():\n",
    "    print(\"Time (s)  Distance (m)\")\n",
    "    print(\"-----------------------\")\n",
    "    for time in range(1, 11):\n",
    "        distance = falling_distance(time)\n",
    "        print(f\"{time:4}       {distance:.2f}\")\n",
    "\n",
    "main()\n"
   ]
  },
  {
   "cell_type": "code",
   "execution_count": 24,
   "id": "9610f859",
   "metadata": {},
   "outputs": [
    {
     "name": "stdout",
     "output_type": "stream",
     "text": [
      "Even numbers:  49\n",
      "Odd numbers:  52\n"
     ]
    }
   ],
   "source": [
    "#.16\n",
    "from random import randint as r\n",
    "# odd=0\n",
    "# even=0\n",
    "def counter(odd=0,even=0):\n",
    "    for x in range(101):\n",
    "        number=r(1,100)\n",
    "        if number%2==0:\n",
    "            even+=1\n",
    "        elif number%2!=0:\n",
    "            odd+=1\n",
    "    print(\"Even numbers: \",even)\n",
    "    print(\"Odd numbers: \",odd)\n",
    "    \n",
    "counter(odd,even)\n",
    "    "
   ]
  },
  {
   "cell_type": "code",
   "execution_count": null,
   "id": "7446ca03",
   "metadata": {},
   "outputs": [],
   "source": [
    "#.17\n",
    "number=int(input(\"enter a number: \"))    #IRA METHOD\n",
    "def main():\n",
    "    z=isprime(number)\n",
    "    if z:\n",
    "        print(\"Prime number\")\n",
    "    else:\n",
    "        print(\"composite number\")\n",
    "        \n",
    "def isprime(n):\n",
    "    prime=True\n",
    "    for x in range(2,n):\n",
    "        if n%x==0:\n",
    "            prime=False\n",
    "#             break\n",
    "        return prime        \n",
    "\n",
    "main()\n"
   ]
  },
  {
   "cell_type": "code",
   "execution_count": 30,
   "id": "804bde09",
   "metadata": {},
   "outputs": [
    {
     "name": "stdout",
     "output_type": "stream",
     "text": [
      "0 composite number\n",
      "1 composite number\n",
      "2 composite number\n",
      "3 Prime number\n",
      "4 composite number\n",
      "5 Prime number\n",
      "6 composite number\n",
      "7 Prime number\n",
      "8 composite number\n",
      "9 Prime number\n",
      "10 composite number\n",
      "11 Prime number\n",
      "12 composite number\n",
      "13 Prime number\n",
      "14 composite number\n",
      "15 Prime number\n",
      "16 composite number\n",
      "17 Prime number\n",
      "18 composite number\n",
      "19 Prime number\n",
      "20 composite number\n",
      "21 Prime number\n",
      "22 composite number\n",
      "23 Prime number\n",
      "24 composite number\n",
      "25 Prime number\n",
      "26 composite number\n",
      "27 Prime number\n",
      "28 composite number\n",
      "29 Prime number\n",
      "30 composite number\n",
      "31 Prime number\n",
      "32 composite number\n",
      "33 Prime number\n",
      "34 composite number\n",
      "35 Prime number\n",
      "36 composite number\n",
      "37 Prime number\n",
      "38 composite number\n",
      "39 Prime number\n",
      "40 composite number\n",
      "41 Prime number\n",
      "42 composite number\n",
      "43 Prime number\n",
      "44 composite number\n",
      "45 Prime number\n",
      "46 composite number\n",
      "47 Prime number\n",
      "48 composite number\n",
      "49 Prime number\n",
      "50 composite number\n",
      "51 Prime number\n",
      "52 composite number\n",
      "53 Prime number\n",
      "54 composite number\n",
      "55 Prime number\n",
      "56 composite number\n",
      "57 Prime number\n",
      "58 composite number\n",
      "59 Prime number\n",
      "60 composite number\n",
      "61 Prime number\n",
      "62 composite number\n",
      "63 Prime number\n",
      "64 composite number\n",
      "65 Prime number\n",
      "66 composite number\n",
      "67 Prime number\n",
      "68 composite number\n",
      "69 Prime number\n",
      "70 composite number\n",
      "71 Prime number\n",
      "72 composite number\n",
      "73 Prime number\n",
      "74 composite number\n",
      "75 Prime number\n",
      "76 composite number\n",
      "77 Prime number\n",
      "78 composite number\n",
      "79 Prime number\n",
      "80 composite number\n",
      "81 Prime number\n",
      "82 composite number\n",
      "83 Prime number\n",
      "84 composite number\n",
      "85 Prime number\n",
      "86 composite number\n",
      "87 Prime number\n",
      "88 composite number\n",
      "89 Prime number\n",
      "90 composite number\n",
      "91 Prime number\n",
      "92 composite number\n",
      "93 Prime number\n",
      "94 composite number\n",
      "95 Prime number\n",
      "96 composite number\n",
      "97 Prime number\n",
      "98 composite number\n",
      "99 Prime number\n",
      "100 composite number\n"
     ]
    }
   ],
   "source": [
    "# number=int(input(\"enter a number: \"))    #IRA METHOD\n",
    "def main():\n",
    "    for x in range(101):\n",
    "        z=isprime(x)\n",
    "        if z:\n",
    "            print(x,\"Prime number\")\n",
    "        else:\n",
    "            print(x,\"composite number\")\n",
    "        \n",
    "def isprime(n):\n",
    "    prime=True\n",
    "    for y in range(2,n):\n",
    "        if n%y==0:\n",
    "            prime=False\n",
    "            break\n",
    "    return prime        \n",
    "\n",
    "main()"
   ]
  },
  {
   "cell_type": "code",
   "execution_count": null,
   "id": "b6069800",
   "metadata": {},
   "outputs": [],
   "source": [
    "#.19"
   ]
  },
  {
   "cell_type": "code",
   "execution_count": 1,
   "id": "aa85fb51",
   "metadata": {},
   "outputs": [
    {
     "name": "stdout",
     "output_type": "stream",
     "text": [
      "Number is being generated\n",
      "####\n",
      "Done\n",
      "\n",
      "Enter your guess: 56\n",
      "\n",
      "Your guess number is smaller.\n",
      "\n",
      "Enter your guess: 80\n",
      "\n",
      "Your guess number is smaller.\n",
      "\n",
      "Enter your guess: 90\n",
      "\n",
      "Your guess is larger.\n",
      "\n",
      "Enter your guess: 85\n",
      "\n",
      "Your guess number is smaller.\n",
      "\n",
      "Enter your guess: 87\n",
      "\n",
      "Your guess number is smaller.\n",
      "\n",
      "Enter your guess: 89\n",
      "\n",
      "Your guess is larger.\n",
      "\n",
      "Enter your guess: 88\n",
      "\n",
      "You entered correct guess which is 88\n"
     ]
    }
   ],
   "source": [
    "#.20\n",
    "\n",
    "import random\n",
    "import time\n",
    "\n",
    "count=1\n",
    "print(\"Number is being generated\")\n",
    "while count<5:\n",
    "    print(\"#\", end='')\n",
    "    time.sleep(0.1)\n",
    "    count+=1\n",
    "print(\"\\nDone\\n\")\n",
    "\n",
    "num=random.randint(0,100)\n",
    "# print(num)\n",
    "guess=0\n",
    "while guess!=num:\n",
    "#     print(\"\\nenter your guess\")\n",
    "    guess1=int(input(\"Enter your guess: \"))\n",
    "    if guess1>100 or guess1<0:\n",
    "        print(\"Number out of range.\")\n",
    "        break\n",
    "    elif guess1<num:\n",
    "        print(\"\\nYour guess number is smaller.\\n\")\n",
    "    elif guess1>num:\n",
    "        print(\"\\nYour guess is larger.\\n\")\n",
    "    elif guess1==num:\n",
    "        print(\"\\nYou entered correct guess which is\",guess1)\n",
    "        break\n",
    "#     guess+=1       \n",
    "\n",
    "#GUESS CREATE PROBLEM WHEN RANDOM IS LESS NO AND BECOME EQUAL TO THAT, DUE TO WHICH PROGRAM STOPS WITHOUT OUTPUT\n",
    "#IT SHOULD BE INFINITE LOOP ONE \n",
    "    \n",
    "    \n",
    "\n"
   ]
  },
  {
   "cell_type": "code",
   "execution_count": null,
   "id": "0cc409a3",
   "metadata": {},
   "outputs": [],
   "source": []
  }
 ],
 "metadata": {
  "kernelspec": {
   "display_name": "Python 3 (ipykernel)",
   "language": "python",
   "name": "python3"
  },
  "language_info": {
   "codemirror_mode": {
    "name": "ipython",
    "version": 3
   },
   "file_extension": ".py",
   "mimetype": "text/x-python",
   "name": "python",
   "nbconvert_exporter": "python",
   "pygments_lexer": "ipython3",
   "version": "3.11.5"
  }
 },
 "nbformat": 4,
 "nbformat_minor": 5
}
